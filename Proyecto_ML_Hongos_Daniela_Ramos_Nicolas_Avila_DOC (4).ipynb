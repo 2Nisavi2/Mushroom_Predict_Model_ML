{
  "cells": [
    {
      "cell_type": "markdown",
      "metadata": {
        "id": "wXzWhnLDuhGV"
      },
      "source": [
        "<div style=\"text-align: center\">\n",
        "<img src=\"https://www.unbosque.edu.co/sites/default/files/logo.png\" width=\"400px\"/></div>\n",
        "\n",
        "## Programa de Matemáticas\n",
        "\n",
        "**Maestría en Estadística Aplicada y Ciencia de Datos**\n",
        "\n",
        "**Machine Learning: Proyecto Final**\n",
        "\n",
        "**Modelo de Predicción de Hongos Comestibles y Venenosos**\n",
        "\n",
        "\n",
        "Nombres: Daniela Lucia Ramos Betín, Diego Nicolás Ávila Moreno (davilam@unbosque.edu.co)"
      ]
    },
    {
      "cell_type": "code",
      "execution_count": 1,
      "metadata": {
        "id": "JnUBDV37cMTi"
      },
      "outputs": [],
      "source": [
        "#Instalar para correcto funcionamiento\n",
        "\n",
        "#!pip install pycaret\n",
        "#!pip install catboost\n",
        "#!pip install ppscore\n",
        "#!pip install shap\n",
        "#!pip install missingno"
      ]
    },
    {
      "cell_type": "markdown",
      "metadata": {
        "id": "WzGXJmj2uhGX"
      },
      "source": [
        "# 1. Resumen Ejecutivo"
      ]
    },
    {
      "cell_type": "markdown",
      "metadata": {
        "id": "Ng0_pFPIxJ6f"
      },
      "source": [
        "El conjunto de datos \"Hongos Venenosos\" de ICS UCI es una *colección de datos sobre diferentes características de hongos venenosos y comestibles*. El objetivo de este conjunto de datos es clasificar los hongos en venenosos o comestibles en función de estas características. En este caso, el conjunto de datos contiene un total de 8124 registros y 23 variables. Los atributos incluyen características como la forma del sombrero del hongo, la superficie del sombrero, la textura de la lámina, el color de la espora, etc. El target de clase es la clasificación del hongo como venenoso o comestible.\n",
        "\n",
        "Para este proyecto, el conjunto de datos fue seleccionado por ser adecuado para la creación de modelos de clasificación en Python, con el objetivo de *predecir si un hongo es venenoso o comestible en función de sus características*, para eso se utilizaran algoritmos de clasificación supervisada, como Regresión Logística, Árboles de Decisión, Random Forest, etc.\n",
        "\n",
        "Antes de construir el modelo, realizaremos tareas de preprocesamiento de datos, como la eliminación de características irrelevantes, la transformación de variables categóricas en variables numéricas, la normalización de datos, etc.\n",
        "Es importante tener en cuenta que, aunque el conjunto de datos está limpio, es adecuado realizar cierta exploración y análisis para identificar patrones y relaciones entre las diferentes características y la clase de hongo. \n",
        "\n",
        "Tambien, durante el proceso se realiza validacion cruzada, analisis de correlaciones e implementacion de la libreria pycaret.\n",
        "\n",
        "Como resultados se obtienen 3 modelo de excelentes metricas de clasificación, testeado en 3 clases de hongos no pertenecientes al dataset como lo son <i>tricholoma equestre</i>, <i>amanita bisporigera</i>, y <i>pleurotus ostreatus</i>.\n",
        "\n"
      ]
    },
    {
      "cell_type": "markdown",
      "metadata": {
        "id": "qNZB0zoGuhGX"
      },
      "source": [
        "# 2. Descripción del Problema\n",
        "\n",
        "Desde el desarrollo industrial alimenticio, la obtención de recursos que asegure obtener alimentos nutritivos e igualmente seguros para la población ha sido un aspecto de gran relevancia. De manera más puntual la industria fungicultora ha desarrollado desde hace varios siglos una pocisión importante en este aspecto. Pero la naturaleza de los hongos es muy variada, por lo que la existencia de frutos nutritivos como algunos de naturaleza más nociva ha llevado a micologos, biologos, industriales y demás profesionales a la generación de métodos de detección alrededor del hongo que permitan detectar su naturaleza.\n",
        "\n",
        "La detección de hongos comestibles o venenosos no solamente es una manera de seleccionar aquellas especies que pueden ser usadas como materia prima de industrias alimenticias, sino tambien como un referente para investigación científica que permita encontrar en las caracteristicas químicas del hongo posibles soluciones al entorno de la salud y la medicina como lo fue alguna vez la creación de la penicilina."
      ]
    },
    {
      "cell_type": "markdown",
      "metadata": {
        "id": "LsxQ5oQuuhGY"
      },
      "source": [
        "## 2.1 Problema de Negocio\n",
        "\n",
        "Desde el punto de vista industrial, se desea detectar la naturaleza de ciertos hongos basado en ciertas propiedades físicas de tal amnera que se puedan categorizarce entre comestibles y venenosos."
      ]
    },
    {
      "cell_type": "markdown",
      "metadata": {
        "id": "na_r5aWcuhGY"
      },
      "source": [
        "## 2.2 Aproximación Desde la Analítica de Datos\n",
        "\n",
        "El modelo a desarrollar permitiría a investiadores de campo como micólogos o biologos a detectar rapidamente según las propiedades físicas del hongo encontrado si este es comestible o por el contrario venenoso. En ortros terminos, el modelo clasificará la naturaleza del hongo con base a su conformación anatómica."
      ]
    },
    {
      "cell_type": "markdown",
      "metadata": {
        "id": "nc3-ihq2uhGZ"
      },
      "source": [
        "## 2.3 Origen de los Datos\n",
        "\n",
        "Es importante aclarar que desde el contexto laboral de los diseñadores de este modelo, es dificil extraer información desde sus lugares de trabajo. Por esta razón se buscaron en diversas fuentes de datos que permitan desarrollar este proyecto final de clase. En este caso decidimos tomar una base de datos que contiene la información de ciertos registros de hongos encontrados a lo largo de los Estados Unidos y que tiene como variables diversos descriptivos de la antomía de los hongos encontrados.\n",
        "\n",
        "Aunque esta base hace parte de un registro que lleva varios años sin actualizar, sabemos que la naturaleza de los hongos tiende a ser la misma sin importar el tiempo. Por esta razón esta base aún puede ser una fuente de datos importante si se quiere aplicar este modelo en la vida real y que sea posible implementar dicho modelo a procesos de predicción de nuevas especies que se encuentren a futuro."
      ]
    },
    {
      "cell_type": "markdown",
      "metadata": {
        "id": "5OMCmWr4uhGZ"
      },
      "source": [
        "## 2.4 Métricas de Desempeño\n",
        "\n",
        "El modelo se medirá a partir de una sola métrica en especifico que es la exactitud lograda por cada modelo diseñado. Esta deberá superar el 80% con base a la data de prueba que se aplique.\n",
        "\n",
        "En el caso de las métricas del negocio, se espera que el modelo logre generar la predicción adecuada del tipo de hongo encontrado, teniendo en cuenta la métrica de exactitud establecida en el diseño del modelo.\n",
        "\n",
        "En ese orden de ideas, se espera que el modelo tenga una exactitud del 80% o mayor para predecir si un hongo encontrado puede ser comestible o venenoso."
      ]
    },
    {
      "cell_type": "markdown",
      "metadata": {
        "id": "3ArE6Xn4uhGZ"
      },
      "source": [
        "# 3. Datos"
      ]
    },
    {
      "cell_type": "code",
      "execution_count": 2,
      "metadata": {
        "id": "PpHcn3vYzoze"
      },
      "outputs": [],
      "source": [
        "#Librerias a importar para el proyecto \n",
        "import pandas as pd\n",
        "from sklearn.impute import SimpleImputer\n",
        "import missingno as msno\n",
        "import seaborn as sns \n",
        "from sklearn.pipeline import Pipeline\n",
        "from sklearn.svm import SVC\n",
        "from sklearn.metrics import roc_curve,RocCurveDisplay\n",
        "from sklearn.discriminant_analysis import LinearDiscriminantAnalysis\n",
        "from sklearn.preprocessing import StandardScaler,LabelEncoder, OneHotEncoder\n",
        "from sklearn.model_selection import GridSearchCV,RandomizedSearchCV\n",
        "from sklearn.decomposition import PCA\n",
        "from sklearn.metrics import confusion_matrix, ConfusionMatrixDisplay,roc_curve,RocCurveDisplay,roc_curve\n",
        "from sklearn.metrics import accuracy_score, precision_score, recall_score\n",
        "from sklearn import neighbors\n",
        "from sklearn.model_selection import cross_val_score,cross_val_predict,train_test_split\n",
        "import catboost\n",
        "from sklearn.compose import ColumnTransformer\n",
        "import pycaret\n",
        "import ppscore as pps\n",
        "from sklearn.tree import DecisionTreeClassifier, plot_tree\n",
        "from pycaret.classification import *\n",
        "\n",
        "import warnings\n",
        "from pandas.core.common import SettingWithCopyWarning\n",
        "\n",
        "warnings.simplefilter(action='ignore', category=SettingWithCopyWarning)"
      ]
    },
    {
      "cell_type": "code",
      "execution_count": 3,
      "metadata": {
        "colab": {
          "base_uri": "https://localhost:8080/",
          "height": 0
        },
        "id": "S1vZtS0mdAIz",
        "outputId": "7dfdc4e5-dd24-4d3c-e36a-c47c38e5db3f"
      },
      "outputs": [
        {
          "output_type": "stream",
          "name": "stdout",
          "text": [
            "Mounted at /content/drive\n"
          ]
        }
      ],
      "source": [
        "from google.colab import drive\n",
        "drive.mount('/content/drive')"
      ]
    },
    {
      "cell_type": "markdown",
      "metadata": {
        "id": "gy0fT26EuhGa"
      },
      "source": [
        "## 3.1 Datos Originales\n",
        "\n",
        "La data se caracteriza por tener un total de **8124 registros** \n",
        "y **23 columnas** que representan diversas características anatómicas de los hongos encontrados. Las variables de esta base son:\n",
        "\n",
        "- **POI:** si el hongo es venenoso (P) o comestible (e)\n",
        "- **CAP_SHAPE:** forma del hongo, más exactamente la forma del píleo o sombrero. Pueden ser bell=b, conical=c, convex=x, flat=f, knobbed=k, sunken=s\n",
        "- **CAP_SURFACE:** forma de la superficie del píleo o sombreo. Puese ser fibrous=f, grooves=g, scaly=y, smooth=s\n",
        "- **CAP_COLOR:** color del píleo o sombrero. Puede ser brown=n, buff=b, cinnamon=c, gray=g, green=r, pink=p, purple=u, red=e, white=w, yellow=y\n",
        "- **BRUISES:** indica si el hongo presenta mancha similares a morados como golpes. Puede ser sí (t) o no (f)\n",
        "- **ODOR:**si el hongo presenta algú tipo de olor. Puede ser almond=a, anise=l, creosote=c, fishy=y, foul=f, musty=m, none=n, pungent=p, spicy=s\n",
        "- **G_ATTA:** indica la configuración de las laminas del hongo. Puede ser attached=a, descending=d, free=f, notched=n\n",
        "- **G_SPA:** espacio entre las laminas del hongo. Puede ser close=c,crowded=w,distant=d\n",
        "- **G_SIZE:** tamaño de las laminas. Puede ser broad=b, narrow=n\n",
        "- **G_COLOR:** color de las laminas. Puede ser black=k, brown=n, buff=b, chocolate=h, gray=g, green=r, orange=o, pink=p, purple=u, red=e, white=w, yellow=y\n",
        "- **S_SHAPE:** forma del tallo. Puede ser enlarging=e,tapering=t\n",
        "- **S_ROOT:** raiz del hongo. Puede ser bulbous=b,club=c,cup=u,equal=e,rhizomorphs=z,rooted=r\n",
        "- **S_SURF_AB:** tipo de superficie del tallo por encima del anillo del hongo. Puede ser fibrous=f, scaly=y, silky=k, smooth=s\n",
        "- **S_SUFR_BE:** tipo de superficie del tallo por debajo del anillo del hongo. Puede ser fibrous=f, scaly=y, silky=k, smooth=s\n",
        "- **S_COLOR_AB:** color del tallo por encima del anillo del hongo. Puede ser brown=n, buff=b, cinnamon=c, gray=g, orange=o, pink=p, red=e, white=w, yellow=y\n",
        "- **S_COLOR_BE:** color del tallo por debajo del anillo del hongo. Puede ser brown=n, buff=b, cinnamon=c, gray=g, orange=o, pink=p, red=e, white=w, yellow=y\n",
        "- **VEIL_T:** tipo de velo del hongo. Puede ser partial=p, universal=u\n",
        "- **VEIL_C:** color del velo. Puede ser brown=n, orange=o, white=w, yellow=y\n",
        "- **RING_N:** número de anillos. Puede ser none=n, one=o, two=t\n",
        "- **RING_T:** tipo de anillo. Puede ser cobwebby=c, evanescent=e, flaring=f, large=l, none=n, pendant=p, sheathing=s, zone=z\n",
        "- **SPORE:** color de la espora del hongo. Puede ser black=k, brown=n, buff=b, chocolate=h, green=r, orange=o, purple=u, white=w, yellow=y\n",
        "- **POP:** tipo de población del hongo al momento de encontrarlo. Puede ser abundant=a, clustered=c, numerous=n, scattered=s, several=v, solitary=y\n",
        "- **HAB:** habitat donde fue encontrado en holgo: grasses=g, leaves=l, meadows=m, paths=p, urban=u, waste=w, woods=d\n",
        "\n",
        "Como parte del ejercicio de contextualización de la data que alimentará el modelo, dejamos una guía de la anatomía de los hongos."
      ]
    },
    {
      "cell_type": "markdown",
      "metadata": {
        "id": "crYnt-JquhGa"
      },
      "source": [
        "<img src=\"https://cdn.shopify.com/s/files/1/0031/4756/3081/files/Anatomy3.jpg?v=1596220270\" width=\"400px\"/>\n",
        "*Img 1. Anatómia de un Hongo.*"
      ]
    },
    {
      "cell_type": "markdown",
      "metadata": {
        "id": "578vHjf6uhGa"
      },
      "source": [
        "Todas las variables como se pueden ver desde su descripción son catgóricas. La variable objetivo del modelo será la variable 'POI'. Desde el proceso de preparación de los datos se detectó que existia una variable con datos en vacio, más exactamente 'S_ROOT', la cual indica la naturaleza de la raíz del hongo."
      ]
    },
    {
      "cell_type": "markdown",
      "metadata": {
        "id": "tUboMqPluhGb"
      },
      "source": [
        "El formato del archivo es un txt de 363 Kb. y se trata de una unica base. Para su acceso, dicha base es pública y puede encontrarse desde este [enlace](https://archive.ics.uci.edu/ml/datasets/mushroom). Pero aún siendo pública puede tomarse como base para el diseño de un modelo clasificador como el que se diseñó pues la muestra se trata de un trabajo realmente realizado en Estados Unidos con el objetivo de clasificar diversas especies de hongos."
      ]
    },
    {
      "cell_type": "markdown",
      "metadata": {
        "id": "kSJ916UTuhGb"
      },
      "source": [
        "## 3.2 Datasets\n",
        "\n",
        "Para el proceso de entrenamiento y validación de datos la base se particionó en una proporción 70% y 30% respectivamente. Dentro del desarrollo de diseño de los distintos modelos a evaluar se realizó el proceso de validación cruzada, la cual se aplico sobre ese 70% de datos de entrenamiento. Esto se hizo con el objetivo de mantener un grupo de datos que permitiera hacer el proceso de validación del modelo para identificar posibles sobreajustes."
      ]
    },
    {
      "cell_type": "markdown",
      "metadata": {
        "id": "dn4GENOLuhGb"
      },
      "source": [
        "## 3.3 Descriptiva\n",
        "**Importante: como parte del entregable de este proyecto enviamos la base de datos del modelo.**"
      ]
    },
    {
      "cell_type": "markdown",
      "metadata": {
        "id": "E7PeL2xPuhGb"
      },
      "source": [
        "El proceso de descriptivos hizo parte del diseño del modelo. Esto se debe a que dentro del proceso de desarrollo de modelos de machine learning es importante identificar que variables o parametros pueden estár muy correlacionados. Las correlaciones altas pueden generar ruido en el modelo a diseñar.\n",
        "\n",
        "Al tener información categorizada es posible ver correlaciones de los parametros de las bases por médio de ténicas gráficas. Al ser la variable 'POI' (comestible o venenosos) la variable objetivo, diseñamos diversos descriptivos que nos permitieran ver el coportamiento de esta variable con las demás variables anatómicas y al mismo tiempo ver si entre variables existian comportamientos similares que pueden dar indicios de correlación. Desde este analisis fue que se realizó el proceso de selección de variables a utilizar para el entrenamiento del modelo.\n",
        "\n",
        "IMPORTANTE: los procesos de diseño de descriptivos se pueden ver desde el archivo de código adjunto a la entrega del proyecto. De todas maneras se dejan explicitos dentro de este documento lós códigos que contienen los datos más importantes de esta actividad."
      ]
    },
    {
      "cell_type": "code",
      "execution_count": 4,
      "metadata": {
        "colab": {
          "base_uri": "https://localhost:8080/",
          "height": 331
        },
        "id": "rEczncKOuhGc",
        "outputId": "a3e511f4-de6c-4ac2-c198-adeb86687fbe"
      },
      "outputs": [
        {
          "output_type": "execute_result",
          "data": {
            "text/plain": [
              "  POI CAP_SHAPE CAP_SURFACE CAP_COLOR BRUISES ODOR G_ATTA G_SPA G_SIZE  \\\n",
              "0   p         x           s         n       t    p      f     c      n   \n",
              "1   e         x           s         y       t    a      f     c      b   \n",
              "2   e         b           s         w       t    l      f     c      b   \n",
              "3   p         x           y         w       t    p      f     c      n   \n",
              "4   e         x           s         g       f    n      f     w      b   \n",
              "5   e         x           y         y       t    a      f     c      b   \n",
              "\n",
              "  G_COLOR  ... S_SURF_BE S_COLOR_AB S_COLOR_BE VEIL_T VEIL_C RING_N RING_T  \\\n",
              "0       k  ...         s          w          w      p      w      o      p   \n",
              "1       k  ...         s          w          w      p      w      o      p   \n",
              "2       n  ...         s          w          w      p      w      o      p   \n",
              "3       n  ...         s          w          w      p      w      o      p   \n",
              "4       k  ...         s          w          w      p      w      o      e   \n",
              "5       n  ...         s          w          w      p      w      o      p   \n",
              "\n",
              "  SPORE POP HAB  \n",
              "0     k   s   u  \n",
              "1     n   n   g  \n",
              "2     n   n   m  \n",
              "3     k   s   u  \n",
              "4     n   a   g  \n",
              "5     k   n   g  \n",
              "\n",
              "[6 rows x 23 columns]"
            ],
            "text/html": [
              "\n",
              "  <div id=\"df-0d769ec6-a7fc-4e81-a1af-77923ca467be\">\n",
              "    <div class=\"colab-df-container\">\n",
              "      <div>\n",
              "<style scoped>\n",
              "    .dataframe tbody tr th:only-of-type {\n",
              "        vertical-align: middle;\n",
              "    }\n",
              "\n",
              "    .dataframe tbody tr th {\n",
              "        vertical-align: top;\n",
              "    }\n",
              "\n",
              "    .dataframe thead th {\n",
              "        text-align: right;\n",
              "    }\n",
              "</style>\n",
              "<table border=\"1\" class=\"dataframe\">\n",
              "  <thead>\n",
              "    <tr style=\"text-align: right;\">\n",
              "      <th></th>\n",
              "      <th>POI</th>\n",
              "      <th>CAP_SHAPE</th>\n",
              "      <th>CAP_SURFACE</th>\n",
              "      <th>CAP_COLOR</th>\n",
              "      <th>BRUISES</th>\n",
              "      <th>ODOR</th>\n",
              "      <th>G_ATTA</th>\n",
              "      <th>G_SPA</th>\n",
              "      <th>G_SIZE</th>\n",
              "      <th>G_COLOR</th>\n",
              "      <th>...</th>\n",
              "      <th>S_SURF_BE</th>\n",
              "      <th>S_COLOR_AB</th>\n",
              "      <th>S_COLOR_BE</th>\n",
              "      <th>VEIL_T</th>\n",
              "      <th>VEIL_C</th>\n",
              "      <th>RING_N</th>\n",
              "      <th>RING_T</th>\n",
              "      <th>SPORE</th>\n",
              "      <th>POP</th>\n",
              "      <th>HAB</th>\n",
              "    </tr>\n",
              "  </thead>\n",
              "  <tbody>\n",
              "    <tr>\n",
              "      <th>0</th>\n",
              "      <td>p</td>\n",
              "      <td>x</td>\n",
              "      <td>s</td>\n",
              "      <td>n</td>\n",
              "      <td>t</td>\n",
              "      <td>p</td>\n",
              "      <td>f</td>\n",
              "      <td>c</td>\n",
              "      <td>n</td>\n",
              "      <td>k</td>\n",
              "      <td>...</td>\n",
              "      <td>s</td>\n",
              "      <td>w</td>\n",
              "      <td>w</td>\n",
              "      <td>p</td>\n",
              "      <td>w</td>\n",
              "      <td>o</td>\n",
              "      <td>p</td>\n",
              "      <td>k</td>\n",
              "      <td>s</td>\n",
              "      <td>u</td>\n",
              "    </tr>\n",
              "    <tr>\n",
              "      <th>1</th>\n",
              "      <td>e</td>\n",
              "      <td>x</td>\n",
              "      <td>s</td>\n",
              "      <td>y</td>\n",
              "      <td>t</td>\n",
              "      <td>a</td>\n",
              "      <td>f</td>\n",
              "      <td>c</td>\n",
              "      <td>b</td>\n",
              "      <td>k</td>\n",
              "      <td>...</td>\n",
              "      <td>s</td>\n",
              "      <td>w</td>\n",
              "      <td>w</td>\n",
              "      <td>p</td>\n",
              "      <td>w</td>\n",
              "      <td>o</td>\n",
              "      <td>p</td>\n",
              "      <td>n</td>\n",
              "      <td>n</td>\n",
              "      <td>g</td>\n",
              "    </tr>\n",
              "    <tr>\n",
              "      <th>2</th>\n",
              "      <td>e</td>\n",
              "      <td>b</td>\n",
              "      <td>s</td>\n",
              "      <td>w</td>\n",
              "      <td>t</td>\n",
              "      <td>l</td>\n",
              "      <td>f</td>\n",
              "      <td>c</td>\n",
              "      <td>b</td>\n",
              "      <td>n</td>\n",
              "      <td>...</td>\n",
              "      <td>s</td>\n",
              "      <td>w</td>\n",
              "      <td>w</td>\n",
              "      <td>p</td>\n",
              "      <td>w</td>\n",
              "      <td>o</td>\n",
              "      <td>p</td>\n",
              "      <td>n</td>\n",
              "      <td>n</td>\n",
              "      <td>m</td>\n",
              "    </tr>\n",
              "    <tr>\n",
              "      <th>3</th>\n",
              "      <td>p</td>\n",
              "      <td>x</td>\n",
              "      <td>y</td>\n",
              "      <td>w</td>\n",
              "      <td>t</td>\n",
              "      <td>p</td>\n",
              "      <td>f</td>\n",
              "      <td>c</td>\n",
              "      <td>n</td>\n",
              "      <td>n</td>\n",
              "      <td>...</td>\n",
              "      <td>s</td>\n",
              "      <td>w</td>\n",
              "      <td>w</td>\n",
              "      <td>p</td>\n",
              "      <td>w</td>\n",
              "      <td>o</td>\n",
              "      <td>p</td>\n",
              "      <td>k</td>\n",
              "      <td>s</td>\n",
              "      <td>u</td>\n",
              "    </tr>\n",
              "    <tr>\n",
              "      <th>4</th>\n",
              "      <td>e</td>\n",
              "      <td>x</td>\n",
              "      <td>s</td>\n",
              "      <td>g</td>\n",
              "      <td>f</td>\n",
              "      <td>n</td>\n",
              "      <td>f</td>\n",
              "      <td>w</td>\n",
              "      <td>b</td>\n",
              "      <td>k</td>\n",
              "      <td>...</td>\n",
              "      <td>s</td>\n",
              "      <td>w</td>\n",
              "      <td>w</td>\n",
              "      <td>p</td>\n",
              "      <td>w</td>\n",
              "      <td>o</td>\n",
              "      <td>e</td>\n",
              "      <td>n</td>\n",
              "      <td>a</td>\n",
              "      <td>g</td>\n",
              "    </tr>\n",
              "    <tr>\n",
              "      <th>5</th>\n",
              "      <td>e</td>\n",
              "      <td>x</td>\n",
              "      <td>y</td>\n",
              "      <td>y</td>\n",
              "      <td>t</td>\n",
              "      <td>a</td>\n",
              "      <td>f</td>\n",
              "      <td>c</td>\n",
              "      <td>b</td>\n",
              "      <td>n</td>\n",
              "      <td>...</td>\n",
              "      <td>s</td>\n",
              "      <td>w</td>\n",
              "      <td>w</td>\n",
              "      <td>p</td>\n",
              "      <td>w</td>\n",
              "      <td>o</td>\n",
              "      <td>p</td>\n",
              "      <td>k</td>\n",
              "      <td>n</td>\n",
              "      <td>g</td>\n",
              "    </tr>\n",
              "  </tbody>\n",
              "</table>\n",
              "<p>6 rows × 23 columns</p>\n",
              "</div>\n",
              "      <button class=\"colab-df-convert\" onclick=\"convertToInteractive('df-0d769ec6-a7fc-4e81-a1af-77923ca467be')\"\n",
              "              title=\"Convert this dataframe to an interactive table.\"\n",
              "              style=\"display:none;\">\n",
              "        \n",
              "  <svg xmlns=\"http://www.w3.org/2000/svg\" height=\"24px\"viewBox=\"0 0 24 24\"\n",
              "       width=\"24px\">\n",
              "    <path d=\"M0 0h24v24H0V0z\" fill=\"none\"/>\n",
              "    <path d=\"M18.56 5.44l.94 2.06.94-2.06 2.06-.94-2.06-.94-.94-2.06-.94 2.06-2.06.94zm-11 1L8.5 8.5l.94-2.06 2.06-.94-2.06-.94L8.5 2.5l-.94 2.06-2.06.94zm10 10l.94 2.06.94-2.06 2.06-.94-2.06-.94-.94-2.06-.94 2.06-2.06.94z\"/><path d=\"M17.41 7.96l-1.37-1.37c-.4-.4-.92-.59-1.43-.59-.52 0-1.04.2-1.43.59L10.3 9.45l-7.72 7.72c-.78.78-.78 2.05 0 2.83L4 21.41c.39.39.9.59 1.41.59.51 0 1.02-.2 1.41-.59l7.78-7.78 2.81-2.81c.8-.78.8-2.07 0-2.86zM5.41 20L4 18.59l7.72-7.72 1.47 1.35L5.41 20z\"/>\n",
              "  </svg>\n",
              "      </button>\n",
              "      \n",
              "  <style>\n",
              "    .colab-df-container {\n",
              "      display:flex;\n",
              "      flex-wrap:wrap;\n",
              "      gap: 12px;\n",
              "    }\n",
              "\n",
              "    .colab-df-convert {\n",
              "      background-color: #E8F0FE;\n",
              "      border: none;\n",
              "      border-radius: 50%;\n",
              "      cursor: pointer;\n",
              "      display: none;\n",
              "      fill: #1967D2;\n",
              "      height: 32px;\n",
              "      padding: 0 0 0 0;\n",
              "      width: 32px;\n",
              "    }\n",
              "\n",
              "    .colab-df-convert:hover {\n",
              "      background-color: #E2EBFA;\n",
              "      box-shadow: 0px 1px 2px rgba(60, 64, 67, 0.3), 0px 1px 3px 1px rgba(60, 64, 67, 0.15);\n",
              "      fill: #174EA6;\n",
              "    }\n",
              "\n",
              "    [theme=dark] .colab-df-convert {\n",
              "      background-color: #3B4455;\n",
              "      fill: #D2E3FC;\n",
              "    }\n",
              "\n",
              "    [theme=dark] .colab-df-convert:hover {\n",
              "      background-color: #434B5C;\n",
              "      box-shadow: 0px 1px 3px 1px rgba(0, 0, 0, 0.15);\n",
              "      filter: drop-shadow(0px 1px 2px rgba(0, 0, 0, 0.3));\n",
              "      fill: #FFFFFF;\n",
              "    }\n",
              "  </style>\n",
              "\n",
              "      <script>\n",
              "        const buttonEl =\n",
              "          document.querySelector('#df-0d769ec6-a7fc-4e81-a1af-77923ca467be button.colab-df-convert');\n",
              "        buttonEl.style.display =\n",
              "          google.colab.kernel.accessAllowed ? 'block' : 'none';\n",
              "\n",
              "        async function convertToInteractive(key) {\n",
              "          const element = document.querySelector('#df-0d769ec6-a7fc-4e81-a1af-77923ca467be');\n",
              "          const dataTable =\n",
              "            await google.colab.kernel.invokeFunction('convertToInteractive',\n",
              "                                                     [key], {});\n",
              "          if (!dataTable) return;\n",
              "\n",
              "          const docLinkHtml = 'Like what you see? Visit the ' +\n",
              "            '<a target=\"_blank\" href=https://colab.research.google.com/notebooks/data_table.ipynb>data table notebook</a>'\n",
              "            + ' to learn more about interactive tables.';\n",
              "          element.innerHTML = '';\n",
              "          dataTable['output_type'] = 'display_data';\n",
              "          await google.colab.output.renderOutput(dataTable, element);\n",
              "          const docLink = document.createElement('div');\n",
              "          docLink.innerHTML = docLinkHtml;\n",
              "          element.appendChild(docLink);\n",
              "        }\n",
              "      </script>\n",
              "    </div>\n",
              "  </div>\n",
              "  "
            ]
          },
          "metadata": {},
          "execution_count": 4
        }
      ],
      "source": [
        "## Muestra primeras 6 filas de la base\n",
        "data = pd.read_table('/content/drive/MyDrive/Proyecto ML UElBosque/Bases/agaricus-lepiota.data',delimiter=',')\n",
        "##data = pd.read_table('H:/Mi unidad/Maestría/Clases/6. Machine Learning/Practicas de Machine Learning/Proyecto ML UElBosque/Bases/agaricus-lepiota.data',delimiter=',')\n",
        "data.head(6)"
      ]
    },
    {
      "cell_type": "code",
      "execution_count": 5,
      "metadata": {
        "id": "KxYnkTX88O-V"
      },
      "outputs": [],
      "source": [
        "data_raw=data.copy()"
      ]
    },
    {
      "cell_type": "code",
      "execution_count": 6,
      "metadata": {
        "colab": {
          "base_uri": "https://localhost:8080/",
          "height": 0
        },
        "id": "EDhYBzayhMUg",
        "outputId": "582e16d3-deaa-43af-8808-80d71d48e88f"
      },
      "outputs": [
        {
          "output_type": "execute_result",
          "data": {
            "text/plain": [
              "object    23\n",
              "dtype: int64"
            ]
          },
          "metadata": {},
          "execution_count": 6
        }
      ],
      "source": [
        "data.dtypes.value_counts()"
      ]
    },
    {
      "cell_type": "code",
      "execution_count": 7,
      "metadata": {
        "colab": {
          "base_uri": "https://localhost:8080/",
          "height": 0
        },
        "id": "ZFPrd-LE2Ldu",
        "outputId": "44ba4f0a-48fc-4eae-b93a-cab954a3d077"
      },
      "outputs": [
        {
          "output_type": "execute_result",
          "data": {
            "text/plain": [
              "e    4208\n",
              "p    3916\n",
              "Name: POI, dtype: int64"
            ]
          },
          "metadata": {},
          "execution_count": 7
        }
      ],
      "source": [
        "#Vemos la cantidad de casos por clase (balance)\n",
        "data.POI.value_counts()"
      ]
    },
    {
      "cell_type": "code",
      "execution_count": 8,
      "metadata": {
        "colab": {
          "base_uri": "https://localhost:8080/",
          "height": 0
        },
        "id": "k9bEEk3_uhGd",
        "outputId": "8ffe3903-7355-4e99-d04d-27adabb48e1f"
      },
      "outputs": [
        {
          "output_type": "execute_result",
          "data": {
            "text/plain": [
              "8124"
            ]
          },
          "metadata": {},
          "execution_count": 8
        }
      ],
      "source": [
        "## Número de registros\n",
        "len(data)"
      ]
    },
    {
      "cell_type": "markdown",
      "metadata": {
        "id": "nzXtb3JKuhGd"
      },
      "source": [
        "Como se señaló previamente, se encontraron datos en blanco en la variable respectiva al tipo de raíz del hongo. A esta variable se le hizo el proceso de imputación por medio del dato más frecuente, pero es importante aclarar que dicha variable finalmente no se usó pues desde el proceso de descriptivos no se encontró un patrón o comportamiento sobre la naturaleza del hongo que permitiera decir que el tipo de raíz puede ser un buen predictor. La gráfica resultante del siguiente código muestra la data ya imputada sin valores en blanco."
      ]
    },
    {
      "cell_type": "code",
      "execution_count": 9,
      "metadata": {
        "colab": {
          "base_uri": "https://localhost:8080/",
          "height": 606
        },
        "id": "tbdJoioWuhGe",
        "outputId": "70848d17-05b9-4479-cbc8-fb8a4c8b77c8"
      },
      "outputs": [
        {
          "output_type": "execute_result",
          "data": {
            "text/plain": [
              "<Axes: >"
            ]
          },
          "metadata": {},
          "execution_count": 9
        },
        {
          "output_type": "display_data",
          "data": {
            "text/plain": [
              "<Figure size 1800x720 with 3 Axes>"
            ],
            "image/png": "[encoded data removed]"
          },
          "metadata": {
            "needs_background": "light"
          }
        }
      ],
      "source": [
        "## imputación por medio de dato más frecuente.\n",
        "\n",
        "x = data.columns\n",
        "\n",
        "imp = SimpleImputer(strategy=\"most_frequent\")\n",
        "table = imp.fit_transform(data)\n",
        "data2 = pd.DataFrame(table,columns=x)\n",
        "\n",
        "msno.bar(data2,color=\"tomato\")"
      ]
    },
    {
      "cell_type": "markdown",
      "metadata": {
        "id": "MRmf2VcxuhGe"
      },
      "source": [
        "Al realizar los descriptivos con respecto a la variable POI (comestible o venenoso), se realizo un proceso de despivoteo y conteo de las variables anatómicas con respecto a esta variable. Dicha base solo tiene como objetivo servir como fuente de alimentación para las gráficas, más no como entrenador del modelo."
      ]
    },
    {
      "cell_type": "code",
      "execution_count": 10,
      "metadata": {
        "colab": {
          "base_uri": "https://localhost:8080/",
          "height": 423
        },
        "id": "kgJgrViWuhGe",
        "outputId": "b4672f7e-2ab6-4df9-902b-78cd21eabedb"
      },
      "outputs": [
        {
          "output_type": "execute_result",
          "data": {
            "text/plain": [
              "           var value POI   can\n",
              "0      BRUISES     f   e  1456\n",
              "1      BRUISES     f   p  3292\n",
              "2      BRUISES     t   e  2752\n",
              "3      BRUISES     t   p   624\n",
              "4    CAP_COLOR     b   e    48\n",
              "..         ...   ...  ..   ...\n",
              "182     VEIL_C     w   e  4016\n",
              "183     VEIL_C     w   p  3908\n",
              "184     VEIL_C     y   p     8\n",
              "185     VEIL_T     p   e  4208\n",
              "186     VEIL_T     p   p  3916\n",
              "\n",
              "[187 rows x 4 columns]"
            ],
            "text/html": [
              "\n",
              "  <div id=\"df-622d603b-e3bf-4abe-9fbf-76d339236bb2\">\n",
              "    <div class=\"colab-df-container\">\n",
              "      <div>\n",
              "<style scoped>\n",
              "    .dataframe tbody tr th:only-of-type {\n",
              "        vertical-align: middle;\n",
              "    }\n",
              "\n",
              "    .dataframe tbody tr th {\n",
              "        vertical-align: top;\n",
              "    }\n",
              "\n",
              "    .dataframe thead th {\n",
              "        text-align: right;\n",
              "    }\n",
              "</style>\n",
              "<table border=\"1\" class=\"dataframe\">\n",
              "  <thead>\n",
              "    <tr style=\"text-align: right;\">\n",
              "      <th></th>\n",
              "      <th>var</th>\n",
              "      <th>value</th>\n",
              "      <th>POI</th>\n",
              "      <th>can</th>\n",
              "    </tr>\n",
              "  </thead>\n",
              "  <tbody>\n",
              "    <tr>\n",
              "      <th>0</th>\n",
              "      <td>BRUISES</td>\n",
              "      <td>f</td>\n",
              "      <td>e</td>\n",
              "      <td>1456</td>\n",
              "    </tr>\n",
              "    <tr>\n",
              "      <th>1</th>\n",
              "      <td>BRUISES</td>\n",
              "      <td>f</td>\n",
              "      <td>p</td>\n",
              "      <td>3292</td>\n",
              "    </tr>\n",
              "    <tr>\n",
              "      <th>2</th>\n",
              "      <td>BRUISES</td>\n",
              "      <td>t</td>\n",
              "      <td>e</td>\n",
              "      <td>2752</td>\n",
              "    </tr>\n",
              "    <tr>\n",
              "      <th>3</th>\n",
              "      <td>BRUISES</td>\n",
              "      <td>t</td>\n",
              "      <td>p</td>\n",
              "      <td>624</td>\n",
              "    </tr>\n",
              "    <tr>\n",
              "      <th>4</th>\n",
              "      <td>CAP_COLOR</td>\n",
              "      <td>b</td>\n",
              "      <td>e</td>\n",
              "      <td>48</td>\n",
              "    </tr>\n",
              "    <tr>\n",
              "      <th>...</th>\n",
              "      <td>...</td>\n",
              "      <td>...</td>\n",
              "      <td>...</td>\n",
              "      <td>...</td>\n",
              "    </tr>\n",
              "    <tr>\n",
              "      <th>182</th>\n",
              "      <td>VEIL_C</td>\n",
              "      <td>w</td>\n",
              "      <td>e</td>\n",
              "      <td>4016</td>\n",
              "    </tr>\n",
              "    <tr>\n",
              "      <th>183</th>\n",
              "      <td>VEIL_C</td>\n",
              "      <td>w</td>\n",
              "      <td>p</td>\n",
              "      <td>3908</td>\n",
              "    </tr>\n",
              "    <tr>\n",
              "      <th>184</th>\n",
              "      <td>VEIL_C</td>\n",
              "      <td>y</td>\n",
              "      <td>p</td>\n",
              "      <td>8</td>\n",
              "    </tr>\n",
              "    <tr>\n",
              "      <th>185</th>\n",
              "      <td>VEIL_T</td>\n",
              "      <td>p</td>\n",
              "      <td>e</td>\n",
              "      <td>4208</td>\n",
              "    </tr>\n",
              "    <tr>\n",
              "      <th>186</th>\n",
              "      <td>VEIL_T</td>\n",
              "      <td>p</td>\n",
              "      <td>p</td>\n",
              "      <td>3916</td>\n",
              "    </tr>\n",
              "  </tbody>\n",
              "</table>\n",
              "<p>187 rows × 4 columns</p>\n",
              "</div>\n",
              "      <button class=\"colab-df-convert\" onclick=\"convertToInteractive('df-622d603b-e3bf-4abe-9fbf-76d339236bb2')\"\n",
              "              title=\"Convert this dataframe to an interactive table.\"\n",
              "              style=\"display:none;\">\n",
              "        \n",
              "  <svg xmlns=\"http://www.w3.org/2000/svg\" height=\"24px\"viewBox=\"0 0 24 24\"\n",
              "       width=\"24px\">\n",
              "    <path d=\"M0 0h24v24H0V0z\" fill=\"none\"/>\n",
              "    <path d=\"M18.56 5.44l.94 2.06.94-2.06 2.06-.94-2.06-.94-.94-2.06-.94 2.06-2.06.94zm-11 1L8.5 8.5l.94-2.06 2.06-.94-2.06-.94L8.5 2.5l-.94 2.06-2.06.94zm10 10l.94 2.06.94-2.06 2.06-.94-2.06-.94-.94-2.06-.94 2.06-2.06.94z\"/><path d=\"M17.41 7.96l-1.37-1.37c-.4-.4-.92-.59-1.43-.59-.52 0-1.04.2-1.43.59L10.3 9.45l-7.72 7.72c-.78.78-.78 2.05 0 2.83L4 21.41c.39.39.9.59 1.41.59.51 0 1.02-.2 1.41-.59l7.78-7.78 2.81-2.81c.8-.78.8-2.07 0-2.86zM5.41 20L4 18.59l7.72-7.72 1.47 1.35L5.41 20z\"/>\n",
              "  </svg>\n",
              "      </button>\n",
              "      \n",
              "  <style>\n",
              "    .colab-df-container {\n",
              "      display:flex;\n",
              "      flex-wrap:wrap;\n",
              "      gap: 12px;\n",
              "    }\n",
              "\n",
              "    .colab-df-convert {\n",
              "      background-color: #E8F0FE;\n",
              "      border: none;\n",
              "      border-radius: 50%;\n",
              "      cursor: pointer;\n",
              "      display: none;\n",
              "      fill: #1967D2;\n",
              "      height: 32px;\n",
              "      padding: 0 0 0 0;\n",
              "      width: 32px;\n",
              "    }\n",
              "\n",
              "    .colab-df-convert:hover {\n",
              "      background-color: #E2EBFA;\n",
              "      box-shadow: 0px 1px 2px rgba(60, 64, 67, 0.3), 0px 1px 3px 1px rgba(60, 64, 67, 0.15);\n",
              "      fill: #174EA6;\n",
              "    }\n",
              "\n",
              "    [theme=dark] .colab-df-convert {\n",
              "      background-color: #3B4455;\n",
              "      fill: #D2E3FC;\n",
              "    }\n",
              "\n",
              "    [theme=dark] .colab-df-convert:hover {\n",
              "      background-color: #434B5C;\n",
              "      box-shadow: 0px 1px 3px 1px rgba(0, 0, 0, 0.15);\n",
              "      filter: drop-shadow(0px 1px 2px rgba(0, 0, 0, 0.3));\n",
              "      fill: #FFFFFF;\n",
              "    }\n",
              "  </style>\n",
              "\n",
              "      <script>\n",
              "        const buttonEl =\n",
              "          document.querySelector('#df-622d603b-e3bf-4abe-9fbf-76d339236bb2 button.colab-df-convert');\n",
              "        buttonEl.style.display =\n",
              "          google.colab.kernel.accessAllowed ? 'block' : 'none';\n",
              "\n",
              "        async function convertToInteractive(key) {\n",
              "          const element = document.querySelector('#df-622d603b-e3bf-4abe-9fbf-76d339236bb2');\n",
              "          const dataTable =\n",
              "            await google.colab.kernel.invokeFunction('convertToInteractive',\n",
              "                                                     [key], {});\n",
              "          if (!dataTable) return;\n",
              "\n",
              "          const docLinkHtml = 'Like what you see? Visit the ' +\n",
              "            '<a target=\"_blank\" href=https://colab.research.google.com/notebooks/data_table.ipynb>data table notebook</a>'\n",
              "            + ' to learn more about interactive tables.';\n",
              "          element.innerHTML = '';\n",
              "          dataTable['output_type'] = 'display_data';\n",
              "          await google.colab.output.renderOutput(dataTable, element);\n",
              "          const docLink = document.createElement('div');\n",
              "          docLink.innerHTML = docLinkHtml;\n",
              "          element.appendChild(docLink);\n",
              "        }\n",
              "      </script>\n",
              "    </div>\n",
              "  </div>\n",
              "  "
            ]
          },
          "metadata": {},
          "execution_count": 10
        }
      ],
      "source": [
        "data3 = data2.reset_index()\n",
        "data3 = data3.melt(id_vars = ['index','POI'], var_name = 'var', value_name = 'value')\n",
        "data3 = data3.groupby(['var','value','POI'])['index'].count()\n",
        "data3 = data3.reset_index()\n",
        "data3 = data3.rename(columns = {'index' : 'can'})\n",
        "data3"
      ]
    },
    {
      "cell_type": "markdown",
      "metadata": {
        "id": "kSAVgEoYuhGe"
      },
      "source": [
        "Con esta base podemos pasar a diseñar las gráficas descriptivas con respecto a la naturaleza del hongo. A continuación los datos más relevantes encontrados."
      ]
    },
    {
      "cell_type": "markdown",
      "metadata": {
        "id": "JQyW0ku4uhGe"
      },
      "source": [
        "**Presencia de manchas en el hongo (Bruises)**: los hongos venenosos tienen una mayor frecuencia de presencia de manchas. Algo que es distinto en el caso de los hongos comestibles donde la frecuencia de manchas es más baja."
      ]
    },
    {
      "cell_type": "code",
      "execution_count": 11,
      "metadata": {
        "colab": {
          "base_uri": "https://localhost:8080/",
          "height": 294
        },
        "id": "cmVe81wluhGf",
        "outputId": "08b99c8b-0a7a-4775-e5ce-fd8aea1dbaef"
      },
      "outputs": [
        {
          "output_type": "display_data",
          "data": {
            "text/plain": [
              "<Figure size 432x288 with 1 Axes>"
            ],
            "image/png": "[encoded data removed]"
          },
          "metadata": {
            "needs_background": "light"
          }
        }
      ],
      "source": [
        "a = data3.loc[data3['var'] == 'BRUISES']\n",
        "a = a.replace({'value':['f','t'],'POI':['e','p']},\n",
        "              {'value':['Verdadero','Falso'],'POI':['Comestible','Venenoso']})\n",
        "\n",
        "plot = sns.barplot(x = 'POI', y = 'can', hue = 'value', data = a,palette='Reds').set(title='Presencia de Manchas')"
      ]
    },
    {
      "cell_type": "markdown",
      "metadata": {
        "id": "DyNaXSPJuhGf"
      },
      "source": [
        "**Color de las laminas del hongo (G_COLOR)**: aunque existe variación de colores para ambos casos, en el caso de los hongos venenosos es más frecuente que tengan las laminas de color beige. En el caso de los hongos comestibles, este comportaminto es diferente, ya que no se ven registros de hongos que tengan laminas de color beige. De hecho tienden a ser más comunes colores negro, naranja y blanco."
      ]
    },
    {
      "cell_type": "code",
      "execution_count": 12,
      "metadata": {
        "colab": {
          "base_uri": "https://localhost:8080/",
          "height": 294
        },
        "id": "TFI7H1QIuhGf",
        "outputId": "f23fa447-8961-4baf-bf70-e19a27ee02ca"
      },
      "outputs": [
        {
          "output_type": "display_data",
          "data": {
            "text/plain": [
              "<Figure size 432x288 with 1 Axes>"
            ],
            "image/png": "[encoded data removed]"
          },
          "metadata": {
            "needs_background": "light"
          }
        }
      ],
      "source": [
        "b = data3.loc[data3['var'] == 'G_COLOR']\n",
        "b = b.replace({'value':['k','n','b','h','g','r','o','p','u','e','w','y'],'POI':['e','p']},\n",
        "              {'value':['Negro','Café','Beige','Chocolate','Gris','Verde','Naranja','Rosa','Morado','Rojo','Blanco','Amarillo'],'POI':['Comestible','Venenoso']})\n",
        "\n",
        "plot = sns.barplot(x = 'POI', y = 'can', hue = 'value', data = b,palette='Reds_r').set(title='Color de Laminas')"
      ]
    },
    {
      "cell_type": "markdown",
      "metadata": {
        "id": "ikTUWl-kuhGf"
      },
      "source": [
        "**Tamaño de las laminas (G_SIZE)**: los hongos comestibles presentan laminas anchas. En el caso de las venenosas las laminas pueden ser tanto anchas como estrechas."
      ]
    },
    {
      "cell_type": "code",
      "execution_count": 13,
      "metadata": {
        "colab": {
          "base_uri": "https://localhost:8080/",
          "height": 294
        },
        "id": "fEs90DJvuhGg",
        "outputId": "f0b2bbc3-6c05-462f-bc40-2dce38d3382f"
      },
      "outputs": [
        {
          "output_type": "display_data",
          "data": {
            "text/plain": [
              "<Figure size 432x288 with 1 Axes>"
            ],
            "image/png": "[encoded data removed]"
          },
          "metadata": {
            "needs_background": "light"
          }
        }
      ],
      "source": [
        "c = data3.loc[data3['var'] == 'G_SIZE']\n",
        "c = c.replace({'value':['b','n'],'POI':['e','p']},\n",
        "              {'value':['Ancho','Estrecho'],'POI':['Comestible','Venenoso']})\n",
        "\n",
        "plot = sns.barplot(x = 'POI', y = 'can', hue = 'value', data = c,palette='Reds').set(title='Tamaño de Laminas')"
      ]
    },
    {
      "cell_type": "markdown",
      "metadata": {
        "id": "nC2qWACguhGg"
      },
      "source": [
        "**Olor del hongo (ODOR)**: los hongos comestibles no frecuentan olores. En caso de los hongos venenosos estos pueden presentar olores desagradables la mayoria de veces e incluso otra diversidad de olores."
      ]
    },
    {
      "cell_type": "code",
      "execution_count": 14,
      "metadata": {
        "colab": {
          "base_uri": "https://localhost:8080/",
          "height": 294
        },
        "id": "063--S7BuhGg",
        "outputId": "dae71c21-f09d-4310-acd4-2d0e34081c8b"
      },
      "outputs": [
        {
          "output_type": "display_data",
          "data": {
            "text/plain": [
              "<Figure size 432x288 with 1 Axes>"
            ],
            "image/png": "[encoded data removed]"
          },
          "metadata": {
            "needs_background": "light"
          }
        }
      ],
      "source": [
        "d = data3.loc[data3['var'] == 'ODOR']\n",
        "d = d.replace({'value':['a','l','c','y','f','m','n','p','s'],'POI':['e','p']},\n",
        "              {'value':['Almendra','Anís','Creosota','Pescado','Asqueroso','Mohoso','Ninguno','Picante','Especia'],'POI':['Comestible','Venenoso']})\n",
        "\n",
        "plot = sns.barplot(x = 'POI', y = 'can', hue = 'value', data = d,palette='Reds_r').set(title='Olor del Hongo')"
      ]
    },
    {
      "cell_type": "markdown",
      "metadata": {
        "id": "_HQH_Xe2uhGg"
      },
      "source": [
        "**Población (POP)**: los hongos venenosos se pueden encontrar normamente con otras especies de hongos, algo que en el caso de los hongos comestibles es más variables, ya que pueden ser solitarios o más dispersos."
      ]
    },
    {
      "cell_type": "code",
      "execution_count": 15,
      "metadata": {
        "colab": {
          "base_uri": "https://localhost:8080/",
          "height": 294
        },
        "id": "eRIRjNwguhGg",
        "outputId": "ee167689-4078-4daf-9ff0-995fc5026c64"
      },
      "outputs": [
        {
          "output_type": "display_data",
          "data": {
            "text/plain": [
              "<Figure size 432x288 with 1 Axes>"
            ],
            "image/png": "[encoded data removed]"
          },
          "metadata": {
            "needs_background": "light"
          }
        }
      ],
      "source": [
        "e = data3.loc[data3['var'] == 'POP']\n",
        "e = e.replace({'value':['a','c','n','s','v','y'],'POI':['e','p']},\n",
        "              {'value':['Abundantes','Agrupados','Numerosos','Dispersos','Varias especies','Solitario'],'POI':['Comestible','Venenoso']})\n",
        "\n",
        "plot = sns.barplot(x = 'POI', y = 'can', hue = 'value', data = e,palette='Reds_r').set(title='Población del Hongo')"
      ]
    },
    {
      "cell_type": "markdown",
      "metadata": {
        "id": "faf0K-cRuhGh"
      },
      "source": [
        "**Tipo de Anillo (RING_T)**: tanto los hongos comestibles como venenosos presentan anillos colgantes y evanecentes, pero en el caso de los comestibles es más frecuente que sean colgantes. En el caso de los venenosos los anillos grandes son una señal de su naturaleza que puede diferenciarlos muy bien de los comestibles."
      ]
    },
    {
      "cell_type": "code",
      "execution_count": 16,
      "metadata": {
        "colab": {
          "base_uri": "https://localhost:8080/",
          "height": 294
        },
        "id": "Jq-sxp9xuhGh",
        "outputId": "90360ce1-e3c7-4350-b2f8-35c20882f565"
      },
      "outputs": [
        {
          "output_type": "display_data",
          "data": {
            "text/plain": [
              "<Figure size 432x288 with 1 Axes>"
            ],
            "image/png": "[encoded data removed]"
          },
          "metadata": {
            "needs_background": "light"
          }
        }
      ],
      "source": [
        "f = data3.loc[data3['var'] == 'RING_T']\n",
        "f = f.replace({'value':['c','e','f','l','n','p','s','z'],'POI':['e','p']},\n",
        "              {'value':['Telaraña','Evanecente','Ensancahdo','Grande','Sin anillo','Colgante','Con revestimiento','Zonal'],'POI':['Comestible','Venenoso']})\n",
        "\n",
        "plot = sns.barplot(x = 'POI', y = 'can', hue = 'value', data = f,palette='Reds_r').set(title='Tipo de Anillo')"
      ]
    },
    {
      "cell_type": "markdown",
      "metadata": {
        "id": "_337KNwCuhGh"
      },
      "source": [
        "**Color Espora (SPORE)**: es claro que los colores café y negro en esporas es mucho más frecuente en hongos comestibles. En el caso de los hongos venenosos las esporas son más frecuentes en colores chocolate y blanco."
      ]
    },
    {
      "cell_type": "code",
      "execution_count": 17,
      "metadata": {
        "colab": {
          "base_uri": "https://localhost:8080/",
          "height": 294
        },
        "id": "-_ymhaPiuhGh",
        "outputId": "a82d91c0-3c75-4385-da8a-300ff3ae532f"
      },
      "outputs": [
        {
          "output_type": "display_data",
          "data": {
            "text/plain": [
              "<Figure size 432x288 with 1 Axes>"
            ],
            "image/png": "[encoded data removed]"
          },
          "metadata": {
            "needs_background": "light"
          }
        }
      ],
      "source": [
        "g = data3.loc[data3['var'] == 'SPORE']\n",
        "g = g.replace({'value':['k','n','b','h','r','o','u','w','y'],'POI':['e','p']},\n",
        "              {'value':['Negro','Café','Beige','Chocolate','Verde','Naranja','Morado','Blanco','Amarillo'],'POI':['Comestible','Venenoso']})\n",
        "\n",
        "plot = sns.barplot(x = 'POI', y = 'can', hue = 'value', data = g,palette='Reds_r').set(title='Color de Espora')"
      ]
    },
    {
      "cell_type": "markdown",
      "metadata": {
        "id": "eC1H1nkQuhGi"
      },
      "source": [
        "**Color del tallo por arriba del anillo (S_COLOR_AB) y por debajo (S_COLOR_BE)**: los hongos con colores blanco y rosa son los más comunes tanto por debajo como por arriba del anillo. Pero en el caso de los comestibles la frecuencia de Blanco es más alta a comparación de los hongos venenosos. Al tener el mismo comportamiento, solo se dejará la variable S_COLOR_AB como parte del modelo."
      ]
    },
    {
      "cell_type": "code",
      "execution_count": 18,
      "metadata": {
        "colab": {
          "base_uri": "https://localhost:8080/",
          "height": 294
        },
        "id": "82yluXJWuhGi",
        "outputId": "722322ab-3a7a-48e7-f9e4-ea7482a58ce5"
      },
      "outputs": [
        {
          "output_type": "display_data",
          "data": {
            "text/plain": [
              "<Figure size 432x288 with 1 Axes>"
            ],
            "image/png": "[encoded data removed]"
          },
          "metadata": {
            "needs_background": "light"
          }
        }
      ],
      "source": [
        "h = data3.loc[data3['var'] == 'S_COLOR_AB']\n",
        "h = h.replace({'value':['n','b','c','g','o','p','e','w','y'],'POI':['e','p']},\n",
        "              {'value':['Café','Beige','Canela','Grey','Naranje','Rosa','Rojo','Blanco','Amarillo'],'POI':['Comestible','Venenoso']})\n",
        "\n",
        "plot = sns.barplot(x = 'POI', y = 'can', hue = 'value', data = h,palette='Reds_r').set(title='Color del Tallo por Arriba del Anillo')"
      ]
    },
    {
      "cell_type": "code",
      "execution_count": 19,
      "metadata": {
        "colab": {
          "base_uri": "https://localhost:8080/",
          "height": 294
        },
        "id": "c37L6QwAuhGi",
        "outputId": "710a9520-f796-423e-e31a-0db2d2ebf297"
      },
      "outputs": [
        {
          "output_type": "display_data",
          "data": {
            "text/plain": [
              "<Figure size 432x288 with 1 Axes>"
            ],
            "image/png": "[encoded data removed]"
          },
          "metadata": {
            "needs_background": "light"
          }
        }
      ],
      "source": [
        "i = data3.loc[data3['var'] == 'S_COLOR_BE']\n",
        "i = i.replace({'value':['n','b','c','g','o','p','e','w','y'],'POI':['e','p']},\n",
        "              {'value':['Café','Beige','Canela','Grey','Naranje','Rosa','Rojo','Blanco','Amarillo'],'POI':['Comestible','Venenoso']})\n",
        "\n",
        "plot = sns.barplot(x = 'POI', y = 'can', hue = 'value', data = i,palette='Reds_r').set(title='Color del Tallo por Debajo del Anillo')"
      ]
    },
    {
      "cell_type": "markdown",
      "metadata": {
        "id": "E5c3PILAuhGi"
      },
      "source": [
        "**Textura por arriba (S_SURF_AB) y por debajo (S_SURF_BE) del anillo**: en ambos tipos de hongos, existe una frecuencia alta de texturas lisas, pero son más frecuentes en aquellos que no son tóxicos. Igualmente en los hongos venenosos pueden tener una mayor frecuencia de texturas sedosas. Al tener el mismo comportamiento, solo se dejará la variable S_SURF_AB como parte del modelo."
      ]
    },
    {
      "cell_type": "code",
      "execution_count": 20,
      "metadata": {
        "colab": {
          "base_uri": "https://localhost:8080/",
          "height": 294
        },
        "id": "UhB5UnUOuhGi",
        "outputId": "5e3e8ab3-554a-4291-b555-335590a3a9b7"
      },
      "outputs": [
        {
          "output_type": "display_data",
          "data": {
            "text/plain": [
              "<Figure size 432x288 with 1 Axes>"
            ],
            "image/png": "[encoded data removed]"
          },
          "metadata": {
            "needs_background": "light"
          }
        }
      ],
      "source": [
        "j = data3.loc[data3['var'] == 'S_SURF_AB']\n",
        "j = j.replace({'value':['f','y','k','s'],'POI':['e','p']},\n",
        "              {'value':['Fibrosa','Escamosa','Sedosa','Lisa'],'POI':['Comestible','Venenoso']})\n",
        "\n",
        "plot = sns.barplot(x = 'POI', y = 'can', hue = 'value', data = j,palette='Reds_r').set(title='Textura del Tallo por Arriba del Anillo')"
      ]
    },
    {
      "cell_type": "code",
      "execution_count": 21,
      "metadata": {
        "colab": {
          "base_uri": "https://localhost:8080/",
          "height": 294
        },
        "id": "M8jMtJ4suhGj",
        "outputId": "9aafd541-d847-4229-c548-d5e3ad9fda5e"
      },
      "outputs": [
        {
          "output_type": "display_data",
          "data": {
            "text/plain": [
              "<Figure size 432x288 with 1 Axes>"
            ],
            "image/png": "[encoded data removed]"
          },
          "metadata": {
            "needs_background": "light"
          }
        }
      ],
      "source": [
        "k = data3.loc[data3['var'] == 'S_SURF_BE']\n",
        "k = k.replace({'value':['f','y','k','s'],'POI':['e','p']},\n",
        "              {'value':['Fibrosa','Escamosa','Sedosa','Lisa'],'POI':['Comestible','Venenoso']})\n",
        "\n",
        "plot = sns.barplot(x = 'POI', y = 'can', hue = 'value', data = k,palette='Reds_r').set(title='Textura del Tallo por Abajo del Anillo')"
      ]
    },
    {
      "cell_type": "markdown",
      "metadata": {
        "id": "8ZGyoFBGuhGj"
      },
      "source": [
        "En el caso de las demás variables del modelo, no se encontraron comportamientos con respecto a la naturaleza de los hongos registrados en la base. Por lo tanto consideramos como parte del ejercicio de diseño del modelo final predictivo solamente tomar estas variables, pues al tener una mayor relación con la variable objetivo podrían representar de manera más acertada la predicción del modelo."
      ]
    },
    {
      "cell_type": "markdown",
      "metadata": {
        "id": "qRQcPMlhuhGj"
      },
      "source": [
        "# 4. Proceso de Analítica"
      ]
    },
    {
      "cell_type": "markdown",
      "metadata": {
        "id": "25DIe3fguhGj"
      },
      "source": [
        "## 4.1 Pipeline Principal"
      ]
    },
    {
      "cell_type": "code",
      "execution_count": 22,
      "metadata": {
        "id": "wssNmyeZNOj3"
      },
      "outputs": [],
      "source": [
        "cat_cols=['POI','BRUISES','G_COLOR','G_SIZE','ODOR','POP','RING_T','SPORE','S_COLOR_AB']"
      ]
    },
    {
      "cell_type": "code",
      "execution_count": 23,
      "metadata": {
        "id": "Ntj-nJxiuua7"
      },
      "outputs": [],
      "source": [
        "# Transformaciones para las variables categóricas\n",
        "\n",
        "categorical_transformer = Pipeline(\n",
        "                            steps=[\n",
        "                                (\"encoder\", OneHotEncoder(handle_unknown=\"ignore\",sparse_output=False))\n",
        "                            ]\n",
        "                          )\n",
        "\n",
        "preprocessor = ColumnTransformer(\n",
        "                    transformers=[\n",
        "                        ('cat', categorical_transformer, cat_cols)\n",
        "                    ],\n",
        "                    remainder='passthrough'\n",
        "                )"
      ]
    },
    {
      "cell_type": "markdown",
      "metadata": {
        "id": "fc8oUhjVuhGj"
      },
      "source": [
        "## 4.2 Preprocesamiento"
      ]
    },
    {
      "cell_type": "markdown",
      "metadata": {
        "id": "mXVZgInruhGj"
      },
      "source": [
        "Para el desarrollo de los modelos de clasificación, los datos deben ser transformas a Dummies, que basicamente se trata de despivotear los valores categóricos de las parametros del modelo y traducirlos de manera binaria. Adicional a esto se seleccionaron los paramteros que se consideraron de mayor relevancia para el modelo desde el análisis descriptivo de la base."
      ]
    },
    {
      "cell_type": "code",
      "execution_count": 24,
      "metadata": {
        "colab": {
          "base_uri": "https://localhost:8080/",
          "height": 237
        },
        "id": "feBOFpbPuhGk",
        "outputId": "94062c3e-132a-4a62-93fd-c46151495b66"
      },
      "outputs": [
        {
          "output_type": "execute_result",
          "data": {
            "text/plain": [
              "  POI BRUISES G_COLOR G_SIZE ODOR POP RING_T SPORE S_COLOR_AB\n",
              "0   p       t       k      n    p   s      p     k          w\n",
              "1   e       t       k      b    a   n      p     n          w\n",
              "2   e       t       n      b    l   n      p     n          w\n",
              "3   p       t       n      n    p   s      p     k          w\n",
              "4   e       f       k      b    n   a      e     n          w\n",
              "5   e       t       n      b    a   n      p     k          w"
            ],
            "text/html": [
              "\n",
              "  <div id=\"df-3d7f20fb-0790-4cf5-a51f-17fe984f1d35\">\n",
              "    <div class=\"colab-df-container\">\n",
              "      <div>\n",
              "<style scoped>\n",
              "    .dataframe tbody tr th:only-of-type {\n",
              "        vertical-align: middle;\n",
              "    }\n",
              "\n",
              "    .dataframe tbody tr th {\n",
              "        vertical-align: top;\n",
              "    }\n",
              "\n",
              "    .dataframe thead th {\n",
              "        text-align: right;\n",
              "    }\n",
              "</style>\n",
              "<table border=\"1\" class=\"dataframe\">\n",
              "  <thead>\n",
              "    <tr style=\"text-align: right;\">\n",
              "      <th></th>\n",
              "      <th>POI</th>\n",
              "      <th>BRUISES</th>\n",
              "      <th>G_COLOR</th>\n",
              "      <th>G_SIZE</th>\n",
              "      <th>ODOR</th>\n",
              "      <th>POP</th>\n",
              "      <th>RING_T</th>\n",
              "      <th>SPORE</th>\n",
              "      <th>S_COLOR_AB</th>\n",
              "    </tr>\n",
              "  </thead>\n",
              "  <tbody>\n",
              "    <tr>\n",
              "      <th>0</th>\n",
              "      <td>p</td>\n",
              "      <td>t</td>\n",
              "      <td>k</td>\n",
              "      <td>n</td>\n",
              "      <td>p</td>\n",
              "      <td>s</td>\n",
              "      <td>p</td>\n",
              "      <td>k</td>\n",
              "      <td>w</td>\n",
              "    </tr>\n",
              "    <tr>\n",
              "      <th>1</th>\n",
              "      <td>e</td>\n",
              "      <td>t</td>\n",
              "      <td>k</td>\n",
              "      <td>b</td>\n",
              "      <td>a</td>\n",
              "      <td>n</td>\n",
              "      <td>p</td>\n",
              "      <td>n</td>\n",
              "      <td>w</td>\n",
              "    </tr>\n",
              "    <tr>\n",
              "      <th>2</th>\n",
              "      <td>e</td>\n",
              "      <td>t</td>\n",
              "      <td>n</td>\n",
              "      <td>b</td>\n",
              "      <td>l</td>\n",
              "      <td>n</td>\n",
              "      <td>p</td>\n",
              "      <td>n</td>\n",
              "      <td>w</td>\n",
              "    </tr>\n",
              "    <tr>\n",
              "      <th>3</th>\n",
              "      <td>p</td>\n",
              "      <td>t</td>\n",
              "      <td>n</td>\n",
              "      <td>n</td>\n",
              "      <td>p</td>\n",
              "      <td>s</td>\n",
              "      <td>p</td>\n",
              "      <td>k</td>\n",
              "      <td>w</td>\n",
              "    </tr>\n",
              "    <tr>\n",
              "      <th>4</th>\n",
              "      <td>e</td>\n",
              "      <td>f</td>\n",
              "      <td>k</td>\n",
              "      <td>b</td>\n",
              "      <td>n</td>\n",
              "      <td>a</td>\n",
              "      <td>e</td>\n",
              "      <td>n</td>\n",
              "      <td>w</td>\n",
              "    </tr>\n",
              "    <tr>\n",
              "      <th>5</th>\n",
              "      <td>e</td>\n",
              "      <td>t</td>\n",
              "      <td>n</td>\n",
              "      <td>b</td>\n",
              "      <td>a</td>\n",
              "      <td>n</td>\n",
              "      <td>p</td>\n",
              "      <td>k</td>\n",
              "      <td>w</td>\n",
              "    </tr>\n",
              "  </tbody>\n",
              "</table>\n",
              "</div>\n",
              "      <button class=\"colab-df-convert\" onclick=\"convertToInteractive('df-3d7f20fb-0790-4cf5-a51f-17fe984f1d35')\"\n",
              "              title=\"Convert this dataframe to an interactive table.\"\n",
              "              style=\"display:none;\">\n",
              "        \n",
              "  <svg xmlns=\"http://www.w3.org/2000/svg\" height=\"24px\"viewBox=\"0 0 24 24\"\n",
              "       width=\"24px\">\n",
              "    <path d=\"M0 0h24v24H0V0z\" fill=\"none\"/>\n",
              "    <path d=\"M18.56 5.44l.94 2.06.94-2.06 2.06-.94-2.06-.94-.94-2.06-.94 2.06-2.06.94zm-11 1L8.5 8.5l.94-2.06 2.06-.94-2.06-.94L8.5 2.5l-.94 2.06-2.06.94zm10 10l.94 2.06.94-2.06 2.06-.94-2.06-.94-.94-2.06-.94 2.06-2.06.94z\"/><path d=\"M17.41 7.96l-1.37-1.37c-.4-.4-.92-.59-1.43-.59-.52 0-1.04.2-1.43.59L10.3 9.45l-7.72 7.72c-.78.78-.78 2.05 0 2.83L4 21.41c.39.39.9.59 1.41.59.51 0 1.02-.2 1.41-.59l7.78-7.78 2.81-2.81c.8-.78.8-2.07 0-2.86zM5.41 20L4 18.59l7.72-7.72 1.47 1.35L5.41 20z\"/>\n",
              "  </svg>\n",
              "      </button>\n",
              "      \n",
              "  <style>\n",
              "    .colab-df-container {\n",
              "      display:flex;\n",
              "      flex-wrap:wrap;\n",
              "      gap: 12px;\n",
              "    }\n",
              "\n",
              "    .colab-df-convert {\n",
              "      background-color: #E8F0FE;\n",
              "      border: none;\n",
              "      border-radius: 50%;\n",
              "      cursor: pointer;\n",
              "      display: none;\n",
              "      fill: #1967D2;\n",
              "      height: 32px;\n",
              "      padding: 0 0 0 0;\n",
              "      width: 32px;\n",
              "    }\n",
              "\n",
              "    .colab-df-convert:hover {\n",
              "      background-color: #E2EBFA;\n",
              "      box-shadow: 0px 1px 2px rgba(60, 64, 67, 0.3), 0px 1px 3px 1px rgba(60, 64, 67, 0.15);\n",
              "      fill: #174EA6;\n",
              "    }\n",
              "\n",
              "    [theme=dark] .colab-df-convert {\n",
              "      background-color: #3B4455;\n",
              "      fill: #D2E3FC;\n",
              "    }\n",
              "\n",
              "    [theme=dark] .colab-df-convert:hover {\n",
              "      background-color: #434B5C;\n",
              "      box-shadow: 0px 1px 3px 1px rgba(0, 0, 0, 0.15);\n",
              "      filter: drop-shadow(0px 1px 2px rgba(0, 0, 0, 0.3));\n",
              "      fill: #FFFFFF;\n",
              "    }\n",
              "  </style>\n",
              "\n",
              "      <script>\n",
              "        const buttonEl =\n",
              "          document.querySelector('#df-3d7f20fb-0790-4cf5-a51f-17fe984f1d35 button.colab-df-convert');\n",
              "        buttonEl.style.display =\n",
              "          google.colab.kernel.accessAllowed ? 'block' : 'none';\n",
              "\n",
              "        async function convertToInteractive(key) {\n",
              "          const element = document.querySelector('#df-3d7f20fb-0790-4cf5-a51f-17fe984f1d35');\n",
              "          const dataTable =\n",
              "            await google.colab.kernel.invokeFunction('convertToInteractive',\n",
              "                                                     [key], {});\n",
              "          if (!dataTable) return;\n",
              "\n",
              "          const docLinkHtml = 'Like what you see? Visit the ' +\n",
              "            '<a target=\"_blank\" href=https://colab.research.google.com/notebooks/data_table.ipynb>data table notebook</a>'\n",
              "            + ' to learn more about interactive tables.';\n",
              "          element.innerHTML = '';\n",
              "          dataTable['output_type'] = 'display_data';\n",
              "          await google.colab.output.renderOutput(dataTable, element);\n",
              "          const docLink = document.createElement('div');\n",
              "          docLink.innerHTML = docLinkHtml;\n",
              "          element.appendChild(docLink);\n",
              "        }\n",
              "      </script>\n",
              "    </div>\n",
              "  </div>\n",
              "  "
            ]
          },
          "metadata": {},
          "execution_count": 24
        }
      ],
      "source": [
        "## Elección de variables categoricas relevantes\n",
        "\n",
        "data4 = data2[cat_cols]\n",
        "data4.head(6)"
      ]
    },
    {
      "cell_type": "code",
      "execution_count": 25,
      "metadata": {
        "id": "_pZqVDXdO3tD"
      },
      "outputs": [],
      "source": [
        "#Casteo de data a categorica.\n",
        "\n",
        "data4[cat_cols]=data4[cat_cols].astype('category')"
      ]
    },
    {
      "cell_type": "code",
      "execution_count": 26,
      "metadata": {
        "colab": {
          "base_uri": "https://localhost:8080/",
          "height": 456
        },
        "id": "hG6wUrYFdl4B",
        "outputId": "bc825aa5-59b8-45e1-ca8d-14f5f103b747"
      },
      "outputs": [
        {
          "output_type": "execute_result",
          "data": {
            "text/plain": [
              "   POI_e  POI_p  BRUISES_f  BRUISES_t  G_COLOR_b  G_COLOR_e  G_COLOR_g  \\\n",
              "0      0      1          0          1          0          0          0   \n",
              "1      1      0          0          1          0          0          0   \n",
              "2      1      0          0          1          0          0          0   \n",
              "3      0      1          0          1          0          0          0   \n",
              "4      1      0          1          0          0          0          0   \n",
              "5      1      0          0          1          0          0          0   \n",
              "6      1      0          0          1          0          0          1   \n",
              "7      1      0          0          1          0          0          0   \n",
              "8      0      1          0          1          0          0          0   \n",
              "9      1      0          0          1          0          0          1   \n",
              "\n",
              "   G_COLOR_h  G_COLOR_k  G_COLOR_n  ...  SPORE_y  S_COLOR_AB_b  S_COLOR_AB_c  \\\n",
              "0          0          1          0  ...        0             0             0   \n",
              "1          0          1          0  ...        0             0             0   \n",
              "2          0          0          1  ...        0             0             0   \n",
              "3          0          0          1  ...        0             0             0   \n",
              "4          0          1          0  ...        0             0             0   \n",
              "5          0          0          1  ...        0             0             0   \n",
              "6          0          0          0  ...        0             0             0   \n",
              "7          0          0          1  ...        0             0             0   \n",
              "8          0          0          0  ...        0             0             0   \n",
              "9          0          0          0  ...        0             0             0   \n",
              "\n",
              "   S_COLOR_AB_e  S_COLOR_AB_g  S_COLOR_AB_n  S_COLOR_AB_o  S_COLOR_AB_p  \\\n",
              "0             0             0             0             0             0   \n",
              "1             0             0             0             0             0   \n",
              "2             0             0             0             0             0   \n",
              "3             0             0             0             0             0   \n",
              "4             0             0             0             0             0   \n",
              "5             0             0             0             0             0   \n",
              "6             0             0             0             0             0   \n",
              "7             0             0             0             0             0   \n",
              "8             0             0             0             0             0   \n",
              "9             0             0             0             0             0   \n",
              "\n",
              "   S_COLOR_AB_w  S_COLOR_AB_y  \n",
              "0             1             0  \n",
              "1             1             0  \n",
              "2             1             0  \n",
              "3             1             0  \n",
              "4             1             0  \n",
              "5             1             0  \n",
              "6             1             0  \n",
              "7             1             0  \n",
              "8             1             0  \n",
              "9             1             0  \n",
              "\n",
              "[10 rows x 56 columns]"
            ],
            "text/html": [
              "\n",
              "  <div id=\"df-c3ebf3a4-7855-420b-a111-6e39ecf17942\">\n",
              "    <div class=\"colab-df-container\">\n",
              "      <div>\n",
              "<style scoped>\n",
              "    .dataframe tbody tr th:only-of-type {\n",
              "        vertical-align: middle;\n",
              "    }\n",
              "\n",
              "    .dataframe tbody tr th {\n",
              "        vertical-align: top;\n",
              "    }\n",
              "\n",
              "    .dataframe thead th {\n",
              "        text-align: right;\n",
              "    }\n",
              "</style>\n",
              "<table border=\"1\" class=\"dataframe\">\n",
              "  <thead>\n",
              "    <tr style=\"text-align: right;\">\n",
              "      <th></th>\n",
              "      <th>POI_e</th>\n",
              "      <th>POI_p</th>\n",
              "      <th>BRUISES_f</th>\n",
              "      <th>BRUISES_t</th>\n",
              "      <th>G_COLOR_b</th>\n",
              "      <th>G_COLOR_e</th>\n",
              "      <th>G_COLOR_g</th>\n",
              "      <th>G_COLOR_h</th>\n",
              "      <th>G_COLOR_k</th>\n",
              "      <th>G_COLOR_n</th>\n",
              "      <th>...</th>\n",
              "      <th>SPORE_y</th>\n",
              "      <th>S_COLOR_AB_b</th>\n",
              "      <th>S_COLOR_AB_c</th>\n",
              "      <th>S_COLOR_AB_e</th>\n",
              "      <th>S_COLOR_AB_g</th>\n",
              "      <th>S_COLOR_AB_n</th>\n",
              "      <th>S_COLOR_AB_o</th>\n",
              "      <th>S_COLOR_AB_p</th>\n",
              "      <th>S_COLOR_AB_w</th>\n",
              "      <th>S_COLOR_AB_y</th>\n",
              "    </tr>\n",
              "  </thead>\n",
              "  <tbody>\n",
              "    <tr>\n",
              "      <th>0</th>\n",
              "      <td>0</td>\n",
              "      <td>1</td>\n",
              "      <td>0</td>\n",
              "      <td>1</td>\n",
              "      <td>0</td>\n",
              "      <td>0</td>\n",
              "      <td>0</td>\n",
              "      <td>0</td>\n",
              "      <td>1</td>\n",
              "      <td>0</td>\n",
              "      <td>...</td>\n",
              "      <td>0</td>\n",
              "      <td>0</td>\n",
              "      <td>0</td>\n",
              "      <td>0</td>\n",
              "      <td>0</td>\n",
              "      <td>0</td>\n",
              "      <td>0</td>\n",
              "      <td>0</td>\n",
              "      <td>1</td>\n",
              "      <td>0</td>\n",
              "    </tr>\n",
              "    <tr>\n",
              "      <th>1</th>\n",
              "      <td>1</td>\n",
              "      <td>0</td>\n",
              "      <td>0</td>\n",
              "      <td>1</td>\n",
              "      <td>0</td>\n",
              "      <td>0</td>\n",
              "      <td>0</td>\n",
              "      <td>0</td>\n",
              "      <td>1</td>\n",
              "      <td>0</td>\n",
              "      <td>...</td>\n",
              "      <td>0</td>\n",
              "      <td>0</td>\n",
              "      <td>0</td>\n",
              "      <td>0</td>\n",
              "      <td>0</td>\n",
              "      <td>0</td>\n",
              "      <td>0</td>\n",
              "      <td>0</td>\n",
              "      <td>1</td>\n",
              "      <td>0</td>\n",
              "    </tr>\n",
              "    <tr>\n",
              "      <th>2</th>\n",
              "      <td>1</td>\n",
              "      <td>0</td>\n",
              "      <td>0</td>\n",
              "      <td>1</td>\n",
              "      <td>0</td>\n",
              "      <td>0</td>\n",
              "      <td>0</td>\n",
              "      <td>0</td>\n",
              "      <td>0</td>\n",
              "      <td>1</td>\n",
              "      <td>...</td>\n",
              "      <td>0</td>\n",
              "      <td>0</td>\n",
              "      <td>0</td>\n",
              "      <td>0</td>\n",
              "      <td>0</td>\n",
              "      <td>0</td>\n",
              "      <td>0</td>\n",
              "      <td>0</td>\n",
              "      <td>1</td>\n",
              "      <td>0</td>\n",
              "    </tr>\n",
              "    <tr>\n",
              "      <th>3</th>\n",
              "      <td>0</td>\n",
              "      <td>1</td>\n",
              "      <td>0</td>\n",
              "      <td>1</td>\n",
              "      <td>0</td>\n",
              "      <td>0</td>\n",
              "      <td>0</td>\n",
              "      <td>0</td>\n",
              "      <td>0</td>\n",
              "      <td>1</td>\n",
              "      <td>...</td>\n",
              "      <td>0</td>\n",
              "      <td>0</td>\n",
              "      <td>0</td>\n",
              "      <td>0</td>\n",
              "      <td>0</td>\n",
              "      <td>0</td>\n",
              "      <td>0</td>\n",
              "      <td>0</td>\n",
              "      <td>1</td>\n",
              "      <td>0</td>\n",
              "    </tr>\n",
              "    <tr>\n",
              "      <th>4</th>\n",
              "      <td>1</td>\n",
              "      <td>0</td>\n",
              "      <td>1</td>\n",
              "      <td>0</td>\n",
              "      <td>0</td>\n",
              "      <td>0</td>\n",
              "      <td>0</td>\n",
              "      <td>0</td>\n",
              "      <td>1</td>\n",
              "      <td>0</td>\n",
              "      <td>...</td>\n",
              "      <td>0</td>\n",
              "      <td>0</td>\n",
              "      <td>0</td>\n",
              "      <td>0</td>\n",
              "      <td>0</td>\n",
              "      <td>0</td>\n",
              "      <td>0</td>\n",
              "      <td>0</td>\n",
              "      <td>1</td>\n",
              "      <td>0</td>\n",
              "    </tr>\n",
              "    <tr>\n",
              "      <th>5</th>\n",
              "      <td>1</td>\n",
              "      <td>0</td>\n",
              "      <td>0</td>\n",
              "      <td>1</td>\n",
              "      <td>0</td>\n",
              "      <td>0</td>\n",
              "      <td>0</td>\n",
              "      <td>0</td>\n",
              "      <td>0</td>\n",
              "      <td>1</td>\n",
              "      <td>...</td>\n",
              "      <td>0</td>\n",
              "      <td>0</td>\n",
              "      <td>0</td>\n",
              "      <td>0</td>\n",
              "      <td>0</td>\n",
              "      <td>0</td>\n",
              "      <td>0</td>\n",
              "      <td>0</td>\n",
              "      <td>1</td>\n",
              "      <td>0</td>\n",
              "    </tr>\n",
              "    <tr>\n",
              "      <th>6</th>\n",
              "      <td>1</td>\n",
              "      <td>0</td>\n",
              "      <td>0</td>\n",
              "      <td>1</td>\n",
              "      <td>0</td>\n",
              "      <td>0</td>\n",
              "      <td>1</td>\n",
              "      <td>0</td>\n",
              "      <td>0</td>\n",
              "      <td>0</td>\n",
              "      <td>...</td>\n",
              "      <td>0</td>\n",
              "      <td>0</td>\n",
              "      <td>0</td>\n",
              "      <td>0</td>\n",
              "      <td>0</td>\n",
              "      <td>0</td>\n",
              "      <td>0</td>\n",
              "      <td>0</td>\n",
              "      <td>1</td>\n",
              "      <td>0</td>\n",
              "    </tr>\n",
              "    <tr>\n",
              "      <th>7</th>\n",
              "      <td>1</td>\n",
              "      <td>0</td>\n",
              "      <td>0</td>\n",
              "      <td>1</td>\n",
              "      <td>0</td>\n",
              "      <td>0</td>\n",
              "      <td>0</td>\n",
              "      <td>0</td>\n",
              "      <td>0</td>\n",
              "      <td>1</td>\n",
              "      <td>...</td>\n",
              "      <td>0</td>\n",
              "      <td>0</td>\n",
              "      <td>0</td>\n",
              "      <td>0</td>\n",
              "      <td>0</td>\n",
              "      <td>0</td>\n",
              "      <td>0</td>\n",
              "      <td>0</td>\n",
              "      <td>1</td>\n",
              "      <td>0</td>\n",
              "    </tr>\n",
              "    <tr>\n",
              "      <th>8</th>\n",
              "      <td>0</td>\n",
              "      <td>1</td>\n",
              "      <td>0</td>\n",
              "      <td>1</td>\n",
              "      <td>0</td>\n",
              "      <td>0</td>\n",
              "      <td>0</td>\n",
              "      <td>0</td>\n",
              "      <td>0</td>\n",
              "      <td>0</td>\n",
              "      <td>...</td>\n",
              "      <td>0</td>\n",
              "      <td>0</td>\n",
              "      <td>0</td>\n",
              "      <td>0</td>\n",
              "      <td>0</td>\n",
              "      <td>0</td>\n",
              "      <td>0</td>\n",
              "      <td>0</td>\n",
              "      <td>1</td>\n",
              "      <td>0</td>\n",
              "    </tr>\n",
              "    <tr>\n",
              "      <th>9</th>\n",
              "      <td>1</td>\n",
              "      <td>0</td>\n",
              "      <td>0</td>\n",
              "      <td>1</td>\n",
              "      <td>0</td>\n",
              "      <td>0</td>\n",
              "      <td>1</td>\n",
              "      <td>0</td>\n",
              "      <td>0</td>\n",
              "      <td>0</td>\n",
              "      <td>...</td>\n",
              "      <td>0</td>\n",
              "      <td>0</td>\n",
              "      <td>0</td>\n",
              "      <td>0</td>\n",
              "      <td>0</td>\n",
              "      <td>0</td>\n",
              "      <td>0</td>\n",
              "      <td>0</td>\n",
              "      <td>1</td>\n",
              "      <td>0</td>\n",
              "    </tr>\n",
              "  </tbody>\n",
              "</table>\n",
              "<p>10 rows × 56 columns</p>\n",
              "</div>\n",
              "      <button class=\"colab-df-convert\" onclick=\"convertToInteractive('df-c3ebf3a4-7855-420b-a111-6e39ecf17942')\"\n",
              "              title=\"Convert this dataframe to an interactive table.\"\n",
              "              style=\"display:none;\">\n",
              "        \n",
              "  <svg xmlns=\"http://www.w3.org/2000/svg\" height=\"24px\"viewBox=\"0 0 24 24\"\n",
              "       width=\"24px\">\n",
              "    <path d=\"M0 0h24v24H0V0z\" fill=\"none\"/>\n",
              "    <path d=\"M18.56 5.44l.94 2.06.94-2.06 2.06-.94-2.06-.94-.94-2.06-.94 2.06-2.06.94zm-11 1L8.5 8.5l.94-2.06 2.06-.94-2.06-.94L8.5 2.5l-.94 2.06-2.06.94zm10 10l.94 2.06.94-2.06 2.06-.94-2.06-.94-.94-2.06-.94 2.06-2.06.94z\"/><path d=\"M17.41 7.96l-1.37-1.37c-.4-.4-.92-.59-1.43-.59-.52 0-1.04.2-1.43.59L10.3 9.45l-7.72 7.72c-.78.78-.78 2.05 0 2.83L4 21.41c.39.39.9.59 1.41.59.51 0 1.02-.2 1.41-.59l7.78-7.78 2.81-2.81c.8-.78.8-2.07 0-2.86zM5.41 20L4 18.59l7.72-7.72 1.47 1.35L5.41 20z\"/>\n",
              "  </svg>\n",
              "      </button>\n",
              "      \n",
              "  <style>\n",
              "    .colab-df-container {\n",
              "      display:flex;\n",
              "      flex-wrap:wrap;\n",
              "      gap: 12px;\n",
              "    }\n",
              "\n",
              "    .colab-df-convert {\n",
              "      background-color: #E8F0FE;\n",
              "      border: none;\n",
              "      border-radius: 50%;\n",
              "      cursor: pointer;\n",
              "      display: none;\n",
              "      fill: #1967D2;\n",
              "      height: 32px;\n",
              "      padding: 0 0 0 0;\n",
              "      width: 32px;\n",
              "    }\n",
              "\n",
              "    .colab-df-convert:hover {\n",
              "      background-color: #E2EBFA;\n",
              "      box-shadow: 0px 1px 2px rgba(60, 64, 67, 0.3), 0px 1px 3px 1px rgba(60, 64, 67, 0.15);\n",
              "      fill: #174EA6;\n",
              "    }\n",
              "\n",
              "    [theme=dark] .colab-df-convert {\n",
              "      background-color: #3B4455;\n",
              "      fill: #D2E3FC;\n",
              "    }\n",
              "\n",
              "    [theme=dark] .colab-df-convert:hover {\n",
              "      background-color: #434B5C;\n",
              "      box-shadow: 0px 1px 3px 1px rgba(0, 0, 0, 0.15);\n",
              "      filter: drop-shadow(0px 1px 2px rgba(0, 0, 0, 0.3));\n",
              "      fill: #FFFFFF;\n",
              "    }\n",
              "  </style>\n",
              "\n",
              "      <script>\n",
              "        const buttonEl =\n",
              "          document.querySelector('#df-c3ebf3a4-7855-420b-a111-6e39ecf17942 button.colab-df-convert');\n",
              "        buttonEl.style.display =\n",
              "          google.colab.kernel.accessAllowed ? 'block' : 'none';\n",
              "\n",
              "        async function convertToInteractive(key) {\n",
              "          const element = document.querySelector('#df-c3ebf3a4-7855-420b-a111-6e39ecf17942');\n",
              "          const dataTable =\n",
              "            await google.colab.kernel.invokeFunction('convertToInteractive',\n",
              "                                                     [key], {});\n",
              "          if (!dataTable) return;\n",
              "\n",
              "          const docLinkHtml = 'Like what you see? Visit the ' +\n",
              "            '<a target=\"_blank\" href=https://colab.research.google.com/notebooks/data_table.ipynb>data table notebook</a>'\n",
              "            + ' to learn more about interactive tables.';\n",
              "          element.innerHTML = '';\n",
              "          dataTable['output_type'] = 'display_data';\n",
              "          await google.colab.output.renderOutput(dataTable, element);\n",
              "          const docLink = document.createElement('div');\n",
              "          docLink.innerHTML = docLinkHtml;\n",
              "          element.appendChild(docLink);\n",
              "        }\n",
              "      </script>\n",
              "    </div>\n",
              "  </div>\n",
              "  "
            ]
          },
          "metadata": {},
          "execution_count": 26
        }
      ],
      "source": [
        "#Transformamos con el pipeline la data haciendo ONE HOT ENCODING\n",
        "data4 = pd.get_dummies(data4)\n",
        "data4.head(10)"
      ]
    },
    {
      "cell_type": "code",
      "execution_count": 27,
      "metadata": {
        "colab": {
          "base_uri": "https://localhost:8080/",
          "height": 331
        },
        "id": "iOrGWSysuhGk",
        "outputId": "8516aa49-8131-407c-cf62-282916f4f7bf"
      },
      "outputs": [
        {
          "output_type": "execute_result",
          "data": {
            "text/plain": [
              "   POI_e  BRUISES_t  G_COLOR_e  G_COLOR_g  G_COLOR_h  G_COLOR_k  G_COLOR_n  \\\n",
              "0      0          1          0          0          0          1          0   \n",
              "1      1          1          0          0          0          1          0   \n",
              "2      1          1          0          0          0          0          1   \n",
              "3      0          1          0          0          0          0          1   \n",
              "4      1          0          0          0          0          1          0   \n",
              "5      1          1          0          0          0          0          1   \n",
              "\n",
              "   G_COLOR_o  G_COLOR_p  G_COLOR_r  ...  SPORE_w  SPORE_y  S_COLOR_AB_b  \\\n",
              "0          0          0          0  ...        0        0             0   \n",
              "1          0          0          0  ...        0        0             0   \n",
              "2          0          0          0  ...        0        0             0   \n",
              "3          0          0          0  ...        0        0             0   \n",
              "4          0          0          0  ...        0        0             0   \n",
              "5          0          0          0  ...        0        0             0   \n",
              "\n",
              "   S_COLOR_AB_e  S_COLOR_AB_g  S_COLOR_AB_n  S_COLOR_AB_o  S_COLOR_AB_p  \\\n",
              "0             0             0             0             0             0   \n",
              "1             0             0             0             0             0   \n",
              "2             0             0             0             0             0   \n",
              "3             0             0             0             0             0   \n",
              "4             0             0             0             0             0   \n",
              "5             0             0             0             0             0   \n",
              "\n",
              "   S_COLOR_AB_w  S_COLOR_AB_y  \n",
              "0             1             0  \n",
              "1             1             0  \n",
              "2             1             0  \n",
              "3             1             0  \n",
              "4             1             0  \n",
              "5             1             0  \n",
              "\n",
              "[6 rows x 45 columns]"
            ],
            "text/html": [
              "\n",
              "  <div id=\"df-a7ace6cb-e352-4f4a-a475-2cdeed34eba2\">\n",
              "    <div class=\"colab-df-container\">\n",
              "      <div>\n",
              "<style scoped>\n",
              "    .dataframe tbody tr th:only-of-type {\n",
              "        vertical-align: middle;\n",
              "    }\n",
              "\n",
              "    .dataframe tbody tr th {\n",
              "        vertical-align: top;\n",
              "    }\n",
              "\n",
              "    .dataframe thead th {\n",
              "        text-align: right;\n",
              "    }\n",
              "</style>\n",
              "<table border=\"1\" class=\"dataframe\">\n",
              "  <thead>\n",
              "    <tr style=\"text-align: right;\">\n",
              "      <th></th>\n",
              "      <th>POI_e</th>\n",
              "      <th>BRUISES_t</th>\n",
              "      <th>G_COLOR_e</th>\n",
              "      <th>G_COLOR_g</th>\n",
              "      <th>G_COLOR_h</th>\n",
              "      <th>G_COLOR_k</th>\n",
              "      <th>G_COLOR_n</th>\n",
              "      <th>G_COLOR_o</th>\n",
              "      <th>G_COLOR_p</th>\n",
              "      <th>G_COLOR_r</th>\n",
              "      <th>...</th>\n",
              "      <th>SPORE_w</th>\n",
              "      <th>SPORE_y</th>\n",
              "      <th>S_COLOR_AB_b</th>\n",
              "      <th>S_COLOR_AB_e</th>\n",
              "      <th>S_COLOR_AB_g</th>\n",
              "      <th>S_COLOR_AB_n</th>\n",
              "      <th>S_COLOR_AB_o</th>\n",
              "      <th>S_COLOR_AB_p</th>\n",
              "      <th>S_COLOR_AB_w</th>\n",
              "      <th>S_COLOR_AB_y</th>\n",
              "    </tr>\n",
              "  </thead>\n",
              "  <tbody>\n",
              "    <tr>\n",
              "      <th>0</th>\n",
              "      <td>0</td>\n",
              "      <td>1</td>\n",
              "      <td>0</td>\n",
              "      <td>0</td>\n",
              "      <td>0</td>\n",
              "      <td>1</td>\n",
              "      <td>0</td>\n",
              "      <td>0</td>\n",
              "      <td>0</td>\n",
              "      <td>0</td>\n",
              "      <td>...</td>\n",
              "      <td>0</td>\n",
              "      <td>0</td>\n",
              "      <td>0</td>\n",
              "      <td>0</td>\n",
              "      <td>0</td>\n",
              "      <td>0</td>\n",
              "      <td>0</td>\n",
              "      <td>0</td>\n",
              "      <td>1</td>\n",
              "      <td>0</td>\n",
              "    </tr>\n",
              "    <tr>\n",
              "      <th>1</th>\n",
              "      <td>1</td>\n",
              "      <td>1</td>\n",
              "      <td>0</td>\n",
              "      <td>0</td>\n",
              "      <td>0</td>\n",
              "      <td>1</td>\n",
              "      <td>0</td>\n",
              "      <td>0</td>\n",
              "      <td>0</td>\n",
              "      <td>0</td>\n",
              "      <td>...</td>\n",
              "      <td>0</td>\n",
              "      <td>0</td>\n",
              "      <td>0</td>\n",
              "      <td>0</td>\n",
              "      <td>0</td>\n",
              "      <td>0</td>\n",
              "      <td>0</td>\n",
              "      <td>0</td>\n",
              "      <td>1</td>\n",
              "      <td>0</td>\n",
              "    </tr>\n",
              "    <tr>\n",
              "      <th>2</th>\n",
              "      <td>1</td>\n",
              "      <td>1</td>\n",
              "      <td>0</td>\n",
              "      <td>0</td>\n",
              "      <td>0</td>\n",
              "      <td>0</td>\n",
              "      <td>1</td>\n",
              "      <td>0</td>\n",
              "      <td>0</td>\n",
              "      <td>0</td>\n",
              "      <td>...</td>\n",
              "      <td>0</td>\n",
              "      <td>0</td>\n",
              "      <td>0</td>\n",
              "      <td>0</td>\n",
              "      <td>0</td>\n",
              "      <td>0</td>\n",
              "      <td>0</td>\n",
              "      <td>0</td>\n",
              "      <td>1</td>\n",
              "      <td>0</td>\n",
              "    </tr>\n",
              "    <tr>\n",
              "      <th>3</th>\n",
              "      <td>0</td>\n",
              "      <td>1</td>\n",
              "      <td>0</td>\n",
              "      <td>0</td>\n",
              "      <td>0</td>\n",
              "      <td>0</td>\n",
              "      <td>1</td>\n",
              "      <td>0</td>\n",
              "      <td>0</td>\n",
              "      <td>0</td>\n",
              "      <td>...</td>\n",
              "      <td>0</td>\n",
              "      <td>0</td>\n",
              "      <td>0</td>\n",
              "      <td>0</td>\n",
              "      <td>0</td>\n",
              "      <td>0</td>\n",
              "      <td>0</td>\n",
              "      <td>0</td>\n",
              "      <td>1</td>\n",
              "      <td>0</td>\n",
              "    </tr>\n",
              "    <tr>\n",
              "      <th>4</th>\n",
              "      <td>1</td>\n",
              "      <td>0</td>\n",
              "      <td>0</td>\n",
              "      <td>0</td>\n",
              "      <td>0</td>\n",
              "      <td>1</td>\n",
              "      <td>0</td>\n",
              "      <td>0</td>\n",
              "      <td>0</td>\n",
              "      <td>0</td>\n",
              "      <td>...</td>\n",
              "      <td>0</td>\n",
              "      <td>0</td>\n",
              "      <td>0</td>\n",
              "      <td>0</td>\n",
              "      <td>0</td>\n",
              "      <td>0</td>\n",
              "      <td>0</td>\n",
              "      <td>0</td>\n",
              "      <td>1</td>\n",
              "      <td>0</td>\n",
              "    </tr>\n",
              "    <tr>\n",
              "      <th>5</th>\n",
              "      <td>1</td>\n",
              "      <td>1</td>\n",
              "      <td>0</td>\n",
              "      <td>0</td>\n",
              "      <td>0</td>\n",
              "      <td>0</td>\n",
              "      <td>1</td>\n",
              "      <td>0</td>\n",
              "      <td>0</td>\n",
              "      <td>0</td>\n",
              "      <td>...</td>\n",
              "      <td>0</td>\n",
              "      <td>0</td>\n",
              "      <td>0</td>\n",
              "      <td>0</td>\n",
              "      <td>0</td>\n",
              "      <td>0</td>\n",
              "      <td>0</td>\n",
              "      <td>0</td>\n",
              "      <td>1</td>\n",
              "      <td>0</td>\n",
              "    </tr>\n",
              "  </tbody>\n",
              "</table>\n",
              "<p>6 rows × 45 columns</p>\n",
              "</div>\n",
              "      <button class=\"colab-df-convert\" onclick=\"convertToInteractive('df-a7ace6cb-e352-4f4a-a475-2cdeed34eba2')\"\n",
              "              title=\"Convert this dataframe to an interactive table.\"\n",
              "              style=\"display:none;\">\n",
              "        \n",
              "  <svg xmlns=\"http://www.w3.org/2000/svg\" height=\"24px\"viewBox=\"0 0 24 24\"\n",
              "       width=\"24px\">\n",
              "    <path d=\"M0 0h24v24H0V0z\" fill=\"none\"/>\n",
              "    <path d=\"M18.56 5.44l.94 2.06.94-2.06 2.06-.94-2.06-.94-.94-2.06-.94 2.06-2.06.94zm-11 1L8.5 8.5l.94-2.06 2.06-.94-2.06-.94L8.5 2.5l-.94 2.06-2.06.94zm10 10l.94 2.06.94-2.06 2.06-.94-2.06-.94-.94-2.06-.94 2.06-2.06.94z\"/><path d=\"M17.41 7.96l-1.37-1.37c-.4-.4-.92-.59-1.43-.59-.52 0-1.04.2-1.43.59L10.3 9.45l-7.72 7.72c-.78.78-.78 2.05 0 2.83L4 21.41c.39.39.9.59 1.41.59.51 0 1.02-.2 1.41-.59l7.78-7.78 2.81-2.81c.8-.78.8-2.07 0-2.86zM5.41 20L4 18.59l7.72-7.72 1.47 1.35L5.41 20z\"/>\n",
              "  </svg>\n",
              "      </button>\n",
              "      \n",
              "  <style>\n",
              "    .colab-df-container {\n",
              "      display:flex;\n",
              "      flex-wrap:wrap;\n",
              "      gap: 12px;\n",
              "    }\n",
              "\n",
              "    .colab-df-convert {\n",
              "      background-color: #E8F0FE;\n",
              "      border: none;\n",
              "      border-radius: 50%;\n",
              "      cursor: pointer;\n",
              "      display: none;\n",
              "      fill: #1967D2;\n",
              "      height: 32px;\n",
              "      padding: 0 0 0 0;\n",
              "      width: 32px;\n",
              "    }\n",
              "\n",
              "    .colab-df-convert:hover {\n",
              "      background-color: #E2EBFA;\n",
              "      box-shadow: 0px 1px 2px rgba(60, 64, 67, 0.3), 0px 1px 3px 1px rgba(60, 64, 67, 0.15);\n",
              "      fill: #174EA6;\n",
              "    }\n",
              "\n",
              "    [theme=dark] .colab-df-convert {\n",
              "      background-color: #3B4455;\n",
              "      fill: #D2E3FC;\n",
              "    }\n",
              "\n",
              "    [theme=dark] .colab-df-convert:hover {\n",
              "      background-color: #434B5C;\n",
              "      box-shadow: 0px 1px 3px 1px rgba(0, 0, 0, 0.15);\n",
              "      filter: drop-shadow(0px 1px 2px rgba(0, 0, 0, 0.3));\n",
              "      fill: #FFFFFF;\n",
              "    }\n",
              "  </style>\n",
              "\n",
              "      <script>\n",
              "        const buttonEl =\n",
              "          document.querySelector('#df-a7ace6cb-e352-4f4a-a475-2cdeed34eba2 button.colab-df-convert');\n",
              "        buttonEl.style.display =\n",
              "          google.colab.kernel.accessAllowed ? 'block' : 'none';\n",
              "\n",
              "        async function convertToInteractive(key) {\n",
              "          const element = document.querySelector('#df-a7ace6cb-e352-4f4a-a475-2cdeed34eba2');\n",
              "          const dataTable =\n",
              "            await google.colab.kernel.invokeFunction('convertToInteractive',\n",
              "                                                     [key], {});\n",
              "          if (!dataTable) return;\n",
              "\n",
              "          const docLinkHtml = 'Like what you see? Visit the ' +\n",
              "            '<a target=\"_blank\" href=https://colab.research.google.com/notebooks/data_table.ipynb>data table notebook</a>'\n",
              "            + ' to learn more about interactive tables.';\n",
              "          element.innerHTML = '';\n",
              "          dataTable['output_type'] = 'display_data';\n",
              "          await google.colab.output.renderOutput(dataTable, element);\n",
              "          const docLink = document.createElement('div');\n",
              "          docLink.innerHTML = docLinkHtml;\n",
              "          element.appendChild(docLink);\n",
              "        }\n",
              "      </script>\n",
              "    </div>\n",
              "  </div>\n",
              "  "
            ]
          },
          "metadata": {},
          "execution_count": 27
        }
      ],
      "source": [
        "## Para que quede una sola variable opjetivo se deja la variable POI_e, que representa los hongos comestibles.\n",
        "data4 = data4.drop(['POI_p'],axis=1)\n",
        "\n",
        "## Eliminación de categoria por variable\n",
        "\n",
        "data4 = data4.drop(['BRUISES_f','G_COLOR_b','G_SIZE_b','ODOR_n','POP_s','RING_T_n','SPORE_h','S_COLOR_AB_c','G_SIZE_n','ODOR_f'],axis=1)\n",
        "data4.head(6)"
      ]
    },
    {
      "cell_type": "markdown",
      "metadata": {
        "id": "r1BfASTBuhGk"
      },
      "source": [
        "Finalmente se establece la partición de las bases para su entrenamiento y prueba."
      ]
    },
    {
      "cell_type": "code",
      "execution_count": 28,
      "metadata": {
        "colab": {
          "base_uri": "https://localhost:8080/",
          "height": 0
        },
        "id": "a5G0dp-3uhGk",
        "outputId": "69c425c9-b735-47af-c593-255b3f34401f"
      },
      "outputs": [
        {
          "output_type": "execute_result",
          "data": {
            "text/plain": [
              "{'Entrenamiento': 5686, 'Prueba': 2438}"
            ]
          },
          "metadata": {},
          "execution_count": 28
        }
      ],
      "source": [
        "## Data de prueba y partición\n",
        "\n",
        "X, y =  data4.drop(['POI_e'],axis=1), data4[['POI_e']]\n",
        "X_train, X_test, y_train, y_test = train_test_split(X,y,test_size=0.3,random_state=123)\n",
        "\n",
        "##Tamaño data de entrenamiento y prueba\n",
        "a = len(X_train)\n",
        "b = len(X_test)\n",
        "\n",
        "## Tamaño registros de entrenamiento y prueba\n",
        "{'Entrenamiento':a,'Prueba':b}"
      ]
    },
    {
      "cell_type": "code",
      "execution_count": 29,
      "metadata": {
        "colab": {
          "base_uri": "https://localhost:8080/",
          "height": 331
        },
        "id": "a8sMlqPMuhGk",
        "outputId": "6cfcd320-58be-41bb-f1e3-d623942032c9"
      },
      "outputs": [
        {
          "output_type": "execute_result",
          "data": {
            "text/plain": [
              "   BRUISES_t  G_COLOR_e  G_COLOR_g  G_COLOR_h  G_COLOR_k  G_COLOR_n  \\\n",
              "0          1          0          0          0          1          0   \n",
              "1          1          0          0          0          1          0   \n",
              "2          1          0          0          0          0          1   \n",
              "3          1          0          0          0          0          1   \n",
              "4          0          0          0          0          1          0   \n",
              "5          1          0          0          0          0          1   \n",
              "\n",
              "   G_COLOR_o  G_COLOR_p  G_COLOR_r  G_COLOR_u  ...  SPORE_w  SPORE_y  \\\n",
              "0          0          0          0          0  ...        0        0   \n",
              "1          0          0          0          0  ...        0        0   \n",
              "2          0          0          0          0  ...        0        0   \n",
              "3          0          0          0          0  ...        0        0   \n",
              "4          0          0          0          0  ...        0        0   \n",
              "5          0          0          0          0  ...        0        0   \n",
              "\n",
              "   S_COLOR_AB_b  S_COLOR_AB_e  S_COLOR_AB_g  S_COLOR_AB_n  S_COLOR_AB_o  \\\n",
              "0             0             0             0             0             0   \n",
              "1             0             0             0             0             0   \n",
              "2             0             0             0             0             0   \n",
              "3             0             0             0             0             0   \n",
              "4             0             0             0             0             0   \n",
              "5             0             0             0             0             0   \n",
              "\n",
              "   S_COLOR_AB_p  S_COLOR_AB_w  S_COLOR_AB_y  \n",
              "0             0             1             0  \n",
              "1             0             1             0  \n",
              "2             0             1             0  \n",
              "3             0             1             0  \n",
              "4             0             1             0  \n",
              "5             0             1             0  \n",
              "\n",
              "[6 rows x 44 columns]"
            ],
            "text/html": [
              "\n",
              "  <div id=\"df-fbf1e1f9-3562-4ea1-8751-b4d7311b8fe8\">\n",
              "    <div class=\"colab-df-container\">\n",
              "      <div>\n",
              "<style scoped>\n",
              "    .dataframe tbody tr th:only-of-type {\n",
              "        vertical-align: middle;\n",
              "    }\n",
              "\n",
              "    .dataframe tbody tr th {\n",
              "        vertical-align: top;\n",
              "    }\n",
              "\n",
              "    .dataframe thead th {\n",
              "        text-align: right;\n",
              "    }\n",
              "</style>\n",
              "<table border=\"1\" class=\"dataframe\">\n",
              "  <thead>\n",
              "    <tr style=\"text-align: right;\">\n",
              "      <th></th>\n",
              "      <th>BRUISES_t</th>\n",
              "      <th>G_COLOR_e</th>\n",
              "      <th>G_COLOR_g</th>\n",
              "      <th>G_COLOR_h</th>\n",
              "      <th>G_COLOR_k</th>\n",
              "      <th>G_COLOR_n</th>\n",
              "      <th>G_COLOR_o</th>\n",
              "      <th>G_COLOR_p</th>\n",
              "      <th>G_COLOR_r</th>\n",
              "      <th>G_COLOR_u</th>\n",
              "      <th>...</th>\n",
              "      <th>SPORE_w</th>\n",
              "      <th>SPORE_y</th>\n",
              "      <th>S_COLOR_AB_b</th>\n",
              "      <th>S_COLOR_AB_e</th>\n",
              "      <th>S_COLOR_AB_g</th>\n",
              "      <th>S_COLOR_AB_n</th>\n",
              "      <th>S_COLOR_AB_o</th>\n",
              "      <th>S_COLOR_AB_p</th>\n",
              "      <th>S_COLOR_AB_w</th>\n",
              "      <th>S_COLOR_AB_y</th>\n",
              "    </tr>\n",
              "  </thead>\n",
              "  <tbody>\n",
              "    <tr>\n",
              "      <th>0</th>\n",
              "      <td>1</td>\n",
              "      <td>0</td>\n",
              "      <td>0</td>\n",
              "      <td>0</td>\n",
              "      <td>1</td>\n",
              "      <td>0</td>\n",
              "      <td>0</td>\n",
              "      <td>0</td>\n",
              "      <td>0</td>\n",
              "      <td>0</td>\n",
              "      <td>...</td>\n",
              "      <td>0</td>\n",
              "      <td>0</td>\n",
              "      <td>0</td>\n",
              "      <td>0</td>\n",
              "      <td>0</td>\n",
              "      <td>0</td>\n",
              "      <td>0</td>\n",
              "      <td>0</td>\n",
              "      <td>1</td>\n",
              "      <td>0</td>\n",
              "    </tr>\n",
              "    <tr>\n",
              "      <th>1</th>\n",
              "      <td>1</td>\n",
              "      <td>0</td>\n",
              "      <td>0</td>\n",
              "      <td>0</td>\n",
              "      <td>1</td>\n",
              "      <td>0</td>\n",
              "      <td>0</td>\n",
              "      <td>0</td>\n",
              "      <td>0</td>\n",
              "      <td>0</td>\n",
              "      <td>...</td>\n",
              "      <td>0</td>\n",
              "      <td>0</td>\n",
              "      <td>0</td>\n",
              "      <td>0</td>\n",
              "      <td>0</td>\n",
              "      <td>0</td>\n",
              "      <td>0</td>\n",
              "      <td>0</td>\n",
              "      <td>1</td>\n",
              "      <td>0</td>\n",
              "    </tr>\n",
              "    <tr>\n",
              "      <th>2</th>\n",
              "      <td>1</td>\n",
              "      <td>0</td>\n",
              "      <td>0</td>\n",
              "      <td>0</td>\n",
              "      <td>0</td>\n",
              "      <td>1</td>\n",
              "      <td>0</td>\n",
              "      <td>0</td>\n",
              "      <td>0</td>\n",
              "      <td>0</td>\n",
              "      <td>...</td>\n",
              "      <td>0</td>\n",
              "      <td>0</td>\n",
              "      <td>0</td>\n",
              "      <td>0</td>\n",
              "      <td>0</td>\n",
              "      <td>0</td>\n",
              "      <td>0</td>\n",
              "      <td>0</td>\n",
              "      <td>1</td>\n",
              "      <td>0</td>\n",
              "    </tr>\n",
              "    <tr>\n",
              "      <th>3</th>\n",
              "      <td>1</td>\n",
              "      <td>0</td>\n",
              "      <td>0</td>\n",
              "      <td>0</td>\n",
              "      <td>0</td>\n",
              "      <td>1</td>\n",
              "      <td>0</td>\n",
              "      <td>0</td>\n",
              "      <td>0</td>\n",
              "      <td>0</td>\n",
              "      <td>...</td>\n",
              "      <td>0</td>\n",
              "      <td>0</td>\n",
              "      <td>0</td>\n",
              "      <td>0</td>\n",
              "      <td>0</td>\n",
              "      <td>0</td>\n",
              "      <td>0</td>\n",
              "      <td>0</td>\n",
              "      <td>1</td>\n",
              "      <td>0</td>\n",
              "    </tr>\n",
              "    <tr>\n",
              "      <th>4</th>\n",
              "      <td>0</td>\n",
              "      <td>0</td>\n",
              "      <td>0</td>\n",
              "      <td>0</td>\n",
              "      <td>1</td>\n",
              "      <td>0</td>\n",
              "      <td>0</td>\n",
              "      <td>0</td>\n",
              "      <td>0</td>\n",
              "      <td>0</td>\n",
              "      <td>...</td>\n",
              "      <td>0</td>\n",
              "      <td>0</td>\n",
              "      <td>0</td>\n",
              "      <td>0</td>\n",
              "      <td>0</td>\n",
              "      <td>0</td>\n",
              "      <td>0</td>\n",
              "      <td>0</td>\n",
              "      <td>1</td>\n",
              "      <td>0</td>\n",
              "    </tr>\n",
              "    <tr>\n",
              "      <th>5</th>\n",
              "      <td>1</td>\n",
              "      <td>0</td>\n",
              "      <td>0</td>\n",
              "      <td>0</td>\n",
              "      <td>0</td>\n",
              "      <td>1</td>\n",
              "      <td>0</td>\n",
              "      <td>0</td>\n",
              "      <td>0</td>\n",
              "      <td>0</td>\n",
              "      <td>...</td>\n",
              "      <td>0</td>\n",
              "      <td>0</td>\n",
              "      <td>0</td>\n",
              "      <td>0</td>\n",
              "      <td>0</td>\n",
              "      <td>0</td>\n",
              "      <td>0</td>\n",
              "      <td>0</td>\n",
              "      <td>1</td>\n",
              "      <td>0</td>\n",
              "    </tr>\n",
              "  </tbody>\n",
              "</table>\n",
              "<p>6 rows × 44 columns</p>\n",
              "</div>\n",
              "      <button class=\"colab-df-convert\" onclick=\"convertToInteractive('df-fbf1e1f9-3562-4ea1-8751-b4d7311b8fe8')\"\n",
              "              title=\"Convert this dataframe to an interactive table.\"\n",
              "              style=\"display:none;\">\n",
              "        \n",
              "  <svg xmlns=\"http://www.w3.org/2000/svg\" height=\"24px\"viewBox=\"0 0 24 24\"\n",
              "       width=\"24px\">\n",
              "    <path d=\"M0 0h24v24H0V0z\" fill=\"none\"/>\n",
              "    <path d=\"M18.56 5.44l.94 2.06.94-2.06 2.06-.94-2.06-.94-.94-2.06-.94 2.06-2.06.94zm-11 1L8.5 8.5l.94-2.06 2.06-.94-2.06-.94L8.5 2.5l-.94 2.06-2.06.94zm10 10l.94 2.06.94-2.06 2.06-.94-2.06-.94-.94-2.06-.94 2.06-2.06.94z\"/><path d=\"M17.41 7.96l-1.37-1.37c-.4-.4-.92-.59-1.43-.59-.52 0-1.04.2-1.43.59L10.3 9.45l-7.72 7.72c-.78.78-.78 2.05 0 2.83L4 21.41c.39.39.9.59 1.41.59.51 0 1.02-.2 1.41-.59l7.78-7.78 2.81-2.81c.8-.78.8-2.07 0-2.86zM5.41 20L4 18.59l7.72-7.72 1.47 1.35L5.41 20z\"/>\n",
              "  </svg>\n",
              "      </button>\n",
              "      \n",
              "  <style>\n",
              "    .colab-df-container {\n",
              "      display:flex;\n",
              "      flex-wrap:wrap;\n",
              "      gap: 12px;\n",
              "    }\n",
              "\n",
              "    .colab-df-convert {\n",
              "      background-color: #E8F0FE;\n",
              "      border: none;\n",
              "      border-radius: 50%;\n",
              "      cursor: pointer;\n",
              "      display: none;\n",
              "      fill: #1967D2;\n",
              "      height: 32px;\n",
              "      padding: 0 0 0 0;\n",
              "      width: 32px;\n",
              "    }\n",
              "\n",
              "    .colab-df-convert:hover {\n",
              "      background-color: #E2EBFA;\n",
              "      box-shadow: 0px 1px 2px rgba(60, 64, 67, 0.3), 0px 1px 3px 1px rgba(60, 64, 67, 0.15);\n",
              "      fill: #174EA6;\n",
              "    }\n",
              "\n",
              "    [theme=dark] .colab-df-convert {\n",
              "      background-color: #3B4455;\n",
              "      fill: #D2E3FC;\n",
              "    }\n",
              "\n",
              "    [theme=dark] .colab-df-convert:hover {\n",
              "      background-color: #434B5C;\n",
              "      box-shadow: 0px 1px 3px 1px rgba(0, 0, 0, 0.15);\n",
              "      filter: drop-shadow(0px 1px 2px rgba(0, 0, 0, 0.3));\n",
              "      fill: #FFFFFF;\n",
              "    }\n",
              "  </style>\n",
              "\n",
              "      <script>\n",
              "        const buttonEl =\n",
              "          document.querySelector('#df-fbf1e1f9-3562-4ea1-8751-b4d7311b8fe8 button.colab-df-convert');\n",
              "        buttonEl.style.display =\n",
              "          google.colab.kernel.accessAllowed ? 'block' : 'none';\n",
              "\n",
              "        async function convertToInteractive(key) {\n",
              "          const element = document.querySelector('#df-fbf1e1f9-3562-4ea1-8751-b4d7311b8fe8');\n",
              "          const dataTable =\n",
              "            await google.colab.kernel.invokeFunction('convertToInteractive',\n",
              "                                                     [key], {});\n",
              "          if (!dataTable) return;\n",
              "\n",
              "          const docLinkHtml = 'Like what you see? Visit the ' +\n",
              "            '<a target=\"_blank\" href=https://colab.research.google.com/notebooks/data_table.ipynb>data table notebook</a>'\n",
              "            + ' to learn more about interactive tables.';\n",
              "          element.innerHTML = '';\n",
              "          dataTable['output_type'] = 'display_data';\n",
              "          await google.colab.output.renderOutput(dataTable, element);\n",
              "          const docLink = document.createElement('div');\n",
              "          docLink.innerHTML = docLinkHtml;\n",
              "          element.appendChild(docLink);\n",
              "        }\n",
              "      </script>\n",
              "    </div>\n",
              "  </div>\n",
              "  "
            ]
          },
          "metadata": {},
          "execution_count": 29
        }
      ],
      "source": [
        "## Parametros del modelo\n",
        "X.head(6)"
      ]
    },
    {
      "cell_type": "code",
      "execution_count": 30,
      "metadata": {
        "colab": {
          "base_uri": "https://localhost:8080/",
          "height": 237
        },
        "id": "FO33KLKouhGl",
        "outputId": "a00e6567-3f5a-4d99-ef94-8cf67888f14f"
      },
      "outputs": [
        {
          "output_type": "execute_result",
          "data": {
            "text/plain": [
              "   POI_e\n",
              "0      0\n",
              "1      1\n",
              "2      1\n",
              "3      0\n",
              "4      1\n",
              "5      1"
            ],
            "text/html": [
              "\n",
              "  <div id=\"df-4e0d7613-6ca1-4087-8918-dc468e78854e\">\n",
              "    <div class=\"colab-df-container\">\n",
              "      <div>\n",
              "<style scoped>\n",
              "    .dataframe tbody tr th:only-of-type {\n",
              "        vertical-align: middle;\n",
              "    }\n",
              "\n",
              "    .dataframe tbody tr th {\n",
              "        vertical-align: top;\n",
              "    }\n",
              "\n",
              "    .dataframe thead th {\n",
              "        text-align: right;\n",
              "    }\n",
              "</style>\n",
              "<table border=\"1\" class=\"dataframe\">\n",
              "  <thead>\n",
              "    <tr style=\"text-align: right;\">\n",
              "      <th></th>\n",
              "      <th>POI_e</th>\n",
              "    </tr>\n",
              "  </thead>\n",
              "  <tbody>\n",
              "    <tr>\n",
              "      <th>0</th>\n",
              "      <td>0</td>\n",
              "    </tr>\n",
              "    <tr>\n",
              "      <th>1</th>\n",
              "      <td>1</td>\n",
              "    </tr>\n",
              "    <tr>\n",
              "      <th>2</th>\n",
              "      <td>1</td>\n",
              "    </tr>\n",
              "    <tr>\n",
              "      <th>3</th>\n",
              "      <td>0</td>\n",
              "    </tr>\n",
              "    <tr>\n",
              "      <th>4</th>\n",
              "      <td>1</td>\n",
              "    </tr>\n",
              "    <tr>\n",
              "      <th>5</th>\n",
              "      <td>1</td>\n",
              "    </tr>\n",
              "  </tbody>\n",
              "</table>\n",
              "</div>\n",
              "      <button class=\"colab-df-convert\" onclick=\"convertToInteractive('df-4e0d7613-6ca1-4087-8918-dc468e78854e')\"\n",
              "              title=\"Convert this dataframe to an interactive table.\"\n",
              "              style=\"display:none;\">\n",
              "        \n",
              "  <svg xmlns=\"http://www.w3.org/2000/svg\" height=\"24px\"viewBox=\"0 0 24 24\"\n",
              "       width=\"24px\">\n",
              "    <path d=\"M0 0h24v24H0V0z\" fill=\"none\"/>\n",
              "    <path d=\"M18.56 5.44l.94 2.06.94-2.06 2.06-.94-2.06-.94-.94-2.06-.94 2.06-2.06.94zm-11 1L8.5 8.5l.94-2.06 2.06-.94-2.06-.94L8.5 2.5l-.94 2.06-2.06.94zm10 10l.94 2.06.94-2.06 2.06-.94-2.06-.94-.94-2.06-.94 2.06-2.06.94z\"/><path d=\"M17.41 7.96l-1.37-1.37c-.4-.4-.92-.59-1.43-.59-.52 0-1.04.2-1.43.59L10.3 9.45l-7.72 7.72c-.78.78-.78 2.05 0 2.83L4 21.41c.39.39.9.59 1.41.59.51 0 1.02-.2 1.41-.59l7.78-7.78 2.81-2.81c.8-.78.8-2.07 0-2.86zM5.41 20L4 18.59l7.72-7.72 1.47 1.35L5.41 20z\"/>\n",
              "  </svg>\n",
              "      </button>\n",
              "      \n",
              "  <style>\n",
              "    .colab-df-container {\n",
              "      display:flex;\n",
              "      flex-wrap:wrap;\n",
              "      gap: 12px;\n",
              "    }\n",
              "\n",
              "    .colab-df-convert {\n",
              "      background-color: #E8F0FE;\n",
              "      border: none;\n",
              "      border-radius: 50%;\n",
              "      cursor: pointer;\n",
              "      display: none;\n",
              "      fill: #1967D2;\n",
              "      height: 32px;\n",
              "      padding: 0 0 0 0;\n",
              "      width: 32px;\n",
              "    }\n",
              "\n",
              "    .colab-df-convert:hover {\n",
              "      background-color: #E2EBFA;\n",
              "      box-shadow: 0px 1px 2px rgba(60, 64, 67, 0.3), 0px 1px 3px 1px rgba(60, 64, 67, 0.15);\n",
              "      fill: #174EA6;\n",
              "    }\n",
              "\n",
              "    [theme=dark] .colab-df-convert {\n",
              "      background-color: #3B4455;\n",
              "      fill: #D2E3FC;\n",
              "    }\n",
              "\n",
              "    [theme=dark] .colab-df-convert:hover {\n",
              "      background-color: #434B5C;\n",
              "      box-shadow: 0px 1px 3px 1px rgba(0, 0, 0, 0.15);\n",
              "      filter: drop-shadow(0px 1px 2px rgba(0, 0, 0, 0.3));\n",
              "      fill: #FFFFFF;\n",
              "    }\n",
              "  </style>\n",
              "\n",
              "      <script>\n",
              "        const buttonEl =\n",
              "          document.querySelector('#df-4e0d7613-6ca1-4087-8918-dc468e78854e button.colab-df-convert');\n",
              "        buttonEl.style.display =\n",
              "          google.colab.kernel.accessAllowed ? 'block' : 'none';\n",
              "\n",
              "        async function convertToInteractive(key) {\n",
              "          const element = document.querySelector('#df-4e0d7613-6ca1-4087-8918-dc468e78854e');\n",
              "          const dataTable =\n",
              "            await google.colab.kernel.invokeFunction('convertToInteractive',\n",
              "                                                     [key], {});\n",
              "          if (!dataTable) return;\n",
              "\n",
              "          const docLinkHtml = 'Like what you see? Visit the ' +\n",
              "            '<a target=\"_blank\" href=https://colab.research.google.com/notebooks/data_table.ipynb>data table notebook</a>'\n",
              "            + ' to learn more about interactive tables.';\n",
              "          element.innerHTML = '';\n",
              "          dataTable['output_type'] = 'display_data';\n",
              "          await google.colab.output.renderOutput(dataTable, element);\n",
              "          const docLink = document.createElement('div');\n",
              "          docLink.innerHTML = docLinkHtml;\n",
              "          element.appendChild(docLink);\n",
              "        }\n",
              "      </script>\n",
              "    </div>\n",
              "  </div>\n",
              "  "
            ]
          },
          "metadata": {},
          "execution_count": 30
        }
      ],
      "source": [
        "## Variable objetivo\n",
        "y.head(6)"
      ]
    },
    {
      "cell_type": "markdown",
      "metadata": {
        "id": "N1VhckW7uhGl"
      },
      "source": [
        "## 4.3 Modelos"
      ]
    },
    {
      "cell_type": "markdown",
      "metadata": {
        "id": "Z1dtt_LGuhGl"
      },
      "source": [
        "Para el desarrollo de los modelo seguimos una serie de pasos que permitieran escoger el mejor modelo:\n",
        "\n",
        "1. Evaluamos la correlación de las variables dummie para estár seguros de que no exitan factores de correlación alta que afecten la capacidad predictiva del modelo a diseñar.\n",
        "2. Implementar la libreria Pycaret para que, con base a una metrica de exactitud, sea posible identificar lo modelos ideales para ponerlos a prueba.\n",
        "3. Probar desde sklearn los modelos encontrados para evaluar su comportamiento.\n",
        "\n",
        "Al final de los dos primeros pasos hicimos pruebas para tres modelos en concreto:\n",
        "- Análisis Discriminante\n",
        "- Vecinos más Cercanos\n",
        "- Arboles de Decisión\n",
        "\n",
        "Para la evaluación de los modelos seleccionados para su análisis desde sklearn se utilizó la siguiente metodología:\n",
        "1. El modelo se diseña por medio del entrenador correspondiente con la data de entrenamiento y se prueba los resultados con la data de prueba. Se aplican métricas de exactitud junto con la matríz de confución y curva ROC.\n",
        "\n",
        "2. Se aplica validación cruzada para evaluar si el modelo está sobrestimando o no. Esta validación se aplica solamente a la data de entrenamiento para que la data de prueba sirva como evaluador del modelo generado desde la validación cruzada.\n",
        "\n",
        "3. En el caso del modelo de Vecinos más Cercanos se diseñó un loop para validar el K más optimo de vecinos. Dicho loop se desarrolló tanto para la validación cruzada como sin ella. De esta manera se optimiza el valor K en ambos casos."
      ]
    },
    {
      "cell_type": "markdown",
      "metadata": {
        "id": "nt6tuSZuuhGl"
      },
      "source": [
        "# 4.4 Métricas"
      ]
    },
    {
      "cell_type": "markdown",
      "metadata": {
        "id": "HNylDaDwuhGl"
      },
      "source": [
        "El factor de selección de los modelos es la métrica de exactitud, de tal manera que los modelos con mejor capacidad de predicción seán los escogidos. Esto se desarrolla desde el momento en que se diseña el comparador de modelos de Pycaret pero aún utilizando esta herramiento, desidimos pasar a un proceso de análisis más puntual al evaluar tres modelos en concreto.\n",
        "\n",
        "Los modelos se desarollaron desde la libreria Sklearn la cual sostiene todas las necesidades técnicas desde el proceso de desarrollo de machine learning y evaluación de modelos. Por otro lado para el ploteo de gráficas se desarrolló con MathPlotLib y Seaborn. Igualmente en las transformaciones de las bases y generación de dataframes se utilizó Pandas."
      ]
    },
    {
      "cell_type": "markdown",
      "metadata": {
        "id": "v6KE42-GVXIp"
      },
      "source": [
        "# 5. Metodología"
      ]
    },
    {
      "cell_type": "markdown",
      "metadata": {
        "id": "Ivk_KtxZVXIp"
      },
      "source": [
        "## 5.1 Baseline"
      ]
    },
    {
      "cell_type": "markdown",
      "metadata": {
        "id": "u0tuzWfdff8U"
      },
      "source": [
        "### Correlación Datos Dummies"
      ]
    },
    {
      "cell_type": "markdown",
      "metadata": {
        "id": "3GmLsZOr7luQ"
      },
      "source": [
        "Desde el desarrollo de Pycaret es posible identificar los modelos que más se pueden adaptar al proceso predictivo. Pero igualmente existe un ejercicio adicional para la definición del modelo. y es la identificación de correlaciones.\n",
        "\n",
        "Aparte de la tarea de elegir las variables que se desarrollo previamente en el proceso descriptivo, estaría bien evaluar de las variables elegidas si existe alguna correlación. Por este motivo desarrollamos un análisis de correlación de Cramér-V."
      ]
    },
    {
      "cell_type": "code",
      "execution_count": 31,
      "metadata": {
        "id": "rBtP2xzRygGa"
      },
      "outputs": [],
      "source": [
        "## Importación de librerias\n",
        "\n",
        "import scipy.stats as ss\n",
        "import numpy as np"
      ]
    },
    {
      "cell_type": "code",
      "execution_count": 32,
      "metadata": {
        "id": "up6BSuOqyMEc"
      },
      "outputs": [],
      "source": [
        "#Para evaluar la correlación entre las variables categóricas en un conjunto de datos, utilizaremos el coeficiente de correlación de Cramér-V.\n",
        "\n",
        "def cramers_v(x, y):\n",
        "    confusion_matrix = pd.crosstab(x, y)\n",
        "    chi2 = ss.chi2_contingency(confusion_matrix)[0]\n",
        "    n = confusion_matrix.sum().sum()\n",
        "    phi2 = chi2 / n\n",
        "    r, k = confusion_matrix.shape\n",
        "    phi2_corr = max(0, phi2 - ((k-1)*(r-1))/(n-1))\n",
        "    r_corr = r - ((r-1)**2)/(n-1)\n",
        "    k_corr = k - ((k-1)**2)/(n-1)\n",
        "    return np.sqrt(phi2_corr / min((k_corr-1), (r_corr-1)))"
      ]
    },
    {
      "cell_type": "code",
      "execution_count": 33,
      "metadata": {
        "id": "wzUbN7CW1OWB"
      },
      "outputs": [],
      "source": [
        "## Creamos un nuevo dataframe con la misma estructura de la base con las variables ya dummies.\n",
        "\n",
        "cat_columns = data4.columns\n",
        "correlation_matrix = pd.DataFrame(index=cat_columns, columns=cat_columns)"
      ]
    },
    {
      "cell_type": "code",
      "execution_count": 34,
      "metadata": {
        "colab": {
          "base_uri": "https://localhost:8080/",
          "height": 0
        },
        "id": "pLBJlieUxPKc",
        "outputId": "1f78be21-48a0-40d2-98bf-4634e09ae7b2"
      },
      "outputs": [
        {
          "output_type": "execute_result",
          "data": {
            "text/plain": [
              "{'BRUISES_t', 'RING_T_p'}"
            ]
          },
          "metadata": {},
          "execution_count": 34
        }
      ],
      "source": [
        "## A partir del siguiente loop creamos un iterador de correlaciones que crearía la matriz de correlación de variables dummies.\n",
        "\n",
        "for i in cat_columns:\n",
        "    for j in cat_columns:\n",
        "        if i == j:\n",
        "            correlation_matrix.loc[i, j] = 1\n",
        "        else:\n",
        "            correlation_matrix.loc[i, j] = cramers_v(data4[i], data4[j])\n",
        "\n",
        "threshold = 0.75\n",
        "\n",
        "## Con esta función tomamos la matríz de correlaciones y evaluamos uno por uno los valores obtenidos de correlación. Aquellos que sean mayores a 0.75 son enlistados y aquellos que no se omiten.\n",
        "\n",
        "def get_highly_correlated_columns(correlation_matrix, threshold):\n",
        "    highly_correlated_columns = set()\n",
        "    for i in correlation_matrix.columns:\n",
        "        for j in correlation_matrix.columns:\n",
        "            if i != j and correlation_matrix.loc[i, j] >= threshold:\n",
        "                highly_correlated_columns.add(i)\n",
        "                highly_correlated_columns.add(j)\n",
        "    return highly_correlated_columns\n",
        "\n",
        "highly_correlated_columns = get_highly_correlated_columns(correlation_matrix, threshold)\n",
        "\n",
        "highly_correlated_columns"
      ]
    },
    {
      "cell_type": "markdown",
      "metadata": {
        "id": "zeBcytcdVXIs"
      },
      "source": [
        "Al ejecutar la función nos fijamos de que existen 2 variables con correlaciones mayores a 0.75, por lo tanto  es necesario filtrar una de las dos variables dummies especificas que puedan alterar la funcionalidad predictiva del modelo.\n",
        "\n",
        "Por otro lado utilizamos la libreria ppscore para hacer el mísmo ejercicio de evaluación de correlaciones."
      ]
    },
    {
      "cell_type": "code",
      "execution_count": 35,
      "metadata": {
        "id": "EuUxg6y8VXIt"
      },
      "outputs": [],
      "source": [
        "data4 = data4.drop(['RING_T_p'],axis=1)"
      ]
    },
    {
      "cell_type": "code",
      "execution_count": 36,
      "metadata": {
        "id": "HXo-i2awlKJ1"
      },
      "outputs": [],
      "source": [
        "df_Train=pd.concat([X_train, y_train],axis=1)\n",
        "df_Test=pd.concat([X_test, y_test],axis=1)"
      ]
    },
    {
      "cell_type": "code",
      "execution_count": 37,
      "metadata": {
        "id": "Ul4tX8uwAuzf"
      },
      "outputs": [],
      "source": [
        "pps_matrix = pps.matrix(df_Train)\n"
      ]
    },
    {
      "cell_type": "code",
      "execution_count": 38,
      "metadata": {
        "id": "kQHpPBMr_RYQ"
      },
      "outputs": [],
      "source": [
        "TMP_D=pps_matrix.sort_values(by='ppscore',ascending=False)"
      ]
    },
    {
      "cell_type": "code",
      "execution_count": 39,
      "metadata": {
        "colab": {
          "base_uri": "https://localhost:8080/",
          "height": 1617
        },
        "id": "mkV6cSmLGkHw",
        "outputId": "c129b951-d1a8-4397-96b2-9b723c908948"
      },
      "outputs": [
        {
          "output_type": "execute_result",
          "data": {
            "text/plain": [
              "                 x             y   ppscore            case  is_valid_score  \\\n",
              "0        BRUISES_t     BRUISES_t  1.000000  predict_itself            True   \n",
              "552         ODOR_a        ODOR_a  1.000000  predict_itself            True   \n",
              "920          POP_c         POP_c  1.000000  predict_itself            True   \n",
              "874          POP_a         POP_a  1.000000  predict_itself            True   \n",
              "828         ODOR_y        ODOR_y  1.000000  predict_itself            True   \n",
              "782         ODOR_s        ODOR_s  1.000000  predict_itself            True   \n",
              "736         ODOR_p        ODOR_p  1.000000  predict_itself            True   \n",
              "690         ODOR_m        ODOR_m  1.000000  predict_itself            True   \n",
              "644         ODOR_l        ODOR_l  1.000000  predict_itself            True   \n",
              "598         ODOR_c        ODOR_c  1.000000  predict_itself            True   \n",
              "506      G_COLOR_y     G_COLOR_y  1.000000  predict_itself            True   \n",
              "1058         POP_y         POP_y  1.000000  predict_itself            True   \n",
              "460      G_COLOR_w     G_COLOR_w  1.000000  predict_itself            True   \n",
              "414      G_COLOR_u     G_COLOR_u  1.000000  predict_itself            True   \n",
              "368      G_COLOR_r     G_COLOR_r  1.000000  predict_itself            True   \n",
              "322      G_COLOR_p     G_COLOR_p  1.000000  predict_itself            True   \n",
              "276      G_COLOR_o     G_COLOR_o  1.000000  predict_itself            True   \n",
              "230      G_COLOR_n     G_COLOR_n  1.000000  predict_itself            True   \n",
              "184      G_COLOR_k     G_COLOR_k  1.000000  predict_itself            True   \n",
              "138      G_COLOR_h     G_COLOR_h  1.000000  predict_itself            True   \n",
              "966          POP_n         POP_n  1.000000  predict_itself            True   \n",
              "1104      RING_T_e      RING_T_e  1.000000  predict_itself            True   \n",
              "46       G_COLOR_e     G_COLOR_e  1.000000  predict_itself            True   \n",
              "1610       SPORE_y       SPORE_y  1.000000  predict_itself            True   \n",
              "1978  S_COLOR_AB_y  S_COLOR_AB_y  1.000000  predict_itself            True   \n",
              "1932  S_COLOR_AB_w  S_COLOR_AB_w  1.000000  predict_itself            True   \n",
              "1886  S_COLOR_AB_p  S_COLOR_AB_p  1.000000  predict_itself            True   \n",
              "1840  S_COLOR_AB_o  S_COLOR_AB_o  1.000000  predict_itself            True   \n",
              "1794  S_COLOR_AB_n  S_COLOR_AB_n  1.000000  predict_itself            True   \n",
              "1748  S_COLOR_AB_g  S_COLOR_AB_g  1.000000  predict_itself            True   \n",
              "1702  S_COLOR_AB_e  S_COLOR_AB_e  1.000000  predict_itself            True   \n",
              "1656  S_COLOR_AB_b  S_COLOR_AB_b  1.000000  predict_itself            True   \n",
              "1564       SPORE_w       SPORE_w  1.000000  predict_itself            True   \n",
              "1150      RING_T_f      RING_T_f  1.000000  predict_itself            True   \n",
              "1518       SPORE_u       SPORE_u  1.000000  predict_itself            True   \n",
              "1472       SPORE_r       SPORE_r  1.000000  predict_itself            True   \n",
              "1426       SPORE_o       SPORE_o  1.000000  predict_itself            True   \n",
              "1380       SPORE_n       SPORE_n  1.000000  predict_itself            True   \n",
              "1334       SPORE_k       SPORE_k  1.000000  predict_itself            True   \n",
              "1288       SPORE_b       SPORE_b  1.000000  predict_itself            True   \n",
              "1242      RING_T_p      RING_T_p  1.000000  predict_itself            True   \n",
              "1196      RING_T_l      RING_T_l  1.000000  predict_itself            True   \n",
              "92       G_COLOR_g     G_COLOR_g  1.000000  predict_itself            True   \n",
              "1012         POP_v         POP_v  1.000000  predict_itself            True   \n",
              "2024         POI_e         POI_e  1.000000  predict_itself            True   \n",
              "27       BRUISES_t      RING_T_p  0.580773      regression            True   \n",
              "1215      RING_T_p     BRUISES_t  0.518858      regression            True   \n",
              "1107      RING_T_e      RING_T_p  0.484484      regression            True   \n",
              "1239      RING_T_p      RING_T_e  0.336894      regression            True   \n",
              "1887  S_COLOR_AB_p  S_COLOR_AB_w  0.298780      regression            True   \n",
              "\n",
              "                   metric  baseline_score  model_score  \\\n",
              "0                    None          0.0000     1.000000   \n",
              "552                  None          0.0000     1.000000   \n",
              "920                  None          0.0000     1.000000   \n",
              "874                  None          0.0000     1.000000   \n",
              "828                  None          0.0000     1.000000   \n",
              "782                  None          0.0000     1.000000   \n",
              "736                  None          0.0000     1.000000   \n",
              "690                  None          0.0000     1.000000   \n",
              "644                  None          0.0000     1.000000   \n",
              "598                  None          0.0000     1.000000   \n",
              "506                  None          0.0000     1.000000   \n",
              "1058                 None          0.0000     1.000000   \n",
              "460                  None          0.0000     1.000000   \n",
              "414                  None          0.0000     1.000000   \n",
              "368                  None          0.0000     1.000000   \n",
              "322                  None          0.0000     1.000000   \n",
              "276                  None          0.0000     1.000000   \n",
              "230                  None          0.0000     1.000000   \n",
              "184                  None          0.0000     1.000000   \n",
              "138                  None          0.0000     1.000000   \n",
              "966                  None          0.0000     1.000000   \n",
              "1104                 None          0.0000     1.000000   \n",
              "46                   None          0.0000     1.000000   \n",
              "1610                 None          0.0000     1.000000   \n",
              "1978                 None          0.0000     1.000000   \n",
              "1932                 None          0.0000     1.000000   \n",
              "1886                 None          0.0000     1.000000   \n",
              "1840                 None          0.0000     1.000000   \n",
              "1794                 None          0.0000     1.000000   \n",
              "1748                 None          0.0000     1.000000   \n",
              "1702                 None          0.0000     1.000000   \n",
              "1656                 None          0.0000     1.000000   \n",
              "1564                 None          0.0000     1.000000   \n",
              "1150                 None          0.0000     1.000000   \n",
              "1518                 None          0.0000     1.000000   \n",
              "1472                 None          0.0000     1.000000   \n",
              "1426                 None          0.0000     1.000000   \n",
              "1380                 None          0.0000     1.000000   \n",
              "1334                 None          0.0000     1.000000   \n",
              "1288                 None          0.0000     1.000000   \n",
              "1242                 None          0.0000     1.000000   \n",
              "1196                 None          0.0000     1.000000   \n",
              "92                   None          0.0000     1.000000   \n",
              "1012                 None          0.0000     1.000000   \n",
              "2024                 None          0.0000     1.000000   \n",
              "27    mean absolute error          0.4884     0.204751   \n",
              "1215  mean absolute error          0.4130     0.198712   \n",
              "1107  mean absolute error          0.4884     0.251778   \n",
              "1239  mean absolute error          0.3420     0.226782   \n",
              "1887  mean absolute error          0.4542     0.318494   \n",
              "\n",
              "                        model  \n",
              "0                        None  \n",
              "552                      None  \n",
              "920                      None  \n",
              "874                      None  \n",
              "828                      None  \n",
              "782                      None  \n",
              "736                      None  \n",
              "690                      None  \n",
              "644                      None  \n",
              "598                      None  \n",
              "506                      None  \n",
              "1058                     None  \n",
              "460                      None  \n",
              "414                      None  \n",
              "368                      None  \n",
              "322                      None  \n",
              "276                      None  \n",
              "230                      None  \n",
              "184                      None  \n",
              "138                      None  \n",
              "966                      None  \n",
              "1104                     None  \n",
              "46                       None  \n",
              "1610                     None  \n",
              "1978                     None  \n",
              "1932                     None  \n",
              "1886                     None  \n",
              "1840                     None  \n",
              "1794                     None  \n",
              "1748                     None  \n",
              "1702                     None  \n",
              "1656                     None  \n",
              "1564                     None  \n",
              "1150                     None  \n",
              "1518                     None  \n",
              "1472                     None  \n",
              "1426                     None  \n",
              "1380                     None  \n",
              "1334                     None  \n",
              "1288                     None  \n",
              "1242                     None  \n",
              "1196                     None  \n",
              "92                       None  \n",
              "1012                     None  \n",
              "2024                     None  \n",
              "27    DecisionTreeRegressor()  \n",
              "1215  DecisionTreeRegressor()  \n",
              "1107  DecisionTreeRegressor()  \n",
              "1239  DecisionTreeRegressor()  \n",
              "1887  DecisionTreeRegressor()  "
            ],
            "text/html": [
              "\n",
              "  <div id=\"df-82bc0eaa-6069-4286-a0c9-91c00c97c3e6\">\n",
              "    <div class=\"colab-df-container\">\n",
              "      <div>\n",
              "<style scoped>\n",
              "    .dataframe tbody tr th:only-of-type {\n",
              "        vertical-align: middle;\n",
              "    }\n",
              "\n",
              "    .dataframe tbody tr th {\n",
              "        vertical-align: top;\n",
              "    }\n",
              "\n",
              "    .dataframe thead th {\n",
              "        text-align: right;\n",
              "    }\n",
              "</style>\n",
              "<table border=\"1\" class=\"dataframe\">\n",
              "  <thead>\n",
              "    <tr style=\"text-align: right;\">\n",
              "      <th></th>\n",
              "      <th>x</th>\n",
              "      <th>y</th>\n",
              "      <th>ppscore</th>\n",
              "      <th>case</th>\n",
              "      <th>is_valid_score</th>\n",
              "      <th>metric</th>\n",
              "      <th>baseline_score</th>\n",
              "      <th>model_score</th>\n",
              "      <th>model</th>\n",
              "    </tr>\n",
              "  </thead>\n",
              "  <tbody>\n",
              "    <tr>\n",
              "      <th>0</th>\n",
              "      <td>BRUISES_t</td>\n",
              "      <td>BRUISES_t</td>\n",
              "      <td>1.000000</td>\n",
              "      <td>predict_itself</td>\n",
              "      <td>True</td>\n",
              "      <td>None</td>\n",
              "      <td>0.0000</td>\n",
              "      <td>1.000000</td>\n",
              "      <td>None</td>\n",
              "    </tr>\n",
              "    <tr>\n",
              "      <th>552</th>\n",
              "      <td>ODOR_a</td>\n",
              "      <td>ODOR_a</td>\n",
              "      <td>1.000000</td>\n",
              "      <td>predict_itself</td>\n",
              "      <td>True</td>\n",
              "      <td>None</td>\n",
              "      <td>0.0000</td>\n",
              "      <td>1.000000</td>\n",
              "      <td>None</td>\n",
              "    </tr>\n",
              "    <tr>\n",
              "      <th>920</th>\n",
              "      <td>POP_c</td>\n",
              "      <td>POP_c</td>\n",
              "      <td>1.000000</td>\n",
              "      <td>predict_itself</td>\n",
              "      <td>True</td>\n",
              "      <td>None</td>\n",
              "      <td>0.0000</td>\n",
              "      <td>1.000000</td>\n",
              "      <td>None</td>\n",
              "    </tr>\n",
              "    <tr>\n",
              "      <th>874</th>\n",
              "      <td>POP_a</td>\n",
              "      <td>POP_a</td>\n",
              "      <td>1.000000</td>\n",
              "      <td>predict_itself</td>\n",
              "      <td>True</td>\n",
              "      <td>None</td>\n",
              "      <td>0.0000</td>\n",
              "      <td>1.000000</td>\n",
              "      <td>None</td>\n",
              "    </tr>\n",
              "    <tr>\n",
              "      <th>828</th>\n",
              "      <td>ODOR_y</td>\n",
              "      <td>ODOR_y</td>\n",
              "      <td>1.000000</td>\n",
              "      <td>predict_itself</td>\n",
              "      <td>True</td>\n",
              "      <td>None</td>\n",
              "      <td>0.0000</td>\n",
              "      <td>1.000000</td>\n",
              "      <td>None</td>\n",
              "    </tr>\n",
              "    <tr>\n",
              "      <th>782</th>\n",
              "      <td>ODOR_s</td>\n",
              "      <td>ODOR_s</td>\n",
              "      <td>1.000000</td>\n",
              "      <td>predict_itself</td>\n",
              "      <td>True</td>\n",
              "      <td>None</td>\n",
              "      <td>0.0000</td>\n",
              "      <td>1.000000</td>\n",
              "      <td>None</td>\n",
              "    </tr>\n",
              "    <tr>\n",
              "      <th>736</th>\n",
              "      <td>ODOR_p</td>\n",
              "      <td>ODOR_p</td>\n",
              "      <td>1.000000</td>\n",
              "      <td>predict_itself</td>\n",
              "      <td>True</td>\n",
              "      <td>None</td>\n",
              "      <td>0.0000</td>\n",
              "      <td>1.000000</td>\n",
              "      <td>None</td>\n",
              "    </tr>\n",
              "    <tr>\n",
              "      <th>690</th>\n",
              "      <td>ODOR_m</td>\n",
              "      <td>ODOR_m</td>\n",
              "      <td>1.000000</td>\n",
              "      <td>predict_itself</td>\n",
              "      <td>True</td>\n",
              "      <td>None</td>\n",
              "      <td>0.0000</td>\n",
              "      <td>1.000000</td>\n",
              "      <td>None</td>\n",
              "    </tr>\n",
              "    <tr>\n",
              "      <th>644</th>\n",
              "      <td>ODOR_l</td>\n",
              "      <td>ODOR_l</td>\n",
              "      <td>1.000000</td>\n",
              "      <td>predict_itself</td>\n",
              "      <td>True</td>\n",
              "      <td>None</td>\n",
              "      <td>0.0000</td>\n",
              "      <td>1.000000</td>\n",
              "      <td>None</td>\n",
              "    </tr>\n",
              "    <tr>\n",
              "      <th>598</th>\n",
              "      <td>ODOR_c</td>\n",
              "      <td>ODOR_c</td>\n",
              "      <td>1.000000</td>\n",
              "      <td>predict_itself</td>\n",
              "      <td>True</td>\n",
              "      <td>None</td>\n",
              "      <td>0.0000</td>\n",
              "      <td>1.000000</td>\n",
              "      <td>None</td>\n",
              "    </tr>\n",
              "    <tr>\n",
              "      <th>506</th>\n",
              "      <td>G_COLOR_y</td>\n",
              "      <td>G_COLOR_y</td>\n",
              "      <td>1.000000</td>\n",
              "      <td>predict_itself</td>\n",
              "      <td>True</td>\n",
              "      <td>None</td>\n",
              "      <td>0.0000</td>\n",
              "      <td>1.000000</td>\n",
              "      <td>None</td>\n",
              "    </tr>\n",
              "    <tr>\n",
              "      <th>1058</th>\n",
              "      <td>POP_y</td>\n",
              "      <td>POP_y</td>\n",
              "      <td>1.000000</td>\n",
              "      <td>predict_itself</td>\n",
              "      <td>True</td>\n",
              "      <td>None</td>\n",
              "      <td>0.0000</td>\n",
              "      <td>1.000000</td>\n",
              "      <td>None</td>\n",
              "    </tr>\n",
              "    <tr>\n",
              "      <th>460</th>\n",
              "      <td>G_COLOR_w</td>\n",
              "      <td>G_COLOR_w</td>\n",
              "      <td>1.000000</td>\n",
              "      <td>predict_itself</td>\n",
              "      <td>True</td>\n",
              "      <td>None</td>\n",
              "      <td>0.0000</td>\n",
              "      <td>1.000000</td>\n",
              "      <td>None</td>\n",
              "    </tr>\n",
              "    <tr>\n",
              "      <th>414</th>\n",
              "      <td>G_COLOR_u</td>\n",
              "      <td>G_COLOR_u</td>\n",
              "      <td>1.000000</td>\n",
              "      <td>predict_itself</td>\n",
              "      <td>True</td>\n",
              "      <td>None</td>\n",
              "      <td>0.0000</td>\n",
              "      <td>1.000000</td>\n",
              "      <td>None</td>\n",
              "    </tr>\n",
              "    <tr>\n",
              "      <th>368</th>\n",
              "      <td>G_COLOR_r</td>\n",
              "      <td>G_COLOR_r</td>\n",
              "      <td>1.000000</td>\n",
              "      <td>predict_itself</td>\n",
              "      <td>True</td>\n",
              "      <td>None</td>\n",
              "      <td>0.0000</td>\n",
              "      <td>1.000000</td>\n",
              "      <td>None</td>\n",
              "    </tr>\n",
              "    <tr>\n",
              "      <th>322</th>\n",
              "      <td>G_COLOR_p</td>\n",
              "      <td>G_COLOR_p</td>\n",
              "      <td>1.000000</td>\n",
              "      <td>predict_itself</td>\n",
              "      <td>True</td>\n",
              "      <td>None</td>\n",
              "      <td>0.0000</td>\n",
              "      <td>1.000000</td>\n",
              "      <td>None</td>\n",
              "    </tr>\n",
              "    <tr>\n",
              "      <th>276</th>\n",
              "      <td>G_COLOR_o</td>\n",
              "      <td>G_COLOR_o</td>\n",
              "      <td>1.000000</td>\n",
              "      <td>predict_itself</td>\n",
              "      <td>True</td>\n",
              "      <td>None</td>\n",
              "      <td>0.0000</td>\n",
              "      <td>1.000000</td>\n",
              "      <td>None</td>\n",
              "    </tr>\n",
              "    <tr>\n",
              "      <th>230</th>\n",
              "      <td>G_COLOR_n</td>\n",
              "      <td>G_COLOR_n</td>\n",
              "      <td>1.000000</td>\n",
              "      <td>predict_itself</td>\n",
              "      <td>True</td>\n",
              "      <td>None</td>\n",
              "      <td>0.0000</td>\n",
              "      <td>1.000000</td>\n",
              "      <td>None</td>\n",
              "    </tr>\n",
              "    <tr>\n",
              "      <th>184</th>\n",
              "      <td>G_COLOR_k</td>\n",
              "      <td>G_COLOR_k</td>\n",
              "      <td>1.000000</td>\n",
              "      <td>predict_itself</td>\n",
              "      <td>True</td>\n",
              "      <td>None</td>\n",
              "      <td>0.0000</td>\n",
              "      <td>1.000000</td>\n",
              "      <td>None</td>\n",
              "    </tr>\n",
              "    <tr>\n",
              "      <th>138</th>\n",
              "      <td>G_COLOR_h</td>\n",
              "      <td>G_COLOR_h</td>\n",
              "      <td>1.000000</td>\n",
              "      <td>predict_itself</td>\n",
              "      <td>True</td>\n",
              "      <td>None</td>\n",
              "      <td>0.0000</td>\n",
              "      <td>1.000000</td>\n",
              "      <td>None</td>\n",
              "    </tr>\n",
              "    <tr>\n",
              "      <th>966</th>\n",
              "      <td>POP_n</td>\n",
              "      <td>POP_n</td>\n",
              "      <td>1.000000</td>\n",
              "      <td>predict_itself</td>\n",
              "      <td>True</td>\n",
              "      <td>None</td>\n",
              "      <td>0.0000</td>\n",
              "      <td>1.000000</td>\n",
              "      <td>None</td>\n",
              "    </tr>\n",
              "    <tr>\n",
              "      <th>1104</th>\n",
              "      <td>RING_T_e</td>\n",
              "      <td>RING_T_e</td>\n",
              "      <td>1.000000</td>\n",
              "      <td>predict_itself</td>\n",
              "      <td>True</td>\n",
              "      <td>None</td>\n",
              "      <td>0.0000</td>\n",
              "      <td>1.000000</td>\n",
              "      <td>None</td>\n",
              "    </tr>\n",
              "    <tr>\n",
              "      <th>46</th>\n",
              "      <td>G_COLOR_e</td>\n",
              "      <td>G_COLOR_e</td>\n",
              "      <td>1.000000</td>\n",
              "      <td>predict_itself</td>\n",
              "      <td>True</td>\n",
              "      <td>None</td>\n",
              "      <td>0.0000</td>\n",
              "      <td>1.000000</td>\n",
              "      <td>None</td>\n",
              "    </tr>\n",
              "    <tr>\n",
              "      <th>1610</th>\n",
              "      <td>SPORE_y</td>\n",
              "      <td>SPORE_y</td>\n",
              "      <td>1.000000</td>\n",
              "      <td>predict_itself</td>\n",
              "      <td>True</td>\n",
              "      <td>None</td>\n",
              "      <td>0.0000</td>\n",
              "      <td>1.000000</td>\n",
              "      <td>None</td>\n",
              "    </tr>\n",
              "    <tr>\n",
              "      <th>1978</th>\n",
              "      <td>S_COLOR_AB_y</td>\n",
              "      <td>S_COLOR_AB_y</td>\n",
              "      <td>1.000000</td>\n",
              "      <td>predict_itself</td>\n",
              "      <td>True</td>\n",
              "      <td>None</td>\n",
              "      <td>0.0000</td>\n",
              "      <td>1.000000</td>\n",
              "      <td>None</td>\n",
              "    </tr>\n",
              "    <tr>\n",
              "      <th>1932</th>\n",
              "      <td>S_COLOR_AB_w</td>\n",
              "      <td>S_COLOR_AB_w</td>\n",
              "      <td>1.000000</td>\n",
              "      <td>predict_itself</td>\n",
              "      <td>True</td>\n",
              "      <td>None</td>\n",
              "      <td>0.0000</td>\n",
              "      <td>1.000000</td>\n",
              "      <td>None</td>\n",
              "    </tr>\n",
              "    <tr>\n",
              "      <th>1886</th>\n",
              "      <td>S_COLOR_AB_p</td>\n",
              "      <td>S_COLOR_AB_p</td>\n",
              "      <td>1.000000</td>\n",
              "      <td>predict_itself</td>\n",
              "      <td>True</td>\n",
              "      <td>None</td>\n",
              "      <td>0.0000</td>\n",
              "      <td>1.000000</td>\n",
              "      <td>None</td>\n",
              "    </tr>\n",
              "    <tr>\n",
              "      <th>1840</th>\n",
              "      <td>S_COLOR_AB_o</td>\n",
              "      <td>S_COLOR_AB_o</td>\n",
              "      <td>1.000000</td>\n",
              "      <td>predict_itself</td>\n",
              "      <td>True</td>\n",
              "      <td>None</td>\n",
              "      <td>0.0000</td>\n",
              "      <td>1.000000</td>\n",
              "      <td>None</td>\n",
              "    </tr>\n",
              "    <tr>\n",
              "      <th>1794</th>\n",
              "      <td>S_COLOR_AB_n</td>\n",
              "      <td>S_COLOR_AB_n</td>\n",
              "      <td>1.000000</td>\n",
              "      <td>predict_itself</td>\n",
              "      <td>True</td>\n",
              "      <td>None</td>\n",
              "      <td>0.0000</td>\n",
              "      <td>1.000000</td>\n",
              "      <td>None</td>\n",
              "    </tr>\n",
              "    <tr>\n",
              "      <th>1748</th>\n",
              "      <td>S_COLOR_AB_g</td>\n",
              "      <td>S_COLOR_AB_g</td>\n",
              "      <td>1.000000</td>\n",
              "      <td>predict_itself</td>\n",
              "      <td>True</td>\n",
              "      <td>None</td>\n",
              "      <td>0.0000</td>\n",
              "      <td>1.000000</td>\n",
              "      <td>None</td>\n",
              "    </tr>\n",
              "    <tr>\n",
              "      <th>1702</th>\n",
              "      <td>S_COLOR_AB_e</td>\n",
              "      <td>S_COLOR_AB_e</td>\n",
              "      <td>1.000000</td>\n",
              "      <td>predict_itself</td>\n",
              "      <td>True</td>\n",
              "      <td>None</td>\n",
              "      <td>0.0000</td>\n",
              "      <td>1.000000</td>\n",
              "      <td>None</td>\n",
              "    </tr>\n",
              "    <tr>\n",
              "      <th>1656</th>\n",
              "      <td>S_COLOR_AB_b</td>\n",
              "      <td>S_COLOR_AB_b</td>\n",
              "      <td>1.000000</td>\n",
              "      <td>predict_itself</td>\n",
              "      <td>True</td>\n",
              "      <td>None</td>\n",
              "      <td>0.0000</td>\n",
              "      <td>1.000000</td>\n",
              "      <td>None</td>\n",
              "    </tr>\n",
              "    <tr>\n",
              "      <th>1564</th>\n",
              "      <td>SPORE_w</td>\n",
              "      <td>SPORE_w</td>\n",
              "      <td>1.000000</td>\n",
              "      <td>predict_itself</td>\n",
              "      <td>True</td>\n",
              "      <td>None</td>\n",
              "      <td>0.0000</td>\n",
              "      <td>1.000000</td>\n",
              "      <td>None</td>\n",
              "    </tr>\n",
              "    <tr>\n",
              "      <th>1150</th>\n",
              "      <td>RING_T_f</td>\n",
              "      <td>RING_T_f</td>\n",
              "      <td>1.000000</td>\n",
              "      <td>predict_itself</td>\n",
              "      <td>True</td>\n",
              "      <td>None</td>\n",
              "      <td>0.0000</td>\n",
              "      <td>1.000000</td>\n",
              "      <td>None</td>\n",
              "    </tr>\n",
              "    <tr>\n",
              "      <th>1518</th>\n",
              "      <td>SPORE_u</td>\n",
              "      <td>SPORE_u</td>\n",
              "      <td>1.000000</td>\n",
              "      <td>predict_itself</td>\n",
              "      <td>True</td>\n",
              "      <td>None</td>\n",
              "      <td>0.0000</td>\n",
              "      <td>1.000000</td>\n",
              "      <td>None</td>\n",
              "    </tr>\n",
              "    <tr>\n",
              "      <th>1472</th>\n",
              "      <td>SPORE_r</td>\n",
              "      <td>SPORE_r</td>\n",
              "      <td>1.000000</td>\n",
              "      <td>predict_itself</td>\n",
              "      <td>True</td>\n",
              "      <td>None</td>\n",
              "      <td>0.0000</td>\n",
              "      <td>1.000000</td>\n",
              "      <td>None</td>\n",
              "    </tr>\n",
              "    <tr>\n",
              "      <th>1426</th>\n",
              "      <td>SPORE_o</td>\n",
              "      <td>SPORE_o</td>\n",
              "      <td>1.000000</td>\n",
              "      <td>predict_itself</td>\n",
              "      <td>True</td>\n",
              "      <td>None</td>\n",
              "      <td>0.0000</td>\n",
              "      <td>1.000000</td>\n",
              "      <td>None</td>\n",
              "    </tr>\n",
              "    <tr>\n",
              "      <th>1380</th>\n",
              "      <td>SPORE_n</td>\n",
              "      <td>SPORE_n</td>\n",
              "      <td>1.000000</td>\n",
              "      <td>predict_itself</td>\n",
              "      <td>True</td>\n",
              "      <td>None</td>\n",
              "      <td>0.0000</td>\n",
              "      <td>1.000000</td>\n",
              "      <td>None</td>\n",
              "    </tr>\n",
              "    <tr>\n",
              "      <th>1334</th>\n",
              "      <td>SPORE_k</td>\n",
              "      <td>SPORE_k</td>\n",
              "      <td>1.000000</td>\n",
              "      <td>predict_itself</td>\n",
              "      <td>True</td>\n",
              "      <td>None</td>\n",
              "      <td>0.0000</td>\n",
              "      <td>1.000000</td>\n",
              "      <td>None</td>\n",
              "    </tr>\n",
              "    <tr>\n",
              "      <th>1288</th>\n",
              "      <td>SPORE_b</td>\n",
              "      <td>SPORE_b</td>\n",
              "      <td>1.000000</td>\n",
              "      <td>predict_itself</td>\n",
              "      <td>True</td>\n",
              "      <td>None</td>\n",
              "      <td>0.0000</td>\n",
              "      <td>1.000000</td>\n",
              "      <td>None</td>\n",
              "    </tr>\n",
              "    <tr>\n",
              "      <th>1242</th>\n",
              "      <td>RING_T_p</td>\n",
              "      <td>RING_T_p</td>\n",
              "      <td>1.000000</td>\n",
              "      <td>predict_itself</td>\n",
              "      <td>True</td>\n",
              "      <td>None</td>\n",
              "      <td>0.0000</td>\n",
              "      <td>1.000000</td>\n",
              "      <td>None</td>\n",
              "    </tr>\n",
              "    <tr>\n",
              "      <th>1196</th>\n",
              "      <td>RING_T_l</td>\n",
              "      <td>RING_T_l</td>\n",
              "      <td>1.000000</td>\n",
              "      <td>predict_itself</td>\n",
              "      <td>True</td>\n",
              "      <td>None</td>\n",
              "      <td>0.0000</td>\n",
              "      <td>1.000000</td>\n",
              "      <td>None</td>\n",
              "    </tr>\n",
              "    <tr>\n",
              "      <th>92</th>\n",
              "      <td>G_COLOR_g</td>\n",
              "      <td>G_COLOR_g</td>\n",
              "      <td>1.000000</td>\n",
              "      <td>predict_itself</td>\n",
              "      <td>True</td>\n",
              "      <td>None</td>\n",
              "      <td>0.0000</td>\n",
              "      <td>1.000000</td>\n",
              "      <td>None</td>\n",
              "    </tr>\n",
              "    <tr>\n",
              "      <th>1012</th>\n",
              "      <td>POP_v</td>\n",
              "      <td>POP_v</td>\n",
              "      <td>1.000000</td>\n",
              "      <td>predict_itself</td>\n",
              "      <td>True</td>\n",
              "      <td>None</td>\n",
              "      <td>0.0000</td>\n",
              "      <td>1.000000</td>\n",
              "      <td>None</td>\n",
              "    </tr>\n",
              "    <tr>\n",
              "      <th>2024</th>\n",
              "      <td>POI_e</td>\n",
              "      <td>POI_e</td>\n",
              "      <td>1.000000</td>\n",
              "      <td>predict_itself</td>\n",
              "      <td>True</td>\n",
              "      <td>None</td>\n",
              "      <td>0.0000</td>\n",
              "      <td>1.000000</td>\n",
              "      <td>None</td>\n",
              "    </tr>\n",
              "    <tr>\n",
              "      <th>27</th>\n",
              "      <td>BRUISES_t</td>\n",
              "      <td>RING_T_p</td>\n",
              "      <td>0.580773</td>\n",
              "      <td>regression</td>\n",
              "      <td>True</td>\n",
              "      <td>mean absolute error</td>\n",
              "      <td>0.4884</td>\n",
              "      <td>0.204751</td>\n",
              "      <td>DecisionTreeRegressor()</td>\n",
              "    </tr>\n",
              "    <tr>\n",
              "      <th>1215</th>\n",
              "      <td>RING_T_p</td>\n",
              "      <td>BRUISES_t</td>\n",
              "      <td>0.518858</td>\n",
              "      <td>regression</td>\n",
              "      <td>True</td>\n",
              "      <td>mean absolute error</td>\n",
              "      <td>0.4130</td>\n",
              "      <td>0.198712</td>\n",
              "      <td>DecisionTreeRegressor()</td>\n",
              "    </tr>\n",
              "    <tr>\n",
              "      <th>1107</th>\n",
              "      <td>RING_T_e</td>\n",
              "      <td>RING_T_p</td>\n",
              "      <td>0.484484</td>\n",
              "      <td>regression</td>\n",
              "      <td>True</td>\n",
              "      <td>mean absolute error</td>\n",
              "      <td>0.4884</td>\n",
              "      <td>0.251778</td>\n",
              "      <td>DecisionTreeRegressor()</td>\n",
              "    </tr>\n",
              "    <tr>\n",
              "      <th>1239</th>\n",
              "      <td>RING_T_p</td>\n",
              "      <td>RING_T_e</td>\n",
              "      <td>0.336894</td>\n",
              "      <td>regression</td>\n",
              "      <td>True</td>\n",
              "      <td>mean absolute error</td>\n",
              "      <td>0.3420</td>\n",
              "      <td>0.226782</td>\n",
              "      <td>DecisionTreeRegressor()</td>\n",
              "    </tr>\n",
              "    <tr>\n",
              "      <th>1887</th>\n",
              "      <td>S_COLOR_AB_p</td>\n",
              "      <td>S_COLOR_AB_w</td>\n",
              "      <td>0.298780</td>\n",
              "      <td>regression</td>\n",
              "      <td>True</td>\n",
              "      <td>mean absolute error</td>\n",
              "      <td>0.4542</td>\n",
              "      <td>0.318494</td>\n",
              "      <td>DecisionTreeRegressor()</td>\n",
              "    </tr>\n",
              "  </tbody>\n",
              "</table>\n",
              "</div>\n",
              "      <button class=\"colab-df-convert\" onclick=\"convertToInteractive('df-82bc0eaa-6069-4286-a0c9-91c00c97c3e6')\"\n",
              "              title=\"Convert this dataframe to an interactive table.\"\n",
              "              style=\"display:none;\">\n",
              "        \n",
              "  <svg xmlns=\"http://www.w3.org/2000/svg\" height=\"24px\"viewBox=\"0 0 24 24\"\n",
              "       width=\"24px\">\n",
              "    <path d=\"M0 0h24v24H0V0z\" fill=\"none\"/>\n",
              "    <path d=\"M18.56 5.44l.94 2.06.94-2.06 2.06-.94-2.06-.94-.94-2.06-.94 2.06-2.06.94zm-11 1L8.5 8.5l.94-2.06 2.06-.94-2.06-.94L8.5 2.5l-.94 2.06-2.06.94zm10 10l.94 2.06.94-2.06 2.06-.94-2.06-.94-.94-2.06-.94 2.06-2.06.94z\"/><path d=\"M17.41 7.96l-1.37-1.37c-.4-.4-.92-.59-1.43-.59-.52 0-1.04.2-1.43.59L10.3 9.45l-7.72 7.72c-.78.78-.78 2.05 0 2.83L4 21.41c.39.39.9.59 1.41.59.51 0 1.02-.2 1.41-.59l7.78-7.78 2.81-2.81c.8-.78.8-2.07 0-2.86zM5.41 20L4 18.59l7.72-7.72 1.47 1.35L5.41 20z\"/>\n",
              "  </svg>\n",
              "      </button>\n",
              "      \n",
              "  <style>\n",
              "    .colab-df-container {\n",
              "      display:flex;\n",
              "      flex-wrap:wrap;\n",
              "      gap: 12px;\n",
              "    }\n",
              "\n",
              "    .colab-df-convert {\n",
              "      background-color: #E8F0FE;\n",
              "      border: none;\n",
              "      border-radius: 50%;\n",
              "      cursor: pointer;\n",
              "      display: none;\n",
              "      fill: #1967D2;\n",
              "      height: 32px;\n",
              "      padding: 0 0 0 0;\n",
              "      width: 32px;\n",
              "    }\n",
              "\n",
              "    .colab-df-convert:hover {\n",
              "      background-color: #E2EBFA;\n",
              "      box-shadow: 0px 1px 2px rgba(60, 64, 67, 0.3), 0px 1px 3px 1px rgba(60, 64, 67, 0.15);\n",
              "      fill: #174EA6;\n",
              "    }\n",
              "\n",
              "    [theme=dark] .colab-df-convert {\n",
              "      background-color: #3B4455;\n",
              "      fill: #D2E3FC;\n",
              "    }\n",
              "\n",
              "    [theme=dark] .colab-df-convert:hover {\n",
              "      background-color: #434B5C;\n",
              "      box-shadow: 0px 1px 3px 1px rgba(0, 0, 0, 0.15);\n",
              "      filter: drop-shadow(0px 1px 2px rgba(0, 0, 0, 0.3));\n",
              "      fill: #FFFFFF;\n",
              "    }\n",
              "  </style>\n",
              "\n",
              "      <script>\n",
              "        const buttonEl =\n",
              "          document.querySelector('#df-82bc0eaa-6069-4286-a0c9-91c00c97c3e6 button.colab-df-convert');\n",
              "        buttonEl.style.display =\n",
              "          google.colab.kernel.accessAllowed ? 'block' : 'none';\n",
              "\n",
              "        async function convertToInteractive(key) {\n",
              "          const element = document.querySelector('#df-82bc0eaa-6069-4286-a0c9-91c00c97c3e6');\n",
              "          const dataTable =\n",
              "            await google.colab.kernel.invokeFunction('convertToInteractive',\n",
              "                                                     [key], {});\n",
              "          if (!dataTable) return;\n",
              "\n",
              "          const docLinkHtml = 'Like what you see? Visit the ' +\n",
              "            '<a target=\"_blank\" href=https://colab.research.google.com/notebooks/data_table.ipynb>data table notebook</a>'\n",
              "            + ' to learn more about interactive tables.';\n",
              "          element.innerHTML = '';\n",
              "          dataTable['output_type'] = 'display_data';\n",
              "          await google.colab.output.renderOutput(dataTable, element);\n",
              "          const docLink = document.createElement('div');\n",
              "          docLink.innerHTML = docLinkHtml;\n",
              "          element.appendChild(docLink);\n",
              "        }\n",
              "      </script>\n",
              "    </div>\n",
              "  </div>\n",
              "  "
            ]
          },
          "metadata": {},
          "execution_count": 39
        }
      ],
      "source": [
        "TMP_D.head(50)"
      ]
    },
    {
      "cell_type": "markdown",
      "metadata": {
        "id": "CqDI3iYqVXIv"
      },
      "source": [
        "Ya con la evaluación de correlaciones, pasamos al proceso de identificar los posibles modelos a escoger para la clasificación de datos. Para esto utilizaremos la librería pycaret y las diferentes funciones que permiten generar la matriz de modelos con respecto a una de las métricas de exactitud."
      ]
    },
    {
      "cell_type": "markdown",
      "metadata": {
        "id": "AGqFc8JOVXIv"
      },
      "source": [
        "### Pycaret: Implementacion\n",
        "\n",
        "La construcción del Pycaret puede servir como sustentación del proceso de Baseline. Es un parametro para al selección de variables y selección de modelos para la data objetivo. Pero de todas maneras como parte del ejercicio de práctica hicimos la selección de modelos y aplicación sobre sklearn para evaluar el comportamiento de tres modelos en específico.\n",
        "\n",
        "El desarrollo del Pycaret se puede ver a continuación:"
      ]
    },
    {
      "cell_type": "code",
      "execution_count": 40,
      "metadata": {
        "colab": {
          "base_uri": "https://localhost:8080/",
          "height": 770
        },
        "id": "5d_ET5uGflFs",
        "outputId": "4d8c1f99-fa56-4cdf-ae64-ecd26391fdef"
      },
      "outputs": [
        {
          "output_type": "display_data",
          "data": {
            "text/plain": [
              "<pandas.io.formats.style.Styler at 0x7f5f46618fd0>"
            ],
            "text/html": [
              "<style type=\"text/css\">\n",
              "#T_d8ea1_row8_col1, #T_d8ea1_row12_col1 {\n",
              "  background-color: lightgreen;\n",
              "}\n",
              "</style>\n",
              "<table id=\"T_d8ea1\" class=\"dataframe\">\n",
              "  <thead>\n",
              "    <tr>\n",
              "      <th class=\"blank level0\" >&nbsp;</th>\n",
              "      <th id=\"T_d8ea1_level0_col0\" class=\"col_heading level0 col0\" >Description</th>\n",
              "      <th id=\"T_d8ea1_level0_col1\" class=\"col_heading level0 col1\" >Value</th>\n",
              "    </tr>\n",
              "  </thead>\n",
              "  <tbody>\n",
              "    <tr>\n",
              "      <th id=\"T_d8ea1_level0_row0\" class=\"row_heading level0 row0\" >0</th>\n",
              "      <td id=\"T_d8ea1_row0_col0\" class=\"data row0 col0\" >Session id</td>\n",
              "      <td id=\"T_d8ea1_row0_col1\" class=\"data row0 col1\" >123</td>\n",
              "    </tr>\n",
              "    <tr>\n",
              "      <th id=\"T_d8ea1_level0_row1\" class=\"row_heading level0 row1\" >1</th>\n",
              "      <td id=\"T_d8ea1_row1_col0\" class=\"data row1 col0\" >Target</td>\n",
              "      <td id=\"T_d8ea1_row1_col1\" class=\"data row1 col1\" >POI_e</td>\n",
              "    </tr>\n",
              "    <tr>\n",
              "      <th id=\"T_d8ea1_level0_row2\" class=\"row_heading level0 row2\" >2</th>\n",
              "      <td id=\"T_d8ea1_row2_col0\" class=\"data row2 col0\" >Target type</td>\n",
              "      <td id=\"T_d8ea1_row2_col1\" class=\"data row2 col1\" >Binary</td>\n",
              "    </tr>\n",
              "    <tr>\n",
              "      <th id=\"T_d8ea1_level0_row3\" class=\"row_heading level0 row3\" >3</th>\n",
              "      <td id=\"T_d8ea1_row3_col0\" class=\"data row3 col0\" >Original data shape</td>\n",
              "      <td id=\"T_d8ea1_row3_col1\" class=\"data row3 col1\" >(8124, 45)</td>\n",
              "    </tr>\n",
              "    <tr>\n",
              "      <th id=\"T_d8ea1_level0_row4\" class=\"row_heading level0 row4\" >4</th>\n",
              "      <td id=\"T_d8ea1_row4_col0\" class=\"data row4 col0\" >Transformed data shape</td>\n",
              "      <td id=\"T_d8ea1_row4_col1\" class=\"data row4 col1\" >(8124, 9)</td>\n",
              "    </tr>\n",
              "    <tr>\n",
              "      <th id=\"T_d8ea1_level0_row5\" class=\"row_heading level0 row5\" >5</th>\n",
              "      <td id=\"T_d8ea1_row5_col0\" class=\"data row5 col0\" >Transformed train set shape</td>\n",
              "      <td id=\"T_d8ea1_row5_col1\" class=\"data row5 col1\" >(5686, 9)</td>\n",
              "    </tr>\n",
              "    <tr>\n",
              "      <th id=\"T_d8ea1_level0_row6\" class=\"row_heading level0 row6\" >6</th>\n",
              "      <td id=\"T_d8ea1_row6_col0\" class=\"data row6 col0\" >Transformed test set shape</td>\n",
              "      <td id=\"T_d8ea1_row6_col1\" class=\"data row6 col1\" >(2438, 9)</td>\n",
              "    </tr>\n",
              "    <tr>\n",
              "      <th id=\"T_d8ea1_level0_row7\" class=\"row_heading level0 row7\" >7</th>\n",
              "      <td id=\"T_d8ea1_row7_col0\" class=\"data row7 col0\" >Numeric features</td>\n",
              "      <td id=\"T_d8ea1_row7_col1\" class=\"data row7 col1\" >44</td>\n",
              "    </tr>\n",
              "    <tr>\n",
              "      <th id=\"T_d8ea1_level0_row8\" class=\"row_heading level0 row8\" >8</th>\n",
              "      <td id=\"T_d8ea1_row8_col0\" class=\"data row8 col0\" >Preprocess</td>\n",
              "      <td id=\"T_d8ea1_row8_col1\" class=\"data row8 col1\" >True</td>\n",
              "    </tr>\n",
              "    <tr>\n",
              "      <th id=\"T_d8ea1_level0_row9\" class=\"row_heading level0 row9\" >9</th>\n",
              "      <td id=\"T_d8ea1_row9_col0\" class=\"data row9 col0\" >Imputation type</td>\n",
              "      <td id=\"T_d8ea1_row9_col1\" class=\"data row9 col1\" >simple</td>\n",
              "    </tr>\n",
              "    <tr>\n",
              "      <th id=\"T_d8ea1_level0_row10\" class=\"row_heading level0 row10\" >10</th>\n",
              "      <td id=\"T_d8ea1_row10_col0\" class=\"data row10 col0\" >Numeric imputation</td>\n",
              "      <td id=\"T_d8ea1_row10_col1\" class=\"data row10 col1\" >mean</td>\n",
              "    </tr>\n",
              "    <tr>\n",
              "      <th id=\"T_d8ea1_level0_row11\" class=\"row_heading level0 row11\" >11</th>\n",
              "      <td id=\"T_d8ea1_row11_col0\" class=\"data row11 col0\" >Categorical imputation</td>\n",
              "      <td id=\"T_d8ea1_row11_col1\" class=\"data row11 col1\" >mode</td>\n",
              "    </tr>\n",
              "    <tr>\n",
              "      <th id=\"T_d8ea1_level0_row12\" class=\"row_heading level0 row12\" >12</th>\n",
              "      <td id=\"T_d8ea1_row12_col0\" class=\"data row12 col0\" >Feature selection</td>\n",
              "      <td id=\"T_d8ea1_row12_col1\" class=\"data row12 col1\" >True</td>\n",
              "    </tr>\n",
              "    <tr>\n",
              "      <th id=\"T_d8ea1_level0_row13\" class=\"row_heading level0 row13\" >13</th>\n",
              "      <td id=\"T_d8ea1_row13_col0\" class=\"data row13 col0\" >Feature selection method</td>\n",
              "      <td id=\"T_d8ea1_row13_col1\" class=\"data row13 col1\" >classic</td>\n",
              "    </tr>\n",
              "    <tr>\n",
              "      <th id=\"T_d8ea1_level0_row14\" class=\"row_heading level0 row14\" >14</th>\n",
              "      <td id=\"T_d8ea1_row14_col0\" class=\"data row14 col0\" >Feature selection estimator</td>\n",
              "      <td id=\"T_d8ea1_row14_col1\" class=\"data row14 col1\" >lightgbm</td>\n",
              "    </tr>\n",
              "    <tr>\n",
              "      <th id=\"T_d8ea1_level0_row15\" class=\"row_heading level0 row15\" >15</th>\n",
              "      <td id=\"T_d8ea1_row15_col0\" class=\"data row15 col0\" >Number of features selected</td>\n",
              "      <td id=\"T_d8ea1_row15_col1\" class=\"data row15 col1\" >0.200000</td>\n",
              "    </tr>\n",
              "    <tr>\n",
              "      <th id=\"T_d8ea1_level0_row16\" class=\"row_heading level0 row16\" >16</th>\n",
              "      <td id=\"T_d8ea1_row16_col0\" class=\"data row16 col0\" >Fold Generator</td>\n",
              "      <td id=\"T_d8ea1_row16_col1\" class=\"data row16 col1\" >StratifiedKFold</td>\n",
              "    </tr>\n",
              "    <tr>\n",
              "      <th id=\"T_d8ea1_level0_row17\" class=\"row_heading level0 row17\" >17</th>\n",
              "      <td id=\"T_d8ea1_row17_col0\" class=\"data row17 col0\" >Fold Number</td>\n",
              "      <td id=\"T_d8ea1_row17_col1\" class=\"data row17 col1\" >10</td>\n",
              "    </tr>\n",
              "    <tr>\n",
              "      <th id=\"T_d8ea1_level0_row18\" class=\"row_heading level0 row18\" >18</th>\n",
              "      <td id=\"T_d8ea1_row18_col0\" class=\"data row18 col0\" >CPU Jobs</td>\n",
              "      <td id=\"T_d8ea1_row18_col1\" class=\"data row18 col1\" >-1</td>\n",
              "    </tr>\n",
              "    <tr>\n",
              "      <th id=\"T_d8ea1_level0_row19\" class=\"row_heading level0 row19\" >19</th>\n",
              "      <td id=\"T_d8ea1_row19_col0\" class=\"data row19 col0\" >Use GPU</td>\n",
              "      <td id=\"T_d8ea1_row19_col1\" class=\"data row19 col1\" >False</td>\n",
              "    </tr>\n",
              "    <tr>\n",
              "      <th id=\"T_d8ea1_level0_row20\" class=\"row_heading level0 row20\" >20</th>\n",
              "      <td id=\"T_d8ea1_row20_col0\" class=\"data row20 col0\" >Log Experiment</td>\n",
              "      <td id=\"T_d8ea1_row20_col1\" class=\"data row20 col1\" >False</td>\n",
              "    </tr>\n",
              "    <tr>\n",
              "      <th id=\"T_d8ea1_level0_row21\" class=\"row_heading level0 row21\" >21</th>\n",
              "      <td id=\"T_d8ea1_row21_col0\" class=\"data row21 col0\" >Experiment Name</td>\n",
              "      <td id=\"T_d8ea1_row21_col1\" class=\"data row21 col1\" >clf-default-name</td>\n",
              "    </tr>\n",
              "    <tr>\n",
              "      <th id=\"T_d8ea1_level0_row22\" class=\"row_heading level0 row22\" >22</th>\n",
              "      <td id=\"T_d8ea1_row22_col0\" class=\"data row22 col0\" >USI</td>\n",
              "      <td id=\"T_d8ea1_row22_col1\" class=\"data row22 col1\" >2f15</td>\n",
              "    </tr>\n",
              "  </tbody>\n",
              "</table>\n"
            ]
          },
          "metadata": {}
        }
      ],
      "source": [
        "experimento_1 = setup(df_Train,test_data=df_Test,target = 'POI_e', session_id=123,fold=10,feature_selection=True)"
      ]
    },
    {
      "cell_type": "code",
      "execution_count": 41,
      "metadata": {
        "colab": {
          "base_uri": "https://localhost:8080/",
          "height": 457,
          "referenced_widgets": [
            "7a239231056c4380b6360fd1b11213b5",
            "b58c461f2a254978b96694379612fb31",
            "cd9b02513a12443d9ec566d516725bfa",
            "44ebd4bfa20341d8b0930be6e812f5c6",
            "b669568f0f324c0aa2214b8c411d346a",
            "5b7e30e426424d8191587d70257c14f0",
            "10d0c206a42b49b0a76c8b0842c299da",
            "d8cc6c9b45f44517bd1bfc24864d87e7",
            "89d2b8a7cb1a488cb6188bda62f4aec3",
            "d3ee18c2fcaa4298b80e42f8f04327df",
            "baa0ad014f554eb4bf2bfa5567cac602"
          ]
        },
        "id": "MqOoLOnvlfy2",
        "outputId": "293f74b9-cf6e-4125-86b5-6f55d5ed66be"
      },
      "outputs": [
        {
          "output_type": "display_data",
          "data": {
            "text/plain": [
              "<IPython.core.display.HTML object>"
            ],
            "text/html": []
          },
          "metadata": {}
        },
        {
          "output_type": "display_data",
          "data": {
            "text/plain": [
              "<pandas.io.formats.style.Styler at 0x7f5f4882dca0>"
            ],
            "text/html": [
              "<style type=\"text/css\">\n",
              "#T_de80d th {\n",
              "  text-align: left;\n",
              "}\n",
              "#T_de80d_row0_col0, #T_de80d_row0_col3, #T_de80d_row0_col4, #T_de80d_row0_col5, #T_de80d_row1_col0, #T_de80d_row1_col1, #T_de80d_row1_col4, #T_de80d_row1_col6, #T_de80d_row2_col0, #T_de80d_row2_col3, #T_de80d_row2_col4, #T_de80d_row2_col5, #T_de80d_row3_col0, #T_de80d_row3_col3, #T_de80d_row3_col4, #T_de80d_row3_col5, #T_de80d_row4_col0, #T_de80d_row4_col3, #T_de80d_row4_col4, #T_de80d_row4_col5, #T_de80d_row5_col0, #T_de80d_row5_col2, #T_de80d_row5_col3, #T_de80d_row5_col4, #T_de80d_row5_col5, #T_de80d_row6_col0, #T_de80d_row6_col2, #T_de80d_row6_col3, #T_de80d_row6_col4, #T_de80d_row6_col5, #T_de80d_row6_col7, #T_de80d_row7_col0, #T_de80d_row7_col1, #T_de80d_row7_col2, #T_de80d_row7_col3, #T_de80d_row7_col5, #T_de80d_row7_col6, #T_de80d_row7_col7, #T_de80d_row8_col0, #T_de80d_row8_col1, #T_de80d_row8_col2, #T_de80d_row8_col3, #T_de80d_row8_col4, #T_de80d_row8_col5, #T_de80d_row8_col6, #T_de80d_row8_col7, #T_de80d_row9_col0, #T_de80d_row9_col1, #T_de80d_row9_col2, #T_de80d_row9_col3, #T_de80d_row9_col4, #T_de80d_row9_col5, #T_de80d_row9_col6, #T_de80d_row9_col7, #T_de80d_row10_col0, #T_de80d_row10_col1, #T_de80d_row10_col2, #T_de80d_row10_col3, #T_de80d_row10_col4, #T_de80d_row10_col5, #T_de80d_row10_col6, #T_de80d_row10_col7, #T_de80d_row11_col0, #T_de80d_row11_col1, #T_de80d_row11_col2, #T_de80d_row11_col3, #T_de80d_row11_col4, #T_de80d_row11_col5, #T_de80d_row11_col6, #T_de80d_row11_col7, #T_de80d_row12_col0, #T_de80d_row12_col1, #T_de80d_row12_col2, #T_de80d_row12_col3, #T_de80d_row12_col4, #T_de80d_row12_col5, #T_de80d_row12_col6, #T_de80d_row12_col7 {\n",
              "  text-align: left;\n",
              "}\n",
              "#T_de80d_row0_col1, #T_de80d_row0_col2, #T_de80d_row0_col6, #T_de80d_row0_col7, #T_de80d_row1_col2, #T_de80d_row1_col3, #T_de80d_row1_col5, #T_de80d_row1_col7, #T_de80d_row2_col1, #T_de80d_row2_col2, #T_de80d_row2_col6, #T_de80d_row2_col7, #T_de80d_row3_col1, #T_de80d_row3_col2, #T_de80d_row3_col6, #T_de80d_row3_col7, #T_de80d_row4_col1, #T_de80d_row4_col2, #T_de80d_row4_col6, #T_de80d_row4_col7, #T_de80d_row5_col1, #T_de80d_row5_col6, #T_de80d_row5_col7, #T_de80d_row6_col1, #T_de80d_row6_col6, #T_de80d_row7_col4 {\n",
              "  text-align: left;\n",
              "  background-color: yellow;\n",
              "}\n",
              "#T_de80d_row0_col8, #T_de80d_row12_col8 {\n",
              "  text-align: left;\n",
              "  background-color: yellow;\n",
              "  background-color: lightgrey;\n",
              "}\n",
              "#T_de80d_row1_col8, #T_de80d_row2_col8, #T_de80d_row3_col8, #T_de80d_row4_col8, #T_de80d_row5_col8, #T_de80d_row6_col8, #T_de80d_row7_col8, #T_de80d_row8_col8, #T_de80d_row9_col8, #T_de80d_row10_col8, #T_de80d_row11_col8 {\n",
              "  text-align: left;\n",
              "  background-color: lightgrey;\n",
              "}\n",
              "</style>\n",
              "<table id=\"T_de80d\" class=\"dataframe\">\n",
              "  <thead>\n",
              "    <tr>\n",
              "      <th class=\"blank level0\" >&nbsp;</th>\n",
              "      <th id=\"T_de80d_level0_col0\" class=\"col_heading level0 col0\" >Model</th>\n",
              "      <th id=\"T_de80d_level0_col1\" class=\"col_heading level0 col1\" >Accuracy</th>\n",
              "      <th id=\"T_de80d_level0_col2\" class=\"col_heading level0 col2\" >AUC</th>\n",
              "      <th id=\"T_de80d_level0_col3\" class=\"col_heading level0 col3\" >Recall</th>\n",
              "      <th id=\"T_de80d_level0_col4\" class=\"col_heading level0 col4\" >Prec.</th>\n",
              "      <th id=\"T_de80d_level0_col5\" class=\"col_heading level0 col5\" >F1</th>\n",
              "      <th id=\"T_de80d_level0_col6\" class=\"col_heading level0 col6\" >Kappa</th>\n",
              "      <th id=\"T_de80d_level0_col7\" class=\"col_heading level0 col7\" >MCC</th>\n",
              "      <th id=\"T_de80d_level0_col8\" class=\"col_heading level0 col8\" >TT (Sec)</th>\n",
              "    </tr>\n",
              "  </thead>\n",
              "  <tbody>\n",
              "    <tr>\n",
              "      <th id=\"T_de80d_level0_row0\" class=\"row_heading level0 row0\" >dt</th>\n",
              "      <td id=\"T_de80d_row0_col0\" class=\"data row0 col0\" >Decision Tree Classifier</td>\n",
              "      <td id=\"T_de80d_row0_col1\" class=\"data row0 col1\" >0.8991</td>\n",
              "      <td id=\"T_de80d_row0_col2\" class=\"data row0 col2\" >0.9634</td>\n",
              "      <td id=\"T_de80d_row0_col3\" class=\"data row0 col3\" >0.9394</td>\n",
              "      <td id=\"T_de80d_row0_col4\" class=\"data row0 col4\" >0.8748</td>\n",
              "      <td id=\"T_de80d_row0_col5\" class=\"data row0 col5\" >0.9058</td>\n",
              "      <td id=\"T_de80d_row0_col6\" class=\"data row0 col6\" >0.7974</td>\n",
              "      <td id=\"T_de80d_row0_col7\" class=\"data row0 col7\" >0.8000</td>\n",
              "      <td id=\"T_de80d_row0_col8\" class=\"data row0 col8\" >0.1080</td>\n",
              "    </tr>\n",
              "    <tr>\n",
              "      <th id=\"T_de80d_level0_row1\" class=\"row_heading level0 row1\" >rf</th>\n",
              "      <td id=\"T_de80d_row1_col0\" class=\"data row1 col0\" >Random Forest Classifier</td>\n",
              "      <td id=\"T_de80d_row1_col1\" class=\"data row1 col1\" >0.8989</td>\n",
              "      <td id=\"T_de80d_row1_col2\" class=\"data row1 col2\" >0.9634</td>\n",
              "      <td id=\"T_de80d_row1_col3\" class=\"data row1 col3\" >0.9421</td>\n",
              "      <td id=\"T_de80d_row1_col4\" class=\"data row1 col4\" >0.8726</td>\n",
              "      <td id=\"T_de80d_row1_col5\" class=\"data row1 col5\" >0.9059</td>\n",
              "      <td id=\"T_de80d_row1_col6\" class=\"data row1 col6\" >0.7970</td>\n",
              "      <td id=\"T_de80d_row1_col7\" class=\"data row1 col7\" >0.8000</td>\n",
              "      <td id=\"T_de80d_row1_col8\" class=\"data row1 col8\" >0.4550</td>\n",
              "    </tr>\n",
              "    <tr>\n",
              "      <th id=\"T_de80d_level0_row2\" class=\"row_heading level0 row2\" >et</th>\n",
              "      <td id=\"T_de80d_row2_col0\" class=\"data row2 col0\" >Extra Trees Classifier</td>\n",
              "      <td id=\"T_de80d_row2_col1\" class=\"data row2 col1\" >0.8991</td>\n",
              "      <td id=\"T_de80d_row2_col2\" class=\"data row2 col2\" >0.9634</td>\n",
              "      <td id=\"T_de80d_row2_col3\" class=\"data row2 col3\" >0.9394</td>\n",
              "      <td id=\"T_de80d_row2_col4\" class=\"data row2 col4\" >0.8748</td>\n",
              "      <td id=\"T_de80d_row2_col5\" class=\"data row2 col5\" >0.9058</td>\n",
              "      <td id=\"T_de80d_row2_col6\" class=\"data row2 col6\" >0.7974</td>\n",
              "      <td id=\"T_de80d_row2_col7\" class=\"data row2 col7\" >0.8000</td>\n",
              "      <td id=\"T_de80d_row2_col8\" class=\"data row2 col8\" >0.4780</td>\n",
              "    </tr>\n",
              "    <tr>\n",
              "      <th id=\"T_de80d_level0_row3\" class=\"row_heading level0 row3\" >lightgbm</th>\n",
              "      <td id=\"T_de80d_row3_col0\" class=\"data row3 col0\" >Light Gradient Boosting Machine</td>\n",
              "      <td id=\"T_de80d_row3_col1\" class=\"data row3 col1\" >0.8991</td>\n",
              "      <td id=\"T_de80d_row3_col2\" class=\"data row3 col2\" >0.9634</td>\n",
              "      <td id=\"T_de80d_row3_col3\" class=\"data row3 col3\" >0.9394</td>\n",
              "      <td id=\"T_de80d_row3_col4\" class=\"data row3 col4\" >0.8748</td>\n",
              "      <td id=\"T_de80d_row3_col5\" class=\"data row3 col5\" >0.9058</td>\n",
              "      <td id=\"T_de80d_row3_col6\" class=\"data row3 col6\" >0.7974</td>\n",
              "      <td id=\"T_de80d_row3_col7\" class=\"data row3 col7\" >0.8000</td>\n",
              "      <td id=\"T_de80d_row3_col8\" class=\"data row3 col8\" >0.1810</td>\n",
              "    </tr>\n",
              "    <tr>\n",
              "      <th id=\"T_de80d_level0_row4\" class=\"row_heading level0 row4\" >catboost</th>\n",
              "      <td id=\"T_de80d_row4_col0\" class=\"data row4 col0\" >CatBoost Classifier</td>\n",
              "      <td id=\"T_de80d_row4_col1\" class=\"data row4 col1\" >0.8991</td>\n",
              "      <td id=\"T_de80d_row4_col2\" class=\"data row4 col2\" >0.9634</td>\n",
              "      <td id=\"T_de80d_row4_col3\" class=\"data row4 col3\" >0.9394</td>\n",
              "      <td id=\"T_de80d_row4_col4\" class=\"data row4 col4\" >0.8748</td>\n",
              "      <td id=\"T_de80d_row4_col5\" class=\"data row4 col5\" >0.9058</td>\n",
              "      <td id=\"T_de80d_row4_col6\" class=\"data row4 col6\" >0.7974</td>\n",
              "      <td id=\"T_de80d_row4_col7\" class=\"data row4 col7\" >0.8000</td>\n",
              "      <td id=\"T_de80d_row4_col8\" class=\"data row4 col8\" >2.2010</td>\n",
              "    </tr>\n",
              "    <tr>\n",
              "      <th id=\"T_de80d_level0_row5\" class=\"row_heading level0 row5\" >xgboost</th>\n",
              "      <td id=\"T_de80d_row5_col0\" class=\"data row5 col0\" >Extreme Gradient Boosting</td>\n",
              "      <td id=\"T_de80d_row5_col1\" class=\"data row5 col1\" >0.8991</td>\n",
              "      <td id=\"T_de80d_row5_col2\" class=\"data row5 col2\" >0.9633</td>\n",
              "      <td id=\"T_de80d_row5_col3\" class=\"data row5 col3\" >0.9394</td>\n",
              "      <td id=\"T_de80d_row5_col4\" class=\"data row5 col4\" >0.8748</td>\n",
              "      <td id=\"T_de80d_row5_col5\" class=\"data row5 col5\" >0.9058</td>\n",
              "      <td id=\"T_de80d_row5_col6\" class=\"data row5 col6\" >0.7974</td>\n",
              "      <td id=\"T_de80d_row5_col7\" class=\"data row5 col7\" >0.8000</td>\n",
              "      <td id=\"T_de80d_row5_col8\" class=\"data row5 col8\" >0.4960</td>\n",
              "    </tr>\n",
              "    <tr>\n",
              "      <th id=\"T_de80d_level0_row6\" class=\"row_heading level0 row6\" >gbc</th>\n",
              "      <td id=\"T_de80d_row6_col0\" class=\"data row6 col0\" >Gradient Boosting Classifier</td>\n",
              "      <td id=\"T_de80d_row6_col1\" class=\"data row6 col1\" >0.8991</td>\n",
              "      <td id=\"T_de80d_row6_col2\" class=\"data row6 col2\" >0.9613</td>\n",
              "      <td id=\"T_de80d_row6_col3\" class=\"data row6 col3\" >0.9380</td>\n",
              "      <td id=\"T_de80d_row6_col4\" class=\"data row6 col4\" >0.8756</td>\n",
              "      <td id=\"T_de80d_row6_col5\" class=\"data row6 col5\" >0.9056</td>\n",
              "      <td id=\"T_de80d_row6_col6\" class=\"data row6 col6\" >0.7974</td>\n",
              "      <td id=\"T_de80d_row6_col7\" class=\"data row6 col7\" >0.7998</td>\n",
              "      <td id=\"T_de80d_row6_col8\" class=\"data row6 col8\" >0.3650</td>\n",
              "    </tr>\n",
              "    <tr>\n",
              "      <th id=\"T_de80d_level0_row7\" class=\"row_heading level0 row7\" >knn</th>\n",
              "      <td id=\"T_de80d_row7_col0\" class=\"data row7 col0\" >K Neighbors Classifier</td>\n",
              "      <td id=\"T_de80d_row7_col1\" class=\"data row7 col1\" >0.8730</td>\n",
              "      <td id=\"T_de80d_row7_col2\" class=\"data row7 col2\" >0.9391</td>\n",
              "      <td id=\"T_de80d_row7_col3\" class=\"data row7 col3\" >0.8730</td>\n",
              "      <td id=\"T_de80d_row7_col4\" class=\"data row7 col4\" >0.8810</td>\n",
              "      <td id=\"T_de80d_row7_col5\" class=\"data row7 col5\" >0.8767</td>\n",
              "      <td id=\"T_de80d_row7_col6\" class=\"data row7 col6\" >0.7458</td>\n",
              "      <td id=\"T_de80d_row7_col7\" class=\"data row7 col7\" >0.7464</td>\n",
              "      <td id=\"T_de80d_row7_col8\" class=\"data row7 col8\" >0.1540</td>\n",
              "    </tr>\n",
              "    <tr>\n",
              "      <th id=\"T_de80d_level0_row8\" class=\"row_heading level0 row8\" >qda</th>\n",
              "      <td id=\"T_de80d_row8_col0\" class=\"data row8 col0\" >Quadratic Discriminant Analysis</td>\n",
              "      <td id=\"T_de80d_row8_col1\" class=\"data row8 col1\" >0.8628</td>\n",
              "      <td id=\"T_de80d_row8_col2\" class=\"data row8 col2\" >0.9098</td>\n",
              "      <td id=\"T_de80d_row8_col3\" class=\"data row8 col3\" >0.8914</td>\n",
              "      <td id=\"T_de80d_row8_col4\" class=\"data row8 col4\" >0.8504</td>\n",
              "      <td id=\"T_de80d_row8_col5\" class=\"data row8 col5\" >0.8700</td>\n",
              "      <td id=\"T_de80d_row8_col6\" class=\"data row8 col6\" >0.7249</td>\n",
              "      <td id=\"T_de80d_row8_col7\" class=\"data row8 col7\" >0.7268</td>\n",
              "      <td id=\"T_de80d_row8_col8\" class=\"data row8 col8\" >0.1430</td>\n",
              "    </tr>\n",
              "    <tr>\n",
              "      <th id=\"T_de80d_level0_row9\" class=\"row_heading level0 row9\" >ada</th>\n",
              "      <td id=\"T_de80d_row9_col0\" class=\"data row9 col0\" >Ada Boost Classifier</td>\n",
              "      <td id=\"T_de80d_row9_col1\" class=\"data row9 col1\" >0.8115</td>\n",
              "      <td id=\"T_de80d_row9_col2\" class=\"data row9 col2\" >0.8838</td>\n",
              "      <td id=\"T_de80d_row9_col3\" class=\"data row9 col3\" >0.8059</td>\n",
              "      <td id=\"T_de80d_row9_col4\" class=\"data row9 col4\" >0.8264</td>\n",
              "      <td id=\"T_de80d_row9_col5\" class=\"data row9 col5\" >0.8153</td>\n",
              "      <td id=\"T_de80d_row9_col6\" class=\"data row9 col6\" >0.6228</td>\n",
              "      <td id=\"T_de80d_row9_col7\" class=\"data row9 col7\" >0.6241</td>\n",
              "      <td id=\"T_de80d_row9_col8\" class=\"data row9 col8\" >0.4600</td>\n",
              "    </tr>\n",
              "    <tr>\n",
              "      <th id=\"T_de80d_level0_row10\" class=\"row_heading level0 row10\" >lr</th>\n",
              "      <td id=\"T_de80d_row10_col0\" class=\"data row10 col0\" >Logistic Regression</td>\n",
              "      <td id=\"T_de80d_row10_col1\" class=\"data row10 col1\" >0.8289</td>\n",
              "      <td id=\"T_de80d_row10_col2\" class=\"data row10 col2\" >0.8835</td>\n",
              "      <td id=\"T_de80d_row10_col3\" class=\"data row10 col3\" >0.8491</td>\n",
              "      <td id=\"T_de80d_row10_col4\" class=\"data row10 col4\" >0.8259</td>\n",
              "      <td id=\"T_de80d_row10_col5\" class=\"data row10 col5\" >0.8366</td>\n",
              "      <td id=\"T_de80d_row10_col6\" class=\"data row10 col6\" >0.6570</td>\n",
              "      <td id=\"T_de80d_row10_col7\" class=\"data row10 col7\" >0.6586</td>\n",
              "      <td id=\"T_de80d_row10_col8\" class=\"data row10 col8\" >0.7200</td>\n",
              "    </tr>\n",
              "    <tr>\n",
              "      <th id=\"T_de80d_level0_row11\" class=\"row_heading level0 row11\" >lda</th>\n",
              "      <td id=\"T_de80d_row11_col0\" class=\"data row11 col0\" >Linear Discriminant Analysis</td>\n",
              "      <td id=\"T_de80d_row11_col1\" class=\"data row11 col1\" >0.8324</td>\n",
              "      <td id=\"T_de80d_row11_col2\" class=\"data row11 col2\" >0.8819</td>\n",
              "      <td id=\"T_de80d_row11_col3\" class=\"data row11 col3\" >0.8566</td>\n",
              "      <td id=\"T_de80d_row11_col4\" class=\"data row11 col4\" >0.8267</td>\n",
              "      <td id=\"T_de80d_row11_col5\" class=\"data row11 col5\" >0.8405</td>\n",
              "      <td id=\"T_de80d_row11_col6\" class=\"data row11 col6\" >0.6640</td>\n",
              "      <td id=\"T_de80d_row11_col7\" class=\"data row11 col7\" >0.6662</td>\n",
              "      <td id=\"T_de80d_row11_col8\" class=\"data row11 col8\" >0.1170</td>\n",
              "    </tr>\n",
              "    <tr>\n",
              "      <th id=\"T_de80d_level0_row12\" class=\"row_heading level0 row12\" >nb</th>\n",
              "      <td id=\"T_de80d_row12_col0\" class=\"data row12 col0\" >Naive Bayes</td>\n",
              "      <td id=\"T_de80d_row12_col1\" class=\"data row12 col1\" >0.7766</td>\n",
              "      <td id=\"T_de80d_row12_col2\" class=\"data row12 col2\" >0.8647</td>\n",
              "      <td id=\"T_de80d_row12_col3\" class=\"data row12 col3\" >0.7065</td>\n",
              "      <td id=\"T_de80d_row12_col4\" class=\"data row12 col4\" >0.8360</td>\n",
              "      <td id=\"T_de80d_row12_col5\" class=\"data row12 col5\" >0.7649</td>\n",
              "      <td id=\"T_de80d_row12_col6\" class=\"data row12 col6\" >0.5552</td>\n",
              "      <td id=\"T_de80d_row12_col7\" class=\"data row12 col7\" >0.5631</td>\n",
              "      <td id=\"T_de80d_row12_col8\" class=\"data row12 col8\" >0.1080</td>\n",
              "    </tr>\n",
              "  </tbody>\n",
              "</table>\n"
            ]
          },
          "metadata": {}
        },
        {
          "output_type": "display_data",
          "data": {
            "text/plain": [
              "Processing:   0%|          | 0/57 [00:00<?, ?it/s]"
            ],
            "application/vnd.jupyter.widget-view+json": {
              "version_major": 2,
              "version_minor": 0,
              "model_id": "7a239231056c4380b6360fd1b11213b5"
            }
          },
          "metadata": {
            "application/vnd.jupyter.widget-view+json": {
              "colab": {
                "custom_widget_manager": {
                  "url": "https://ssl.gstatic.com/colaboratory-static/widgets/colab-cdn-widget-manager/b3e629b1971e1542/manager.min.js"
                }
              }
            }
          }
        },
        {
          "output_type": "display_data",
          "data": {
            "text/plain": [
              "<IPython.core.display.HTML object>"
            ],
            "text/html": []
          },
          "metadata": {}
        }
      ],
      "source": [
        "best_model = compare_models(sort='AUC',exclude=['dummy','svm','ridge'])"
      ]
    },
    {
      "cell_type": "code",
      "execution_count": 42,
      "metadata": {
        "colab": {
          "base_uri": "https://localhost:8080/",
          "height": 457,
          "referenced_widgets": [
            "075c2ec51ea648f283192a3bb5490827",
            "a55359f774164774b98721243fa00d65",
            "f3e521e7e1ed476ba7a01fd726c5a8b2",
            "22241e8be67c4b6e9c343fe63499a5f1",
            "f3577c929a044b168687aef11387f441",
            "dac6fae570da4827a4c86623c5bdf8d5",
            "7a4fab0feb5242069521569abe1ba1a1",
            "003b394d44174d019e3a01af1345c33f",
            "a8eeb7685d154e378bfb37d15bb923b5",
            "8e868d8f9fb94f2e85c9933b03b0b71d",
            "f0774b03a79f442689495e458455958b"
          ]
        },
        "id": "RBkta7pbeYOo",
        "outputId": "c391c276-acb3-4deb-cb11-9966a0d50d89"
      },
      "outputs": [
        {
          "output_type": "display_data",
          "data": {
            "text/plain": [
              "<IPython.core.display.HTML object>"
            ],
            "text/html": []
          },
          "metadata": {}
        },
        {
          "output_type": "display_data",
          "data": {
            "text/plain": [
              "<pandas.io.formats.style.Styler at 0x7f5f488347f0>"
            ],
            "text/html": [
              "<style type=\"text/css\">\n",
              "#T_9cab0_row10_col0, #T_9cab0_row10_col1, #T_9cab0_row10_col2, #T_9cab0_row10_col3, #T_9cab0_row10_col4, #T_9cab0_row10_col5, #T_9cab0_row10_col6 {\n",
              "  background: yellow;\n",
              "}\n",
              "</style>\n",
              "<table id=\"T_9cab0\" class=\"dataframe\">\n",
              "  <thead>\n",
              "    <tr>\n",
              "      <th class=\"blank level0\" >&nbsp;</th>\n",
              "      <th id=\"T_9cab0_level0_col0\" class=\"col_heading level0 col0\" >Accuracy</th>\n",
              "      <th id=\"T_9cab0_level0_col1\" class=\"col_heading level0 col1\" >AUC</th>\n",
              "      <th id=\"T_9cab0_level0_col2\" class=\"col_heading level0 col2\" >Recall</th>\n",
              "      <th id=\"T_9cab0_level0_col3\" class=\"col_heading level0 col3\" >Prec.</th>\n",
              "      <th id=\"T_9cab0_level0_col4\" class=\"col_heading level0 col4\" >F1</th>\n",
              "      <th id=\"T_9cab0_level0_col5\" class=\"col_heading level0 col5\" >Kappa</th>\n",
              "      <th id=\"T_9cab0_level0_col6\" class=\"col_heading level0 col6\" >MCC</th>\n",
              "    </tr>\n",
              "    <tr>\n",
              "      <th class=\"index_name level0\" >Fold</th>\n",
              "      <th class=\"blank col0\" >&nbsp;</th>\n",
              "      <th class=\"blank col1\" >&nbsp;</th>\n",
              "      <th class=\"blank col2\" >&nbsp;</th>\n",
              "      <th class=\"blank col3\" >&nbsp;</th>\n",
              "      <th class=\"blank col4\" >&nbsp;</th>\n",
              "      <th class=\"blank col5\" >&nbsp;</th>\n",
              "      <th class=\"blank col6\" >&nbsp;</th>\n",
              "    </tr>\n",
              "  </thead>\n",
              "  <tbody>\n",
              "    <tr>\n",
              "      <th id=\"T_9cab0_level0_row0\" class=\"row_heading level0 row0\" >0</th>\n",
              "      <td id=\"T_9cab0_row0_col0\" class=\"data row0 col0\" >0.8875</td>\n",
              "      <td id=\"T_9cab0_row0_col1\" class=\"data row0 col1\" >0.9635</td>\n",
              "      <td id=\"T_9cab0_row0_col2\" class=\"data row0 col2\" >0.9490</td>\n",
              "      <td id=\"T_9cab0_row0_col3\" class=\"data row0 col3\" >0.8506</td>\n",
              "      <td id=\"T_9cab0_row0_col4\" class=\"data row0 col4\" >0.8971</td>\n",
              "      <td id=\"T_9cab0_row0_col5\" class=\"data row0 col5\" >0.7739</td>\n",
              "      <td id=\"T_9cab0_row0_col6\" class=\"data row0 col6\" >0.7795</td>\n",
              "    </tr>\n",
              "    <tr>\n",
              "      <th id=\"T_9cab0_level0_row1\" class=\"row_heading level0 row1\" >1</th>\n",
              "      <td id=\"T_9cab0_row1_col0\" class=\"data row1 col0\" >0.8910</td>\n",
              "      <td id=\"T_9cab0_row1_col1\" class=\"data row1 col1\" >0.9499</td>\n",
              "      <td id=\"T_9cab0_row1_col2\" class=\"data row1 col2\" >0.9388</td>\n",
              "      <td id=\"T_9cab0_row1_col3\" class=\"data row1 col3\" >0.8625</td>\n",
              "      <td id=\"T_9cab0_row1_col4\" class=\"data row1 col4\" >0.8990</td>\n",
              "      <td id=\"T_9cab0_row1_col5\" class=\"data row1 col5\" >0.7812</td>\n",
              "      <td id=\"T_9cab0_row1_col6\" class=\"data row1 col6\" >0.7845</td>\n",
              "    </tr>\n",
              "    <tr>\n",
              "      <th id=\"T_9cab0_level0_row2\" class=\"row_heading level0 row2\" >2</th>\n",
              "      <td id=\"T_9cab0_row2_col0\" class=\"data row2 col0\" >0.8946</td>\n",
              "      <td id=\"T_9cab0_row2_col1\" class=\"data row2 col1\" >0.9687</td>\n",
              "      <td id=\"T_9cab0_row2_col2\" class=\"data row2 col2\" >0.9252</td>\n",
              "      <td id=\"T_9cab0_row2_col3\" class=\"data row2 col3\" >0.8774</td>\n",
              "      <td id=\"T_9cab0_row2_col4\" class=\"data row2 col4\" >0.9007</td>\n",
              "      <td id=\"T_9cab0_row2_col5\" class=\"data row2 col5\" >0.7885</td>\n",
              "      <td id=\"T_9cab0_row2_col6\" class=\"data row2 col6\" >0.7897</td>\n",
              "    </tr>\n",
              "    <tr>\n",
              "      <th id=\"T_9cab0_level0_row3\" class=\"row_heading level0 row3\" >3</th>\n",
              "      <td id=\"T_9cab0_row3_col0\" class=\"data row3 col0\" >0.9033</td>\n",
              "      <td id=\"T_9cab0_row3_col1\" class=\"data row3 col1\" >0.9667</td>\n",
              "      <td id=\"T_9cab0_row3_col2\" class=\"data row3 col2\" >0.9626</td>\n",
              "      <td id=\"T_9cab0_row3_col3\" class=\"data row3 col3\" >0.8654</td>\n",
              "      <td id=\"T_9cab0_row3_col4\" class=\"data row3 col4\" >0.9114</td>\n",
              "      <td id=\"T_9cab0_row3_col5\" class=\"data row3 col5\" >0.8057</td>\n",
              "      <td id=\"T_9cab0_row3_col6\" class=\"data row3 col6\" >0.8112</td>\n",
              "    </tr>\n",
              "    <tr>\n",
              "      <th id=\"T_9cab0_level0_row4\" class=\"row_heading level0 row4\" >4</th>\n",
              "      <td id=\"T_9cab0_row4_col0\" class=\"data row4 col0\" >0.9033</td>\n",
              "      <td id=\"T_9cab0_row4_col1\" class=\"data row4 col1\" >0.9637</td>\n",
              "      <td id=\"T_9cab0_row4_col2\" class=\"data row4 col2\" >0.9286</td>\n",
              "      <td id=\"T_9cab0_row4_col3\" class=\"data row4 col3\" >0.8893</td>\n",
              "      <td id=\"T_9cab0_row4_col4\" class=\"data row4 col4\" >0.9085</td>\n",
              "      <td id=\"T_9cab0_row4_col5\" class=\"data row4 col5\" >0.8062</td>\n",
              "      <td id=\"T_9cab0_row4_col6\" class=\"data row4 col6\" >0.8070</td>\n",
              "    </tr>\n",
              "    <tr>\n",
              "      <th id=\"T_9cab0_level0_row5\" class=\"row_heading level0 row5\" >5</th>\n",
              "      <td id=\"T_9cab0_row5_col0\" class=\"data row5 col0\" >0.8981</td>\n",
              "      <td id=\"T_9cab0_row5_col1\" class=\"data row5 col1\" >0.9624</td>\n",
              "      <td id=\"T_9cab0_row5_col2\" class=\"data row5 col2\" >0.9320</td>\n",
              "      <td id=\"T_9cab0_row5_col3\" class=\"data row5 col3\" >0.8782</td>\n",
              "      <td id=\"T_9cab0_row5_col4\" class=\"data row5 col4\" >0.9043</td>\n",
              "      <td id=\"T_9cab0_row5_col5\" class=\"data row5 col5\" >0.7955</td>\n",
              "      <td id=\"T_9cab0_row5_col6\" class=\"data row5 col6\" >0.7971</td>\n",
              "    </tr>\n",
              "    <tr>\n",
              "      <th id=\"T_9cab0_level0_row6\" class=\"row_heading level0 row6\" >6</th>\n",
              "      <td id=\"T_9cab0_row6_col0\" class=\"data row6 col0\" >0.8996</td>\n",
              "      <td id=\"T_9cab0_row6_col1\" class=\"data row6 col1\" >0.9529</td>\n",
              "      <td id=\"T_9cab0_row6_col2\" class=\"data row6 col2\" >0.9320</td>\n",
              "      <td id=\"T_9cab0_row6_col3\" class=\"data row6 col3\" >0.8810</td>\n",
              "      <td id=\"T_9cab0_row6_col4\" class=\"data row6 col4\" >0.9058</td>\n",
              "      <td id=\"T_9cab0_row6_col5\" class=\"data row6 col5\" >0.7986</td>\n",
              "      <td id=\"T_9cab0_row6_col6\" class=\"data row6 col6\" >0.8001</td>\n",
              "    </tr>\n",
              "    <tr>\n",
              "      <th id=\"T_9cab0_level0_row7\" class=\"row_heading level0 row7\" >7</th>\n",
              "      <td id=\"T_9cab0_row7_col0\" class=\"data row7 col0\" >0.9137</td>\n",
              "      <td id=\"T_9cab0_row7_col1\" class=\"data row7 col1\" >0.9704</td>\n",
              "      <td id=\"T_9cab0_row7_col2\" class=\"data row7 col2\" >0.9454</td>\n",
              "      <td id=\"T_9cab0_row7_col3\" class=\"data row7 col3\" >0.8935</td>\n",
              "      <td id=\"T_9cab0_row7_col4\" class=\"data row7 col4\" >0.9187</td>\n",
              "      <td id=\"T_9cab0_row7_col5\" class=\"data row7 col5\" >0.8270</td>\n",
              "      <td id=\"T_9cab0_row7_col6\" class=\"data row7 col6\" >0.8285</td>\n",
              "    </tr>\n",
              "    <tr>\n",
              "      <th id=\"T_9cab0_level0_row8\" class=\"row_heading level0 row8\" >8</th>\n",
              "      <td id=\"T_9cab0_row8_col0\" class=\"data row8 col0\" >0.8961</td>\n",
              "      <td id=\"T_9cab0_row8_col1\" class=\"data row8 col1\" >0.9655</td>\n",
              "      <td id=\"T_9cab0_row8_col2\" class=\"data row8 col2\" >0.9522</td>\n",
              "      <td id=\"T_9cab0_row8_col3\" class=\"data row8 col3\" >0.8611</td>\n",
              "      <td id=\"T_9cab0_row8_col4\" class=\"data row8 col4\" >0.9044</td>\n",
              "      <td id=\"T_9cab0_row8_col5\" class=\"data row8 col5\" >0.7913</td>\n",
              "      <td id=\"T_9cab0_row8_col6\" class=\"data row8 col6\" >0.7961</td>\n",
              "    </tr>\n",
              "    <tr>\n",
              "      <th id=\"T_9cab0_level0_row9\" class=\"row_heading level0 row9\" >9</th>\n",
              "      <td id=\"T_9cab0_row9_col0\" class=\"data row9 col0\" >0.9032</td>\n",
              "      <td id=\"T_9cab0_row9_col1\" class=\"data row9 col1\" >0.9705</td>\n",
              "      <td id=\"T_9cab0_row9_col2\" class=\"data row9 col2\" >0.9283</td>\n",
              "      <td id=\"T_9cab0_row9_col3\" class=\"data row9 col3\" >0.8889</td>\n",
              "      <td id=\"T_9cab0_row9_col4\" class=\"data row9 col4\" >0.9082</td>\n",
              "      <td id=\"T_9cab0_row9_col5\" class=\"data row9 col5\" >0.8059</td>\n",
              "      <td id=\"T_9cab0_row9_col6\" class=\"data row9 col6\" >0.8067</td>\n",
              "    </tr>\n",
              "    <tr>\n",
              "      <th id=\"T_9cab0_level0_row10\" class=\"row_heading level0 row10\" >Mean</th>\n",
              "      <td id=\"T_9cab0_row10_col0\" class=\"data row10 col0\" >0.8991</td>\n",
              "      <td id=\"T_9cab0_row10_col1\" class=\"data row10 col1\" >0.9634</td>\n",
              "      <td id=\"T_9cab0_row10_col2\" class=\"data row10 col2\" >0.9394</td>\n",
              "      <td id=\"T_9cab0_row10_col3\" class=\"data row10 col3\" >0.8748</td>\n",
              "      <td id=\"T_9cab0_row10_col4\" class=\"data row10 col4\" >0.9058</td>\n",
              "      <td id=\"T_9cab0_row10_col5\" class=\"data row10 col5\" >0.7974</td>\n",
              "      <td id=\"T_9cab0_row10_col6\" class=\"data row10 col6\" >0.8000</td>\n",
              "    </tr>\n",
              "    <tr>\n",
              "      <th id=\"T_9cab0_level0_row11\" class=\"row_heading level0 row11\" >Std</th>\n",
              "      <td id=\"T_9cab0_row11_col0\" class=\"data row11 col0\" >0.0070</td>\n",
              "      <td id=\"T_9cab0_row11_col1\" class=\"data row11 col1\" >0.0066</td>\n",
              "      <td id=\"T_9cab0_row11_col2\" class=\"data row11 col2\" >0.0118</td>\n",
              "      <td id=\"T_9cab0_row11_col3\" class=\"data row11 col3\" >0.0135</td>\n",
              "      <td id=\"T_9cab0_row11_col4\" class=\"data row11 col4\" >0.0060</td>\n",
              "      <td id=\"T_9cab0_row11_col5\" class=\"data row11 col5\" >0.0142</td>\n",
              "      <td id=\"T_9cab0_row11_col6\" class=\"data row11 col6\" >0.0135</td>\n",
              "    </tr>\n",
              "  </tbody>\n",
              "</table>\n"
            ]
          },
          "metadata": {}
        },
        {
          "output_type": "display_data",
          "data": {
            "text/plain": [
              "Processing:   0%|          | 0/4 [00:00<?, ?it/s]"
            ],
            "application/vnd.jupyter.widget-view+json": {
              "version_major": 2,
              "version_minor": 0,
              "model_id": "075c2ec51ea648f283192a3bb5490827"
            }
          },
          "metadata": {
            "application/vnd.jupyter.widget-view+json": {
              "colab": {
                "custom_widget_manager": {
                  "url": "https://ssl.gstatic.com/colaboratory-static/widgets/colab-cdn-widget-manager/b3e629b1971e1542/manager.min.js"
                }
              }
            }
          }
        },
        {
          "output_type": "display_data",
          "data": {
            "text/plain": [
              "<IPython.core.display.HTML object>"
            ],
            "text/html": []
          },
          "metadata": {}
        }
      ],
      "source": [
        "#Desicion Tree: El mejor modelo\n",
        "dt = create_model('dt')"
      ]
    },
    {
      "cell_type": "code",
      "execution_count": 43,
      "metadata": {
        "colab": {
          "base_uri": "https://localhost:8080/",
          "height": 348
        },
        "id": "GQJXzFxFeh0R",
        "outputId": "19392541-8d58-4b59-b4ab-4bf673b0cc4d"
      },
      "outputs": [
        {
          "output_type": "display_data",
          "data": {
            "text/plain": [
              "<Figure size 576x338.4 with 2 Axes>"
            ],
            "image/png": "[encoded data removed]"
          },
          "metadata": {
            "needs_background": "light"
          }
        }
      ],
      "source": [
        "interpret_model(dt)"
      ]
    },
    {
      "cell_type": "markdown",
      "metadata": {
        "id": "urfA0MXlmR80"
      },
      "source": [
        "Podemos observar las variables que tienen un gran impacto para el modelo mediante los shap values,variables como BRUISES Y POP son determinantes, ya que al tener o no la propiedad generan excelente discriminacion entre las clases."
      ]
    },
    {
      "cell_type": "code",
      "execution_count": 44,
      "metadata": {
        "colab": {
          "base_uri": "https://localhost:8080/",
          "height": 294
        },
        "id": "9kxaZjycyfhG",
        "outputId": "2ef63e26-83c9-47c5-d0a4-b56222d667b9"
      },
      "outputs": [
        {
          "output_type": "display_data",
          "data": {
            "text/plain": [
              "<IPython.core.display.HTML object>"
            ],
            "text/html": []
          },
          "metadata": {}
        },
        {
          "output_type": "display_data",
          "data": {
            "text/plain": [
              "<Figure size 432x288 with 1 Axes>"
            ],
            "image/png": "[encoded data removed]"
          },
          "metadata": {
            "needs_background": "light"
          }
        }
      ],
      "source": [
        "#Resultados del modelo de arbol de decision.\n",
        "plot_model(dt,plot='rfe')"
      ]
    },
    {
      "cell_type": "markdown",
      "metadata": {
        "id": "qCj0f0kO0d5N"
      },
      "source": [
        "Para este modelo tenemos que con tan solo 7 caracteristicas se alcanza un score de 0.9, lo que nos da a entender que tenemos variables que generan alta discriminacion entre una clase o otra."
      ]
    },
    {
      "cell_type": "markdown",
      "metadata": {
        "id": "3KWI4umKVXIw"
      },
      "source": [
        "## 5.2 Validación\n"
      ]
    },
    {
      "cell_type": "markdown",
      "metadata": {
        "id": "3J65sW6ZVXIw"
      },
      "source": [
        "A partir de aquí vamos a ver el proceso de desarrollo de los tres modelos desde su aplicación en sklearn. Primero hicimos la partición de la data. Para dicho entrenamiento tomamos una relación (70-30) para la partición de los datos."
      ]
    },
    {
      "cell_type": "code",
      "execution_count": 45,
      "metadata": {
        "colab": {
          "base_uri": "https://localhost:8080/",
          "height": 0
        },
        "id": "7RjX-ndhVXIx",
        "outputId": "55ca3802-6bf3-49a1-cfd4-c02914442265"
      },
      "outputs": [
        {
          "output_type": "execute_result",
          "data": {
            "text/plain": [
              "{'Entrenamiento': 5686, 'Prueba': 2438}"
            ]
          },
          "metadata": {},
          "execution_count": 45
        }
      ],
      "source": [
        "## Data de prueba y partición\n",
        "X, y =  data4.drop(['POI_e'],axis=1), data4[['POI_e']]\n",
        "X_train, X_test, y_train, y_test = train_test_split(X,y,test_size=0.3,random_state=123)\n",
        "\n",
        "##Tamaño data de entrenamiento y prueba\n",
        "a = len(X_train)\n",
        "b = len(X_test)\n",
        "\n",
        "{'Entrenamiento':a,'Prueba':b}"
      ]
    },
    {
      "cell_type": "markdown",
      "metadata": {
        "id": "EPwCkaOoVXIx"
      },
      "source": [
        "## 5.3 y 5.4 Iteraciones y Evalución - Herramientas\n",
        "\n",
        "Desde aquí vamos a ver los resultados de los tres modelos evaluados."
      ]
    },
    {
      "cell_type": "markdown",
      "metadata": {
        "id": "Yd1dAcbwVXIx"
      },
      "source": [
        "### Vecinos más cercanos\n",
        "\n",
        "Para este modelo aplicamos en primer lugar un iterador que nos permitiera evaluar el K más ideal para este modelo basandonos en la metra de exactitud (Accuracy) desde la data de entrenamiento. Dicha validación se desarrollo desde validación cruzada para poder controlar posibles sobreajustes en el modelo. Se evaluará el modelo desde k=1 hasta k=100."
      ]
    },
    {
      "cell_type": "code",
      "execution_count": 46,
      "metadata": {
        "id": "wB_ecWerVXIx"
      },
      "outputs": [],
      "source": [
        "## Almacenador\n",
        "table = pd.DataFrame({'K':[0],\n",
        "                     'Acuracy':[0]})\n",
        "\n",
        "## Entrenamiento\n",
        "for i in range(1,100):\n",
        "    clf = neighbors.KNeighborsClassifier(i)\n",
        "    cv_score = cross_val_score(clf, X_train, y_train, cv = 10)\n",
        "    Acu = cv_score.mean()\n",
        "    K = i\n",
        "    table.loc[i] = [K,Acu]\n",
        "\n",
        "table = table.drop(labels=[0],axis=0)\n",
        "table\n",
        "\n",
        "warnings.simplefilter(action='ignore', category=SettingWithCopyWarning)"
      ]
    },
    {
      "cell_type": "markdown",
      "metadata": {
        "id": "YdThSkhKVXIy"
      },
      "source": [
        "¿Cuáles K tienen mejor exactitud?"
      ]
    },
    {
      "cell_type": "code",
      "execution_count": 47,
      "metadata": {
        "colab": {
          "base_uri": "https://localhost:8080/",
          "height": 0
        },
        "id": "tQF7ROBuVXIy",
        "outputId": "d383a804-7264-4ff0-a7c8-abf473aebccc"
      },
      "outputs": [
        {
          "output_type": "stream",
          "name": "stdout",
          "text": [
            "     K  Acuracy\n",
            "4  4.0   0.9949\n",
            "5  5.0   0.9949\n"
          ]
        }
      ],
      "source": [
        "## K con mayor accuracy\n",
        "\n",
        "Acu_Max = table.Acuracy.max()\n",
        "print(table[table.Acuracy == Acu_Max])"
      ]
    },
    {
      "cell_type": "markdown",
      "metadata": {
        "id": "FX1lydviVXIz"
      },
      "source": [
        "Al revisar la exactitud de todos los K evaluados es posible ver que incluso hasta los 100 vecinos más cercanos, la exactitud tiende a ser muy alta."
      ]
    },
    {
      "cell_type": "code",
      "execution_count": 48,
      "metadata": {
        "colab": {
          "base_uri": "https://localhost:8080/",
          "height": 312
        },
        "id": "JDuO608XVXIz",
        "outputId": "2237bffb-fc6a-4ad5-e635-c456a715b0cd"
      },
      "outputs": [
        {
          "output_type": "execute_result",
          "data": {
            "text/plain": [
              "[Text(0.5, 1.0, 'Acuracy por K para Data de Entrenamiento por Validación Cruzada')]"
            ]
          },
          "metadata": {},
          "execution_count": 48
        },
        {
          "output_type": "display_data",
          "data": {
            "text/plain": [
              "<Figure size 432x288 with 1 Axes>"
            ],
            "image/png": "[encoded data removed]"
          },
          "metadata": {
            "needs_background": "light"
          }
        }
      ],
      "source": [
        "## Plot Accuracy para Entrenamiento\n",
        "PAEVC = sns.lineplot(data = table, x = 'K', y = 'Acuracy').set(title='Acuracy por K para Data de Entrenamiento por Validación Cruzada')\n",
        "PAEVC"
      ]
    },
    {
      "cell_type": "markdown",
      "metadata": {
        "id": "aGKvz6mxVXI0"
      },
      "source": [
        "Este sería el resultado del modelo probado con la data de prueba con K=3 utilizando el predictor con validación cruzada."
      ]
    },
    {
      "cell_type": "code",
      "execution_count": 49,
      "metadata": {
        "id": "ToqDiLg8VXI0"
      },
      "outputs": [],
      "source": [
        "clf = neighbors.KNeighborsClassifier(3)\n",
        "clf.fit(X_train,y_train)\n",
        "\n",
        "## Predicción de modelo por validación cruzada\n",
        "y_pred = cross_val_predict(clf, X_test, y_test, cv=10)"
      ]
    },
    {
      "cell_type": "code",
      "execution_count": 50,
      "metadata": {
        "colab": {
          "base_uri": "https://localhost:8080/",
          "height": 297
        },
        "id": "eo6HCYOOVXI1",
        "outputId": "0e6b325b-b040-4480-fab9-da7095498556"
      },
      "outputs": [
        {
          "output_type": "execute_result",
          "data": {
            "text/plain": [
              "<sklearn.metrics._plot.confusion_matrix.ConfusionMatrixDisplay at 0x7f5eb2e650a0>"
            ]
          },
          "metadata": {},
          "execution_count": 50
        },
        {
          "output_type": "display_data",
          "data": {
            "text/plain": [
              "<Figure size 432x288 with 2 Axes>"
            ],
            "image/png": "[encoded data removed]"
          },
          "metadata": {
            "needs_background": "light"
          }
        }
      ],
      "source": [
        "## Matriz de Confusión\n",
        "matriz = confusion_matrix(y_test,y_pred)\n",
        "fig = ConfusionMatrixDisplay(matriz)\n",
        "fig.plot()"
      ]
    },
    {
      "cell_type": "code",
      "execution_count": 51,
      "metadata": {
        "colab": {
          "base_uri": "https://localhost:8080/",
          "height": 279
        },
        "id": "xIEbLD2rVXI1",
        "outputId": "45641541-bb78-49f3-ee7f-1798aa9630a9"
      },
      "outputs": [
        {
          "output_type": "display_data",
          "data": {
            "text/plain": [
              "<Figure size 432x288 with 1 Axes>"
            ],
            "image/png": "[encoded data removed]"
          },
          "metadata": {
            "needs_background": "light"
          }
        }
      ],
      "source": [
        "## Curva ROC\n",
        "\n",
        "fpr, tpr, _ = roc_curve(y_test,y_pred, pos_label=clf.classes_[1])\n",
        "roc_display = RocCurveDisplay(fpr=fpr, tpr=tpr).plot()"
      ]
    },
    {
      "cell_type": "code",
      "execution_count": 52,
      "metadata": {
        "colab": {
          "base_uri": "https://localhost:8080/",
          "height": 81
        },
        "id": "yFgZd78UVXI2",
        "outputId": "998ba708-cac8-402a-ddbe-557b687f9dab"
      },
      "outputs": [
        {
          "output_type": "execute_result",
          "data": {
            "text/plain": [
              "  Modelo  Exactitud  Precisión  Sensibilidad\n",
              "0    KNN   0.987695   0.991291      0.985051"
            ],
            "text/html": [
              "\n",
              "  <div id=\"df-2e993963-8155-4285-a07d-a52924e62f5b\">\n",
              "    <div class=\"colab-df-container\">\n",
              "      <div>\n",
              "<style scoped>\n",
              "    .dataframe tbody tr th:only-of-type {\n",
              "        vertical-align: middle;\n",
              "    }\n",
              "\n",
              "    .dataframe tbody tr th {\n",
              "        vertical-align: top;\n",
              "    }\n",
              "\n",
              "    .dataframe thead th {\n",
              "        text-align: right;\n",
              "    }\n",
              "</style>\n",
              "<table border=\"1\" class=\"dataframe\">\n",
              "  <thead>\n",
              "    <tr style=\"text-align: right;\">\n",
              "      <th></th>\n",
              "      <th>Modelo</th>\n",
              "      <th>Exactitud</th>\n",
              "      <th>Precisión</th>\n",
              "      <th>Sensibilidad</th>\n",
              "    </tr>\n",
              "  </thead>\n",
              "  <tbody>\n",
              "    <tr>\n",
              "      <th>0</th>\n",
              "      <td>KNN</td>\n",
              "      <td>0.987695</td>\n",
              "      <td>0.991291</td>\n",
              "      <td>0.985051</td>\n",
              "    </tr>\n",
              "  </tbody>\n",
              "</table>\n",
              "</div>\n",
              "      <button class=\"colab-df-convert\" onclick=\"convertToInteractive('df-2e993963-8155-4285-a07d-a52924e62f5b')\"\n",
              "              title=\"Convert this dataframe to an interactive table.\"\n",
              "              style=\"display:none;\">\n",
              "        \n",
              "  <svg xmlns=\"http://www.w3.org/2000/svg\" height=\"24px\"viewBox=\"0 0 24 24\"\n",
              "       width=\"24px\">\n",
              "    <path d=\"M0 0h24v24H0V0z\" fill=\"none\"/>\n",
              "    <path d=\"M18.56 5.44l.94 2.06.94-2.06 2.06-.94-2.06-.94-.94-2.06-.94 2.06-2.06.94zm-11 1L8.5 8.5l.94-2.06 2.06-.94-2.06-.94L8.5 2.5l-.94 2.06-2.06.94zm10 10l.94 2.06.94-2.06 2.06-.94-2.06-.94-.94-2.06-.94 2.06-2.06.94z\"/><path d=\"M17.41 7.96l-1.37-1.37c-.4-.4-.92-.59-1.43-.59-.52 0-1.04.2-1.43.59L10.3 9.45l-7.72 7.72c-.78.78-.78 2.05 0 2.83L4 21.41c.39.39.9.59 1.41.59.51 0 1.02-.2 1.41-.59l7.78-7.78 2.81-2.81c.8-.78.8-2.07 0-2.86zM5.41 20L4 18.59l7.72-7.72 1.47 1.35L5.41 20z\"/>\n",
              "  </svg>\n",
              "      </button>\n",
              "      \n",
              "  <style>\n",
              "    .colab-df-container {\n",
              "      display:flex;\n",
              "      flex-wrap:wrap;\n",
              "      gap: 12px;\n",
              "    }\n",
              "\n",
              "    .colab-df-convert {\n",
              "      background-color: #E8F0FE;\n",
              "      border: none;\n",
              "      border-radius: 50%;\n",
              "      cursor: pointer;\n",
              "      display: none;\n",
              "      fill: #1967D2;\n",
              "      height: 32px;\n",
              "      padding: 0 0 0 0;\n",
              "      width: 32px;\n",
              "    }\n",
              "\n",
              "    .colab-df-convert:hover {\n",
              "      background-color: #E2EBFA;\n",
              "      box-shadow: 0px 1px 2px rgba(60, 64, 67, 0.3), 0px 1px 3px 1px rgba(60, 64, 67, 0.15);\n",
              "      fill: #174EA6;\n",
              "    }\n",
              "\n",
              "    [theme=dark] .colab-df-convert {\n",
              "      background-color: #3B4455;\n",
              "      fill: #D2E3FC;\n",
              "    }\n",
              "\n",
              "    [theme=dark] .colab-df-convert:hover {\n",
              "      background-color: #434B5C;\n",
              "      box-shadow: 0px 1px 3px 1px rgba(0, 0, 0, 0.15);\n",
              "      filter: drop-shadow(0px 1px 2px rgba(0, 0, 0, 0.3));\n",
              "      fill: #FFFFFF;\n",
              "    }\n",
              "  </style>\n",
              "\n",
              "      <script>\n",
              "        const buttonEl =\n",
              "          document.querySelector('#df-2e993963-8155-4285-a07d-a52924e62f5b button.colab-df-convert');\n",
              "        buttonEl.style.display =\n",
              "          google.colab.kernel.accessAllowed ? 'block' : 'none';\n",
              "\n",
              "        async function convertToInteractive(key) {\n",
              "          const element = document.querySelector('#df-2e993963-8155-4285-a07d-a52924e62f5b');\n",
              "          const dataTable =\n",
              "            await google.colab.kernel.invokeFunction('convertToInteractive',\n",
              "                                                     [key], {});\n",
              "          if (!dataTable) return;\n",
              "\n",
              "          const docLinkHtml = 'Like what you see? Visit the ' +\n",
              "            '<a target=\"_blank\" href=https://colab.research.google.com/notebooks/data_table.ipynb>data table notebook</a>'\n",
              "            + ' to learn more about interactive tables.';\n",
              "          element.innerHTML = '';\n",
              "          dataTable['output_type'] = 'display_data';\n",
              "          await google.colab.output.renderOutput(dataTable, element);\n",
              "          const docLink = document.createElement('div');\n",
              "          docLink.innerHTML = docLinkHtml;\n",
              "          element.appendChild(docLink);\n",
              "        }\n",
              "      </script>\n",
              "    </div>\n",
              "  </div>\n",
              "  "
            ]
          },
          "metadata": {},
          "execution_count": 52
        }
      ],
      "source": [
        "## Métricas de Exactitud\n",
        "\n",
        "acu = accuracy_score(y_test,y_pred)\n",
        "pre = precision_score(y_test,y_pred)\n",
        "sen = recall_score(y_test,y_pred)\n",
        "\n",
        "KVTable = pd.DataFrame([{'Modelo':'KNN','Exactitud':acu,'Precisión':pre,'Sensibilidad':sen}])\n",
        "KVTable"
      ]
    },
    {
      "cell_type": "markdown",
      "metadata": {
        "id": "q6NP-ue6VXI2"
      },
      "source": [
        "Las métricas de exactitud dan valores muy altos que dan seguridad sobre la capacidad del modelo de predecir la naturaleza de los hongos que se encuentran en la base de prueba."
      ]
    },
    {
      "cell_type": "markdown",
      "metadata": {
        "id": "tBtFqRWIVXI3"
      },
      "source": [
        "### Análisis de Discriminante\n",
        "\n",
        "Entrenamoes el modelo y pasamos a realizar al predicción de los datos de prueba."
      ]
    },
    {
      "cell_type": "code",
      "execution_count": 53,
      "metadata": {
        "id": "aG8SlqMJVXI3"
      },
      "outputs": [],
      "source": [
        "## Entrenamiento\n",
        "clf = LinearDiscriminantAnalysis()\n",
        "clf.fit(X_train,y_train)\n",
        "\n",
        "## Predicción de modelo por validación cruzada\n",
        "y_pred = cross_val_predict(clf, X_test, y_test, cv=10)"
      ]
    },
    {
      "cell_type": "markdown",
      "metadata": {
        "id": "aWegL1L-VXI4"
      },
      "source": [
        "De esta manera obtenemos los resultados del modelo."
      ]
    },
    {
      "cell_type": "code",
      "execution_count": 54,
      "metadata": {
        "colab": {
          "base_uri": "https://localhost:8080/",
          "height": 297
        },
        "id": "qFHLLNOAVXI4",
        "outputId": "89baa066-f200-4bfb-8782-2915b2978dde"
      },
      "outputs": [
        {
          "output_type": "execute_result",
          "data": {
            "text/plain": [
              "<sklearn.metrics._plot.confusion_matrix.ConfusionMatrixDisplay at 0x7f5eb2e65280>"
            ]
          },
          "metadata": {},
          "execution_count": 54
        },
        {
          "output_type": "display_data",
          "data": {
            "text/plain": [
              "<Figure size 432x288 with 2 Axes>"
            ],
            "image/png": "[encoded data removed]"
          },
          "metadata": {
            "needs_background": "light"
          }
        }
      ],
      "source": [
        "matriz = confusion_matrix(y_test,y_pred)\n",
        "fig = ConfusionMatrixDisplay(matriz)\n",
        "fig.plot()"
      ]
    },
    {
      "cell_type": "code",
      "execution_count": 55,
      "metadata": {
        "colab": {
          "base_uri": "https://localhost:8080/",
          "height": 279
        },
        "id": "Gs0n9vKgVXI4",
        "outputId": "60f76f10-4d62-49bb-b7f6-fc5ffe2a92a3"
      },
      "outputs": [
        {
          "output_type": "display_data",
          "data": {
            "text/plain": [
              "<Figure size 432x288 with 1 Axes>"
            ],
            "image/png": "[encoded data removed]"
          },
          "metadata": {
            "needs_background": "light"
          }
        }
      ],
      "source": [
        "## Curva ROC\n",
        "\n",
        "fpr, tpr, _ = roc_curve(y_test,y_pred, pos_label=clf.classes_[1])\n",
        "roc_display = RocCurveDisplay(fpr=fpr, tpr=tpr).plot()"
      ]
    },
    {
      "cell_type": "code",
      "execution_count": 56,
      "metadata": {
        "colab": {
          "base_uri": "https://localhost:8080/",
          "height": 81
        },
        "id": "LZ9PiTnyVXI4",
        "outputId": "83c592f5-74d1-4eec-b270-d3ea3384f390"
      },
      "outputs": [
        {
          "output_type": "execute_result",
          "data": {
            "text/plain": [
              "          Modelo  Exactitud  Precisión  Sensibilidad\n",
              "0  Discriminante   0.993847   0.988336           1.0"
            ],
            "text/html": [
              "\n",
              "  <div id=\"df-1d468367-ad08-4eb4-b28a-edd098ac3ca5\">\n",
              "    <div class=\"colab-df-container\">\n",
              "      <div>\n",
              "<style scoped>\n",
              "    .dataframe tbody tr th:only-of-type {\n",
              "        vertical-align: middle;\n",
              "    }\n",
              "\n",
              "    .dataframe tbody tr th {\n",
              "        vertical-align: top;\n",
              "    }\n",
              "\n",
              "    .dataframe thead th {\n",
              "        text-align: right;\n",
              "    }\n",
              "</style>\n",
              "<table border=\"1\" class=\"dataframe\">\n",
              "  <thead>\n",
              "    <tr style=\"text-align: right;\">\n",
              "      <th></th>\n",
              "      <th>Modelo</th>\n",
              "      <th>Exactitud</th>\n",
              "      <th>Precisión</th>\n",
              "      <th>Sensibilidad</th>\n",
              "    </tr>\n",
              "  </thead>\n",
              "  <tbody>\n",
              "    <tr>\n",
              "      <th>0</th>\n",
              "      <td>Discriminante</td>\n",
              "      <td>0.993847</td>\n",
              "      <td>0.988336</td>\n",
              "      <td>1.0</td>\n",
              "    </tr>\n",
              "  </tbody>\n",
              "</table>\n",
              "</div>\n",
              "      <button class=\"colab-df-convert\" onclick=\"convertToInteractive('df-1d468367-ad08-4eb4-b28a-edd098ac3ca5')\"\n",
              "              title=\"Convert this dataframe to an interactive table.\"\n",
              "              style=\"display:none;\">\n",
              "        \n",
              "  <svg xmlns=\"http://www.w3.org/2000/svg\" height=\"24px\"viewBox=\"0 0 24 24\"\n",
              "       width=\"24px\">\n",
              "    <path d=\"M0 0h24v24H0V0z\" fill=\"none\"/>\n",
              "    <path d=\"M18.56 5.44l.94 2.06.94-2.06 2.06-.94-2.06-.94-.94-2.06-.94 2.06-2.06.94zm-11 1L8.5 8.5l.94-2.06 2.06-.94-2.06-.94L8.5 2.5l-.94 2.06-2.06.94zm10 10l.94 2.06.94-2.06 2.06-.94-2.06-.94-.94-2.06-.94 2.06-2.06.94z\"/><path d=\"M17.41 7.96l-1.37-1.37c-.4-.4-.92-.59-1.43-.59-.52 0-1.04.2-1.43.59L10.3 9.45l-7.72 7.72c-.78.78-.78 2.05 0 2.83L4 21.41c.39.39.9.59 1.41.59.51 0 1.02-.2 1.41-.59l7.78-7.78 2.81-2.81c.8-.78.8-2.07 0-2.86zM5.41 20L4 18.59l7.72-7.72 1.47 1.35L5.41 20z\"/>\n",
              "  </svg>\n",
              "      </button>\n",
              "      \n",
              "  <style>\n",
              "    .colab-df-container {\n",
              "      display:flex;\n",
              "      flex-wrap:wrap;\n",
              "      gap: 12px;\n",
              "    }\n",
              "\n",
              "    .colab-df-convert {\n",
              "      background-color: #E8F0FE;\n",
              "      border: none;\n",
              "      border-radius: 50%;\n",
              "      cursor: pointer;\n",
              "      display: none;\n",
              "      fill: #1967D2;\n",
              "      height: 32px;\n",
              "      padding: 0 0 0 0;\n",
              "      width: 32px;\n",
              "    }\n",
              "\n",
              "    .colab-df-convert:hover {\n",
              "      background-color: #E2EBFA;\n",
              "      box-shadow: 0px 1px 2px rgba(60, 64, 67, 0.3), 0px 1px 3px 1px rgba(60, 64, 67, 0.15);\n",
              "      fill: #174EA6;\n",
              "    }\n",
              "\n",
              "    [theme=dark] .colab-df-convert {\n",
              "      background-color: #3B4455;\n",
              "      fill: #D2E3FC;\n",
              "    }\n",
              "\n",
              "    [theme=dark] .colab-df-convert:hover {\n",
              "      background-color: #434B5C;\n",
              "      box-shadow: 0px 1px 3px 1px rgba(0, 0, 0, 0.15);\n",
              "      filter: drop-shadow(0px 1px 2px rgba(0, 0, 0, 0.3));\n",
              "      fill: #FFFFFF;\n",
              "    }\n",
              "  </style>\n",
              "\n",
              "      <script>\n",
              "        const buttonEl =\n",
              "          document.querySelector('#df-1d468367-ad08-4eb4-b28a-edd098ac3ca5 button.colab-df-convert');\n",
              "        buttonEl.style.display =\n",
              "          google.colab.kernel.accessAllowed ? 'block' : 'none';\n",
              "\n",
              "        async function convertToInteractive(key) {\n",
              "          const element = document.querySelector('#df-1d468367-ad08-4eb4-b28a-edd098ac3ca5');\n",
              "          const dataTable =\n",
              "            await google.colab.kernel.invokeFunction('convertToInteractive',\n",
              "                                                     [key], {});\n",
              "          if (!dataTable) return;\n",
              "\n",
              "          const docLinkHtml = 'Like what you see? Visit the ' +\n",
              "            '<a target=\"_blank\" href=https://colab.research.google.com/notebooks/data_table.ipynb>data table notebook</a>'\n",
              "            + ' to learn more about interactive tables.';\n",
              "          element.innerHTML = '';\n",
              "          dataTable['output_type'] = 'display_data';\n",
              "          await google.colab.output.renderOutput(dataTable, element);\n",
              "          const docLink = document.createElement('div');\n",
              "          docLink.innerHTML = docLinkHtml;\n",
              "          element.appendChild(docLink);\n",
              "        }\n",
              "      </script>\n",
              "    </div>\n",
              "  </div>\n",
              "  "
            ]
          },
          "metadata": {},
          "execution_count": 56
        }
      ],
      "source": [
        "## Métricas de Exactitud\n",
        "\n",
        "acu = accuracy_score(y_test,y_pred)\n",
        "pre = precision_score(y_test,y_pred)\n",
        "sen = recall_score(y_test,y_pred)\n",
        "\n",
        "DisTable = pd.DataFrame([{'Modelo':'Discriminante','Exactitud':acu,'Precisión':pre,'Sensibilidad':sen}])\n",
        "DisTable"
      ]
    },
    {
      "cell_type": "markdown",
      "metadata": {
        "id": "pB9IE0J2VXI5"
      },
      "source": [
        "Este modelo tambien tiene resultados muy buenos por lo que puede ser tenído en cuenta para la elección definitiva del modelo."
      ]
    },
    {
      "cell_type": "markdown",
      "metadata": {
        "id": "f9yICiwvVXI5"
      },
      "source": [
        "### Arboles de Decisión\n",
        "\n",
        "Entrenamos el modelo."
      ]
    },
    {
      "cell_type": "code",
      "execution_count": 57,
      "metadata": {
        "id": "ExlkZad6VXI5"
      },
      "outputs": [],
      "source": [
        "## Entrenamiento\n",
        "clf = DecisionTreeClassifier(random_state=123)\n",
        "clf.fit(X_train,y_train)\n",
        "\n",
        "## Aplicación al modelo entrenado a la data de prueba\n",
        "y_pred = cross_val_predict(clf, X_test, y_test, cv=10)"
      ]
    },
    {
      "cell_type": "markdown",
      "metadata": {
        "id": "GIywkYyZVXI5"
      },
      "source": [
        "Obtenemos medidas de exactitud."
      ]
    },
    {
      "cell_type": "code",
      "execution_count": 58,
      "metadata": {
        "colab": {
          "base_uri": "https://localhost:8080/",
          "height": 297
        },
        "id": "NZaCt5DeVXI6",
        "outputId": "9eeb2a72-6c8a-4d94-def4-3f326f888b4b"
      },
      "outputs": [
        {
          "output_type": "execute_result",
          "data": {
            "text/plain": [
              "<sklearn.metrics._plot.confusion_matrix.ConfusionMatrixDisplay at 0x7f5eb250ae80>"
            ]
          },
          "metadata": {},
          "execution_count": 58
        },
        {
          "output_type": "display_data",
          "data": {
            "text/plain": [
              "<Figure size 432x288 with 2 Axes>"
            ],
            "image/png": "[encoded data removed]"
          },
          "metadata": {
            "needs_background": "light"
          }
        }
      ],
      "source": [
        "matriz = confusion_matrix(y_test,y_pred)\n",
        "fig = ConfusionMatrixDisplay(matriz)\n",
        "fig.plot()"
      ]
    },
    {
      "cell_type": "code",
      "execution_count": 59,
      "metadata": {
        "colab": {
          "base_uri": "https://localhost:8080/",
          "height": 279
        },
        "id": "AQfA0_ueVXI6",
        "outputId": "3683bad7-cf24-48b6-e2c3-bbf4d788afdc"
      },
      "outputs": [
        {
          "output_type": "display_data",
          "data": {
            "text/plain": [
              "<Figure size 432x288 with 1 Axes>"
            ],
            "image/png": "[encoded data removed]"
          },
          "metadata": {
            "needs_background": "light"
          }
        }
      ],
      "source": [
        "## Curva ROC\n",
        "fpr, tpr, _ = roc_curve(y_test,y_pred, pos_label=clf.classes_[1])\n",
        "roc_display = RocCurveDisplay(fpr=fpr, tpr=tpr).plot()"
      ]
    },
    {
      "cell_type": "code",
      "execution_count": 60,
      "metadata": {
        "colab": {
          "base_uri": "https://localhost:8080/",
          "height": 81
        },
        "id": "NrEVxb4TVXI6",
        "outputId": "a6968afe-8ecd-4362-ed45-5f09c9a5a7c4"
      },
      "outputs": [
        {
          "output_type": "execute_result",
          "data": {
            "text/plain": [
              "    Modelo  Exactitud  Precisión  Sensibilidad\n",
              "0  Arboles   0.995488    0.99142           1.0"
            ],
            "text/html": [
              "\n",
              "  <div id=\"df-331928b3-cb55-4256-b089-661f10ea4a77\">\n",
              "    <div class=\"colab-df-container\">\n",
              "      <div>\n",
              "<style scoped>\n",
              "    .dataframe tbody tr th:only-of-type {\n",
              "        vertical-align: middle;\n",
              "    }\n",
              "\n",
              "    .dataframe tbody tr th {\n",
              "        vertical-align: top;\n",
              "    }\n",
              "\n",
              "    .dataframe thead th {\n",
              "        text-align: right;\n",
              "    }\n",
              "</style>\n",
              "<table border=\"1\" class=\"dataframe\">\n",
              "  <thead>\n",
              "    <tr style=\"text-align: right;\">\n",
              "      <th></th>\n",
              "      <th>Modelo</th>\n",
              "      <th>Exactitud</th>\n",
              "      <th>Precisión</th>\n",
              "      <th>Sensibilidad</th>\n",
              "    </tr>\n",
              "  </thead>\n",
              "  <tbody>\n",
              "    <tr>\n",
              "      <th>0</th>\n",
              "      <td>Arboles</td>\n",
              "      <td>0.995488</td>\n",
              "      <td>0.99142</td>\n",
              "      <td>1.0</td>\n",
              "    </tr>\n",
              "  </tbody>\n",
              "</table>\n",
              "</div>\n",
              "      <button class=\"colab-df-convert\" onclick=\"convertToInteractive('df-331928b3-cb55-4256-b089-661f10ea4a77')\"\n",
              "              title=\"Convert this dataframe to an interactive table.\"\n",
              "              style=\"display:none;\">\n",
              "        \n",
              "  <svg xmlns=\"http://www.w3.org/2000/svg\" height=\"24px\"viewBox=\"0 0 24 24\"\n",
              "       width=\"24px\">\n",
              "    <path d=\"M0 0h24v24H0V0z\" fill=\"none\"/>\n",
              "    <path d=\"M18.56 5.44l.94 2.06.94-2.06 2.06-.94-2.06-.94-.94-2.06-.94 2.06-2.06.94zm-11 1L8.5 8.5l.94-2.06 2.06-.94-2.06-.94L8.5 2.5l-.94 2.06-2.06.94zm10 10l.94 2.06.94-2.06 2.06-.94-2.06-.94-.94-2.06-.94 2.06-2.06.94z\"/><path d=\"M17.41 7.96l-1.37-1.37c-.4-.4-.92-.59-1.43-.59-.52 0-1.04.2-1.43.59L10.3 9.45l-7.72 7.72c-.78.78-.78 2.05 0 2.83L4 21.41c.39.39.9.59 1.41.59.51 0 1.02-.2 1.41-.59l7.78-7.78 2.81-2.81c.8-.78.8-2.07 0-2.86zM5.41 20L4 18.59l7.72-7.72 1.47 1.35L5.41 20z\"/>\n",
              "  </svg>\n",
              "      </button>\n",
              "      \n",
              "  <style>\n",
              "    .colab-df-container {\n",
              "      display:flex;\n",
              "      flex-wrap:wrap;\n",
              "      gap: 12px;\n",
              "    }\n",
              "\n",
              "    .colab-df-convert {\n",
              "      background-color: #E8F0FE;\n",
              "      border: none;\n",
              "      border-radius: 50%;\n",
              "      cursor: pointer;\n",
              "      display: none;\n",
              "      fill: #1967D2;\n",
              "      height: 32px;\n",
              "      padding: 0 0 0 0;\n",
              "      width: 32px;\n",
              "    }\n",
              "\n",
              "    .colab-df-convert:hover {\n",
              "      background-color: #E2EBFA;\n",
              "      box-shadow: 0px 1px 2px rgba(60, 64, 67, 0.3), 0px 1px 3px 1px rgba(60, 64, 67, 0.15);\n",
              "      fill: #174EA6;\n",
              "    }\n",
              "\n",
              "    [theme=dark] .colab-df-convert {\n",
              "      background-color: #3B4455;\n",
              "      fill: #D2E3FC;\n",
              "    }\n",
              "\n",
              "    [theme=dark] .colab-df-convert:hover {\n",
              "      background-color: #434B5C;\n",
              "      box-shadow: 0px 1px 3px 1px rgba(0, 0, 0, 0.15);\n",
              "      filter: drop-shadow(0px 1px 2px rgba(0, 0, 0, 0.3));\n",
              "      fill: #FFFFFF;\n",
              "    }\n",
              "  </style>\n",
              "\n",
              "      <script>\n",
              "        const buttonEl =\n",
              "          document.querySelector('#df-331928b3-cb55-4256-b089-661f10ea4a77 button.colab-df-convert');\n",
              "        buttonEl.style.display =\n",
              "          google.colab.kernel.accessAllowed ? 'block' : 'none';\n",
              "\n",
              "        async function convertToInteractive(key) {\n",
              "          const element = document.querySelector('#df-331928b3-cb55-4256-b089-661f10ea4a77');\n",
              "          const dataTable =\n",
              "            await google.colab.kernel.invokeFunction('convertToInteractive',\n",
              "                                                     [key], {});\n",
              "          if (!dataTable) return;\n",
              "\n",
              "          const docLinkHtml = 'Like what you see? Visit the ' +\n",
              "            '<a target=\"_blank\" href=https://colab.research.google.com/notebooks/data_table.ipynb>data table notebook</a>'\n",
              "            + ' to learn more about interactive tables.';\n",
              "          element.innerHTML = '';\n",
              "          dataTable['output_type'] = 'display_data';\n",
              "          await google.colab.output.renderOutput(dataTable, element);\n",
              "          const docLink = document.createElement('div');\n",
              "          docLink.innerHTML = docLinkHtml;\n",
              "          element.appendChild(docLink);\n",
              "        }\n",
              "      </script>\n",
              "    </div>\n",
              "  </div>\n",
              "  "
            ]
          },
          "metadata": {},
          "execution_count": 60
        }
      ],
      "source": [
        "## Métricas de Exactitud\n",
        "\n",
        "acu = accuracy_score(y_test,y_pred)\n",
        "pre = precision_score(y_test,y_pred)\n",
        "sen = recall_score(y_test,y_pred)\n",
        "\n",
        "ArbTable = pd.DataFrame([{'Modelo':'Arboles','Exactitud':acu,'Precisión':pre,'Sensibilidad':sen}])\n",
        "ArbTable"
      ]
    },
    {
      "cell_type": "markdown",
      "metadata": {
        "id": "_harSL2dVXI7"
      },
      "source": [
        "# 6. Resultados"
      ]
    },
    {
      "cell_type": "markdown",
      "metadata": {
        "id": "MPUpfAzzVXI7"
      },
      "source": [
        "## 6.1 Métricas\n",
        "\n",
        "A continuación el resumen de resultados de los modelos evaluados:"
      ]
    },
    {
      "cell_type": "code",
      "execution_count": 61,
      "metadata": {
        "colab": {
          "base_uri": "https://localhost:8080/",
          "height": 143
        },
        "id": "JLwVEH71VXI7",
        "outputId": "183d729d-3345-4188-a494-ae3e499f49b4"
      },
      "outputs": [
        {
          "output_type": "execute_result",
          "data": {
            "text/plain": [
              "          Modelo  Exactitud  Precisión  Sensibilidad\n",
              "0            KNN   0.987695   0.991291      0.985051\n",
              "0  Discriminante   0.993847   0.988336      1.000000\n",
              "0        Arboles   0.995488   0.991420      1.000000"
            ],
            "text/html": [
              "\n",
              "  <div id=\"df-90945f2f-e2e2-461e-926b-af25e933249f\">\n",
              "    <div class=\"colab-df-container\">\n",
              "      <div>\n",
              "<style scoped>\n",
              "    .dataframe tbody tr th:only-of-type {\n",
              "        vertical-align: middle;\n",
              "    }\n",
              "\n",
              "    .dataframe tbody tr th {\n",
              "        vertical-align: top;\n",
              "    }\n",
              "\n",
              "    .dataframe thead th {\n",
              "        text-align: right;\n",
              "    }\n",
              "</style>\n",
              "<table border=\"1\" class=\"dataframe\">\n",
              "  <thead>\n",
              "    <tr style=\"text-align: right;\">\n",
              "      <th></th>\n",
              "      <th>Modelo</th>\n",
              "      <th>Exactitud</th>\n",
              "      <th>Precisión</th>\n",
              "      <th>Sensibilidad</th>\n",
              "    </tr>\n",
              "  </thead>\n",
              "  <tbody>\n",
              "    <tr>\n",
              "      <th>0</th>\n",
              "      <td>KNN</td>\n",
              "      <td>0.987695</td>\n",
              "      <td>0.991291</td>\n",
              "      <td>0.985051</td>\n",
              "    </tr>\n",
              "    <tr>\n",
              "      <th>0</th>\n",
              "      <td>Discriminante</td>\n",
              "      <td>0.993847</td>\n",
              "      <td>0.988336</td>\n",
              "      <td>1.000000</td>\n",
              "    </tr>\n",
              "    <tr>\n",
              "      <th>0</th>\n",
              "      <td>Arboles</td>\n",
              "      <td>0.995488</td>\n",
              "      <td>0.991420</td>\n",
              "      <td>1.000000</td>\n",
              "    </tr>\n",
              "  </tbody>\n",
              "</table>\n",
              "</div>\n",
              "      <button class=\"colab-df-convert\" onclick=\"convertToInteractive('df-90945f2f-e2e2-461e-926b-af25e933249f')\"\n",
              "              title=\"Convert this dataframe to an interactive table.\"\n",
              "              style=\"display:none;\">\n",
              "        \n",
              "  <svg xmlns=\"http://www.w3.org/2000/svg\" height=\"24px\"viewBox=\"0 0 24 24\"\n",
              "       width=\"24px\">\n",
              "    <path d=\"M0 0h24v24H0V0z\" fill=\"none\"/>\n",
              "    <path d=\"M18.56 5.44l.94 2.06.94-2.06 2.06-.94-2.06-.94-.94-2.06-.94 2.06-2.06.94zm-11 1L8.5 8.5l.94-2.06 2.06-.94-2.06-.94L8.5 2.5l-.94 2.06-2.06.94zm10 10l.94 2.06.94-2.06 2.06-.94-2.06-.94-.94-2.06-.94 2.06-2.06.94z\"/><path d=\"M17.41 7.96l-1.37-1.37c-.4-.4-.92-.59-1.43-.59-.52 0-1.04.2-1.43.59L10.3 9.45l-7.72 7.72c-.78.78-.78 2.05 0 2.83L4 21.41c.39.39.9.59 1.41.59.51 0 1.02-.2 1.41-.59l7.78-7.78 2.81-2.81c.8-.78.8-2.07 0-2.86zM5.41 20L4 18.59l7.72-7.72 1.47 1.35L5.41 20z\"/>\n",
              "  </svg>\n",
              "      </button>\n",
              "      \n",
              "  <style>\n",
              "    .colab-df-container {\n",
              "      display:flex;\n",
              "      flex-wrap:wrap;\n",
              "      gap: 12px;\n",
              "    }\n",
              "\n",
              "    .colab-df-convert {\n",
              "      background-color: #E8F0FE;\n",
              "      border: none;\n",
              "      border-radius: 50%;\n",
              "      cursor: pointer;\n",
              "      display: none;\n",
              "      fill: #1967D2;\n",
              "      height: 32px;\n",
              "      padding: 0 0 0 0;\n",
              "      width: 32px;\n",
              "    }\n",
              "\n",
              "    .colab-df-convert:hover {\n",
              "      background-color: #E2EBFA;\n",
              "      box-shadow: 0px 1px 2px rgba(60, 64, 67, 0.3), 0px 1px 3px 1px rgba(60, 64, 67, 0.15);\n",
              "      fill: #174EA6;\n",
              "    }\n",
              "\n",
              "    [theme=dark] .colab-df-convert {\n",
              "      background-color: #3B4455;\n",
              "      fill: #D2E3FC;\n",
              "    }\n",
              "\n",
              "    [theme=dark] .colab-df-convert:hover {\n",
              "      background-color: #434B5C;\n",
              "      box-shadow: 0px 1px 3px 1px rgba(0, 0, 0, 0.15);\n",
              "      filter: drop-shadow(0px 1px 2px rgba(0, 0, 0, 0.3));\n",
              "      fill: #FFFFFF;\n",
              "    }\n",
              "  </style>\n",
              "\n",
              "      <script>\n",
              "        const buttonEl =\n",
              "          document.querySelector('#df-90945f2f-e2e2-461e-926b-af25e933249f button.colab-df-convert');\n",
              "        buttonEl.style.display =\n",
              "          google.colab.kernel.accessAllowed ? 'block' : 'none';\n",
              "\n",
              "        async function convertToInteractive(key) {\n",
              "          const element = document.querySelector('#df-90945f2f-e2e2-461e-926b-af25e933249f');\n",
              "          const dataTable =\n",
              "            await google.colab.kernel.invokeFunction('convertToInteractive',\n",
              "                                                     [key], {});\n",
              "          if (!dataTable) return;\n",
              "\n",
              "          const docLinkHtml = 'Like what you see? Visit the ' +\n",
              "            '<a target=\"_blank\" href=https://colab.research.google.com/notebooks/data_table.ipynb>data table notebook</a>'\n",
              "            + ' to learn more about interactive tables.';\n",
              "          element.innerHTML = '';\n",
              "          dataTable['output_type'] = 'display_data';\n",
              "          await google.colab.output.renderOutput(dataTable, element);\n",
              "          const docLink = document.createElement('div');\n",
              "          docLink.innerHTML = docLinkHtml;\n",
              "          element.appendChild(docLink);\n",
              "        }\n",
              "      </script>\n",
              "    </div>\n",
              "  </div>\n",
              "  "
            ]
          },
          "metadata": {},
          "execution_count": 61
        }
      ],
      "source": [
        "pd.concat([KVTable,DisTable,ArbTable])"
      ]
    },
    {
      "cell_type": "markdown",
      "metadata": {
        "id": "Mm9nIumcVXI7"
      },
      "source": [
        "El critério de elegibilidad del modelo se centra en la exactitud del mísmo para predecir la naturaleza de los hongos. Con respecto al Accuracy, los tres modelos tienen buenos resultados, siendo el más alto el del modelo de Arboles de Decisión. Facilmente los tres pueden ser elegibles. Desde el punto de vista de los desarrolladores de este proyecto consideramos que puede existir una erramiento de triple valoración en donde los tres modelos indiquen resultados de la naturaleza del hongo y que dependiendo de la dichos resultados, el experto tome una decisión."
      ]
    },
    {
      "cell_type": "markdown",
      "metadata": {
        "id": "K_0ZaPccVXI7"
      },
      "source": [
        "## 6.2 Evaluación Cualitativa"
      ]
    },
    {
      "cell_type": "markdown",
      "metadata": {
        "id": "N4zMZzPcVXI8"
      },
      "source": [
        "El modelo no presenta datos de sobreajuste o subajuste. Desde el proceso de entrenamiento y de predicción se utilizo validación cruzada lo que permite generar datos más axactos para el modelo. Igualmente las curvas ROC de los tres modelos muestran la efectividad de cada uno en el proceso de predecicción tanto para un hongo que es comestible o tóxico."
      ]
    },
    {
      "cell_type": "markdown",
      "metadata": {
        "id": "H4S6GwJ5VXI8"
      },
      "source": [
        "## 6.3 Consideraciones de producción.\n",
        "\n",
        "En cuanto a la alimentación del modelo, se espera que las variables predictoras sean representadas por una base de datos con la mísma estructura de la base original de este modelo. Como ejemplo de dicha necesidad y como parte de la comprobación de la efectividad del modelo, ponemos a prueba una base con el registro de 3 hongos con diversidad de naturaleza. Uno de estos hongos se considera nocivo al ser consumido en grandes cantidades.\n",
        "\n",
        "Hongo venenoso y comestible.\n",
        "- Tricholoma equestre: es un hongo tóxico si es consumido en grandes cantidades, aún así es consumido en Europa.\n",
        "\n",
        "Hongo venenoso.\n",
        "- Amanita bisporigera: Hongo color beige que al ser ingerido afecta al higado y el sistema renal.\n",
        "\n",
        "Hongo comestible.\n",
        "- Pleurotus ostreatus: tambien es conocido como orellana y junto con los champiñones y portobellos son usados en diferentes resetas culinarias.\n",
        "\n",
        "El siguiente es el código que se podrá utilizar para predecir la naturaleza de los hongos en los tres modelos seleccionados."
      ]
    },
    {
      "cell_type": "code",
      "execution_count": 62,
      "metadata": {
        "colab": {
          "base_uri": "https://localhost:8080/",
          "height": 143
        },
        "id": "AAiONmQNVXI8",
        "outputId": "643c4a95-2a6e-4235-819e-1fccdd792725"
      },
      "outputs": [
        {
          "output_type": "execute_result",
          "data": {
            "text/plain": [
              "                      A    KNN_Pred    DIS_Pred    ARB_Pred\n",
              "0   Tricholoma equestre  Comestible    Venenoso  Comestible\n",
              "1  Boletus pulcherrimus    Venenoso    Venenoso    Venenoso\n",
              "2   Pleurotus ostreatus  Comestible  Comestible  Comestible"
            ],
            "text/html": [
              "\n",
              "  <div id=\"df-49436aac-0efd-4d69-89ba-a91cfbfbad7a\">\n",
              "    <div class=\"colab-df-container\">\n",
              "      <div>\n",
              "<style scoped>\n",
              "    .dataframe tbody tr th:only-of-type {\n",
              "        vertical-align: middle;\n",
              "    }\n",
              "\n",
              "    .dataframe tbody tr th {\n",
              "        vertical-align: top;\n",
              "    }\n",
              "\n",
              "    .dataframe thead th {\n",
              "        text-align: right;\n",
              "    }\n",
              "</style>\n",
              "<table border=\"1\" class=\"dataframe\">\n",
              "  <thead>\n",
              "    <tr style=\"text-align: right;\">\n",
              "      <th></th>\n",
              "      <th>A</th>\n",
              "      <th>KNN_Pred</th>\n",
              "      <th>DIS_Pred</th>\n",
              "      <th>ARB_Pred</th>\n",
              "    </tr>\n",
              "  </thead>\n",
              "  <tbody>\n",
              "    <tr>\n",
              "      <th>0</th>\n",
              "      <td>Tricholoma equestre</td>\n",
              "      <td>Comestible</td>\n",
              "      <td>Venenoso</td>\n",
              "      <td>Comestible</td>\n",
              "    </tr>\n",
              "    <tr>\n",
              "      <th>1</th>\n",
              "      <td>Boletus pulcherrimus</td>\n",
              "      <td>Venenoso</td>\n",
              "      <td>Venenoso</td>\n",
              "      <td>Venenoso</td>\n",
              "    </tr>\n",
              "    <tr>\n",
              "      <th>2</th>\n",
              "      <td>Pleurotus ostreatus</td>\n",
              "      <td>Comestible</td>\n",
              "      <td>Comestible</td>\n",
              "      <td>Comestible</td>\n",
              "    </tr>\n",
              "  </tbody>\n",
              "</table>\n",
              "</div>\n",
              "      <button class=\"colab-df-convert\" onclick=\"convertToInteractive('df-49436aac-0efd-4d69-89ba-a91cfbfbad7a')\"\n",
              "              title=\"Convert this dataframe to an interactive table.\"\n",
              "              style=\"display:none;\">\n",
              "        \n",
              "  <svg xmlns=\"http://www.w3.org/2000/svg\" height=\"24px\"viewBox=\"0 0 24 24\"\n",
              "       width=\"24px\">\n",
              "    <path d=\"M0 0h24v24H0V0z\" fill=\"none\"/>\n",
              "    <path d=\"M18.56 5.44l.94 2.06.94-2.06 2.06-.94-2.06-.94-.94-2.06-.94 2.06-2.06.94zm-11 1L8.5 8.5l.94-2.06 2.06-.94-2.06-.94L8.5 2.5l-.94 2.06-2.06.94zm10 10l.94 2.06.94-2.06 2.06-.94-2.06-.94-.94-2.06-.94 2.06-2.06.94z\"/><path d=\"M17.41 7.96l-1.37-1.37c-.4-.4-.92-.59-1.43-.59-.52 0-1.04.2-1.43.59L10.3 9.45l-7.72 7.72c-.78.78-.78 2.05 0 2.83L4 21.41c.39.39.9.59 1.41.59.51 0 1.02-.2 1.41-.59l7.78-7.78 2.81-2.81c.8-.78.8-2.07 0-2.86zM5.41 20L4 18.59l7.72-7.72 1.47 1.35L5.41 20z\"/>\n",
              "  </svg>\n",
              "      </button>\n",
              "      \n",
              "  <style>\n",
              "    .colab-df-container {\n",
              "      display:flex;\n",
              "      flex-wrap:wrap;\n",
              "      gap: 12px;\n",
              "    }\n",
              "\n",
              "    .colab-df-convert {\n",
              "      background-color: #E8F0FE;\n",
              "      border: none;\n",
              "      border-radius: 50%;\n",
              "      cursor: pointer;\n",
              "      display: none;\n",
              "      fill: #1967D2;\n",
              "      height: 32px;\n",
              "      padding: 0 0 0 0;\n",
              "      width: 32px;\n",
              "    }\n",
              "\n",
              "    .colab-df-convert:hover {\n",
              "      background-color: #E2EBFA;\n",
              "      box-shadow: 0px 1px 2px rgba(60, 64, 67, 0.3), 0px 1px 3px 1px rgba(60, 64, 67, 0.15);\n",
              "      fill: #174EA6;\n",
              "    }\n",
              "\n",
              "    [theme=dark] .colab-df-convert {\n",
              "      background-color: #3B4455;\n",
              "      fill: #D2E3FC;\n",
              "    }\n",
              "\n",
              "    [theme=dark] .colab-df-convert:hover {\n",
              "      background-color: #434B5C;\n",
              "      box-shadow: 0px 1px 3px 1px rgba(0, 0, 0, 0.15);\n",
              "      filter: drop-shadow(0px 1px 2px rgba(0, 0, 0, 0.3));\n",
              "      fill: #FFFFFF;\n",
              "    }\n",
              "  </style>\n",
              "\n",
              "      <script>\n",
              "        const buttonEl =\n",
              "          document.querySelector('#df-49436aac-0efd-4d69-89ba-a91cfbfbad7a button.colab-df-convert');\n",
              "        buttonEl.style.display =\n",
              "          google.colab.kernel.accessAllowed ? 'block' : 'none';\n",
              "\n",
              "        async function convertToInteractive(key) {\n",
              "          const element = document.querySelector('#df-49436aac-0efd-4d69-89ba-a91cfbfbad7a');\n",
              "          const dataTable =\n",
              "            await google.colab.kernel.invokeFunction('convertToInteractive',\n",
              "                                                     [key], {});\n",
              "          if (!dataTable) return;\n",
              "\n",
              "          const docLinkHtml = 'Like what you see? Visit the ' +\n",
              "            '<a target=\"_blank\" href=https://colab.research.google.com/notebooks/data_table.ipynb>data table notebook</a>'\n",
              "            + ' to learn more about interactive tables.';\n",
              "          element.innerHTML = '';\n",
              "          dataTable['output_type'] = 'display_data';\n",
              "          await google.colab.output.renderOutput(dataTable, element);\n",
              "          const docLink = document.createElement('div');\n",
              "          docLink.innerHTML = docLinkHtml;\n",
              "          element.appendChild(docLink);\n",
              "        }\n",
              "      </script>\n",
              "    </div>\n",
              "  </div>\n",
              "  "
            ]
          },
          "metadata": {},
          "execution_count": 62
        }
      ],
      "source": [
        "## 1. Base con los hongos a predecir.\n",
        "New = pd.DataFrame({'Name':['Tricholoma equestre','Boletus pulcherrimus','Pleurotus ostreatus'],\n",
        "              'POI':['?','p','e'],\n",
        "                     'BRUISES':['t','f','f'],\n",
        "                     'G_COLOR':['y','b','w'],\n",
        "                     'G_SIZE':['b','b','b'],\n",
        "                     'ODOR':['a','f','n'],\n",
        "                     'POP':['v','v','c'],\n",
        "                     'RING_T':['n','l','n'],\n",
        "                     'SPORE':['w','w','w'],\n",
        "                     'S_COLOR_AB':['y','b','w']})\n",
        "\n",
        "## Generación de Dummies\n",
        "New_Dummie = New.drop(['Name','POI'],axis=1)\n",
        "New_Dummie = pd.get_dummies(New_Dummie)\n",
        "New_Dummie\n",
        "\n",
        "## Estructura Dummie Estandar\n",
        "Est_Base = pd.DataFrame({'BRUISES_t':[0],'BRUISES_f':[0],\n",
        "                         'G_COLOR_e':[0],'G_COLOR_g':[0],'G_COLOR_h':[0],'G_COLOR_k':[0],'G_COLOR_n':[0],'G_COLOR_o':[0],'G_COLOR_p':[0],'G_COLOR_r':[0],'G_COLOR_u':[0],'G_COLOR_w':[0],'G_COLOR_y':[0],'G_COLOR_b':[0],\n",
        "                         'G_SIZE_n':[0],'G_SIZE_b':[0],\n",
        "                         'ODOR_a':[0],'ODOR_c':[0],'ODOR_f':[0],'ODOR_l':[0],'ODOR_m':[0],'ODOR_p':[0],'ODOR_s':[0],'ODOR_y':[0],'ODOR_n':[0],\n",
        "                         'POP_a':[0],'POP_c':[0],'POP_n':[0],'POP_v':[0],'POP_y':[0],'POP_s':[0],\n",
        "                         'RING_T_e':[0],'RING_T_f':[0],'RING_T_l':[0],'RING_T_n':[0],'RING_T_p':[0],\n",
        "                         'SPORE_b':[0],'SPORE_k':[0],'SPORE_n':[0],'SPORE_o':[0],'SPORE_r':[0],'SPORE_u':[0],'SPORE_w':[0],'SPORE_y':[0],'SPORE_h':[0],\n",
        "                         'S_COLOR_AB_b':[0],'S_COLOR_AB_e':[0],'S_COLOR_AB_g':[0],'S_COLOR_AB_n':[0],'S_COLOR_AB_o':[0],'S_COLOR_AB_p':[0],'S_COLOR_AB_w':[0],'S_COLOR_AB_y':[0],'S_COLOR_AB_c':[0]})\n",
        "\n",
        "## Estandarización de tabla dummies\n",
        "New_Dummie = pd.concat([Est_Base, New_Dummie], sort=False)\n",
        "New_Dummie = New_Dummie.reset_index()\n",
        "New_Dummie = New_Dummie.fillna(0)\n",
        "New_Dummie = New_Dummie.drop(['ODOR_f','G_SIZE_n','BRUISES_f','G_COLOR_b','G_SIZE_b','ODOR_n','POP_s','RING_T_n','RING_T_p','SPORE_h','S_COLOR_AB_c'],axis=1)\n",
        "New_Dummie = New_Dummie.drop([0],axis=0)\n",
        "\n",
        "## Entrenamiento y cálculo de medidas\n",
        "table = pd.DataFrame({'A':['nn'],\n",
        "                     'KNN_Pred':[0],\n",
        "                     'DIS_Pred':[0],\n",
        "                     'ARB_Pred':[0]})\n",
        "\n",
        "for i in range(0,New_Dummie.index.max()):\n",
        "    data_test = New_Dummie.loc[New_Dummie['index']==i]\n",
        "    data_test = data_test.drop(['index'],axis=1)\n",
        "\n",
        "    A = New.iloc[i,0]\n",
        "    \n",
        "    KNN = neighbors.KNeighborsClassifier(3)\n",
        "    KNN.fit(X_train,y_train)\n",
        "    PRED_KNN = KNN.predict(data_test)\n",
        "    PRED_KNN = PRED_KNN.tolist()[0]\n",
        "\n",
        "    DIS = LinearDiscriminantAnalysis()\n",
        "    DIS.fit(X_train,y_train)\n",
        "    PRED_DIS = DIS.predict(data_test)\n",
        "    PRED_DIS = PRED_DIS.tolist()[0]\n",
        "\n",
        "    ARB = DecisionTreeClassifier(random_state=123)\n",
        "    ARB.fit(X_train,y_train)\n",
        "    PRED_ARB = ARB.predict(data_test)\n",
        "    PRED_ARB = PRED_ARB.tolist()[0]\n",
        "\n",
        "    table.loc[i] = [A,PRED_KNN,PRED_DIS,PRED_ARB]\n",
        "\n",
        "table.replace({1:'Comestible', 0:'Venenoso'})"
      ]
    },
    {
      "cell_type": "markdown",
      "metadata": {
        "id": "tvpIaPsuVXI9"
      },
      "source": [
        "Los resultados demuestran hasta que punto los tres modelos pueden predecir la anturaleza de un hongo con respecto a su anatomía. Para la Boletus Pulcherrimus los tres modelos detectaron que era un hongo venenoso. Para el caso de la Pleurotus Ostreatus detecto que pertenece al grupo de hongos que pueden ser consumidos sin sufrir ningún daño al organismo.\n",
        "\n",
        "El caso más llamativo es del Tricholoma Equestre, el cual es un hongo que es consumido en Europa pero se caracteriza por ser tóxico si se consume en grandes cantidades. Dos de los tres modelos lo catalogaron como comestible, pero de todas formas el segundo lo consideró nocivo.\n",
        "\n",
        "La alimentación del modelo igualmente permitiría que se pudiera reforzar en el proceso de entrenamiento. Es necesario para eso modelar el código que permita alimentarlo a medida que aparecen nuevos registros."
      ]
    },
    {
      "cell_type": "markdown",
      "metadata": {
        "id": "K-wKLb9kVXI9"
      },
      "source": [
        "# 7. Conclusiones"
      ]
    },
    {
      "cell_type": "markdown",
      "metadata": {
        "id": "Ar-6OLi4a0iQ"
      },
      "source": [
        "- Se desarrollaron y seleccionaron modelos de clasificación de hongos siguiendo un proceso que incluyó la evaluación de la correlación de variables dummies, la implementación de la librería PyCaret para identificar modelos ideales basándose en exactitud y la realización de pruebas con scikit-learn. Los tres modelos seleccionados, Análisis Discriminante, Vecinos más Cercanos (KNN) y Árboles de Decisión, fueron evaluados mediante la matriz de confusión, curva ROC y validación cruzada, optimizando el valor K en el caso de KNN.\n",
        "\n",
        "- Los modelos demostraron ser precisos al predecir la naturaleza de los hongos, basándose en su anatomía, al probarse con tres hongos de diversa naturaleza. La exactitud, precisión y sensibilidad de los modelos fueron altas, siendo el modelo de Árboles de Decisión el más exacto. Por lo tanto, los tres modelos pueden ser elegibles para la predicción de la naturaleza de los hongos.\n",
        "\n",
        "- Durante el proceso de desarrollo del modelo de ML, fue crucial analizar y seleccionar las variables relevantes para evitar correlaciones altas que puedan generar ruido en el modelo. Para abordar esta preocupación, se llevaron a cabo análisis descriptivos y se crearon visualizaciones gráficas para comprender mejor el comportamiento de la variable objetivo 'POI' (comestible o venenoso) en relación con las demás variables anatómicas, así como las correlaciones entre ellas. Este análisis permitió seleccionar las variables apropiadas para el entrenamiento del modelo."
      ]
    }
  ],
  "metadata": {
    "colab": {
      "provenance": [],
      "toc_visible": true
    },
    "kernelspec": {
      "display_name": "Python 3 (ipykernel)",
      "language": "python",
      "name": "python3"
    },
    "language_info": {
      "codemirror_mode": {
        "name": "ipython",
        "version": 3
      },
      "file_extension": ".py",
      "mimetype": "text/x-python",
      "name": "python",
      "nbconvert_exporter": "python",
      "pygments_lexer": "ipython3",
      "version": "3.9.13"
    },
    "widgets": {
      "application/vnd.jupyter.widget-state+json": {
        "7a239231056c4380b6360fd1b11213b5": {
          "model_module": "@jupyter-widgets/controls",
          "model_name": "HBoxModel",
          "model_module_version": "1.5.0",
          "state": {
            "_dom_classes": [],
            "_model_module": "@jupyter-widgets/controls",
            "_model_module_version": "1.5.0",
            "_model_name": "HBoxModel",
            "_view_count": null,
            "_view_module": "@jupyter-widgets/controls",
            "_view_module_version": "1.5.0",
            "_view_name": "HBoxView",
            "box_style": "",
            "children": [
              "IPY_MODEL_b58c461f2a254978b96694379612fb31",
              "IPY_MODEL_cd9b02513a12443d9ec566d516725bfa",
              "IPY_MODEL_44ebd4bfa20341d8b0930be6e812f5c6"
            ],
            "layout": "IPY_MODEL_b669568f0f324c0aa2214b8c411d346a"
          }
        },
        "b58c461f2a254978b96694379612fb31": {
          "model_module": "@jupyter-widgets/controls",
          "model_name": "HTMLModel",
          "model_module_version": "1.5.0",
          "state": {
            "_dom_classes": [],
            "_model_module": "@jupyter-widgets/controls",
            "_model_module_version": "1.5.0",
            "_model_name": "HTMLModel",
            "_view_count": null,
            "_view_module": "@jupyter-widgets/controls",
            "_view_module_version": "1.5.0",
            "_view_name": "HTMLView",
            "description": "",
            "description_tooltip": null,
            "layout": "IPY_MODEL_5b7e30e426424d8191587d70257c14f0",
            "placeholder": "​",
            "style": "IPY_MODEL_10d0c206a42b49b0a76c8b0842c299da",
            "value": "Processing: 100%"
          }
        },
        "cd9b02513a12443d9ec566d516725bfa": {
          "model_module": "@jupyter-widgets/controls",
          "model_name": "FloatProgressModel",
          "model_module_version": "1.5.0",
          "state": {
            "_dom_classes": [],
            "_model_module": "@jupyter-widgets/controls",
            "_model_module_version": "1.5.0",
            "_model_name": "FloatProgressModel",
            "_view_count": null,
            "_view_module": "@jupyter-widgets/controls",
            "_view_module_version": "1.5.0",
            "_view_name": "ProgressView",
            "bar_style": "",
            "description": "",
            "description_tooltip": null,
            "layout": "IPY_MODEL_d8cc6c9b45f44517bd1bfc24864d87e7",
            "max": 57,
            "min": 0,
            "orientation": "horizontal",
            "style": "IPY_MODEL_89d2b8a7cb1a488cb6188bda62f4aec3",
            "value": 57
          }
        },
        "44ebd4bfa20341d8b0930be6e812f5c6": {
          "model_module": "@jupyter-widgets/controls",
          "model_name": "HTMLModel",
          "model_module_version": "1.5.0",
          "state": {
            "_dom_classes": [],
            "_model_module": "@jupyter-widgets/controls",
            "_model_module_version": "1.5.0",
            "_model_name": "HTMLModel",
            "_view_count": null,
            "_view_module": "@jupyter-widgets/controls",
            "_view_module_version": "1.5.0",
            "_view_name": "HTMLView",
            "description": "",
            "description_tooltip": null,
            "layout": "IPY_MODEL_d3ee18c2fcaa4298b80e42f8f04327df",
            "placeholder": "​",
            "style": "IPY_MODEL_baa0ad014f554eb4bf2bfa5567cac602",
            "value": " 57/57 [01:03&lt;00:00,  1.93s/it]"
          }
        },
        "b669568f0f324c0aa2214b8c411d346a": {
          "model_module": "@jupyter-widgets/base",
          "model_name": "LayoutModel",
          "model_module_version": "1.2.0",
          "state": {
            "_model_module": "@jupyter-widgets/base",
            "_model_module_version": "1.2.0",
            "_model_name": "LayoutModel",
            "_view_count": null,
            "_view_module": "@jupyter-widgets/base",
            "_view_module_version": "1.2.0",
            "_view_name": "LayoutView",
            "align_content": null,
            "align_items": null,
            "align_self": null,
            "border": null,
            "bottom": null,
            "display": null,
            "flex": null,
            "flex_flow": null,
            "grid_area": null,
            "grid_auto_columns": null,
            "grid_auto_flow": null,
            "grid_auto_rows": null,
            "grid_column": null,
            "grid_gap": null,
            "grid_row": null,
            "grid_template_areas": null,
            "grid_template_columns": null,
            "grid_template_rows": null,
            "height": null,
            "justify_content": null,
            "justify_items": null,
            "left": null,
            "margin": null,
            "max_height": null,
            "max_width": null,
            "min_height": null,
            "min_width": null,
            "object_fit": null,
            "object_position": null,
            "order": null,
            "overflow": null,
            "overflow_x": null,
            "overflow_y": null,
            "padding": null,
            "right": null,
            "top": null,
            "visibility": "hidden",
            "width": null
          }
        },
        "5b7e30e426424d8191587d70257c14f0": {
          "model_module": "@jupyter-widgets/base",
          "model_name": "LayoutModel",
          "model_module_version": "1.2.0",
          "state": {
            "_model_module": "@jupyter-widgets/base",
            "_model_module_version": "1.2.0",
            "_model_name": "LayoutModel",
            "_view_count": null,
            "_view_module": "@jupyter-widgets/base",
            "_view_module_version": "1.2.0",
            "_view_name": "LayoutView",
            "align_content": null,
            "align_items": null,
            "align_self": null,
            "border": null,
            "bottom": null,
            "display": null,
            "flex": null,
            "flex_flow": null,
            "grid_area": null,
            "grid_auto_columns": null,
            "grid_auto_flow": null,
            "grid_auto_rows": null,
            "grid_column": null,
            "grid_gap": null,
            "grid_row": null,
            "grid_template_areas": null,
            "grid_template_columns": null,
            "grid_template_rows": null,
            "height": null,
            "justify_content": null,
            "justify_items": null,
            "left": null,
            "margin": null,
            "max_height": null,
            "max_width": null,
            "min_height": null,
            "min_width": null,
            "object_fit": null,
            "object_position": null,
            "order": null,
            "overflow": null,
            "overflow_x": null,
            "overflow_y": null,
            "padding": null,
            "right": null,
            "top": null,
            "visibility": null,
            "width": null
          }
        },
        "10d0c206a42b49b0a76c8b0842c299da": {
          "model_module": "@jupyter-widgets/controls",
          "model_name": "DescriptionStyleModel",
          "model_module_version": "1.5.0",
          "state": {
            "_model_module": "@jupyter-widgets/controls",
            "_model_module_version": "1.5.0",
            "_model_name": "DescriptionStyleModel",
            "_view_count": null,
            "_view_module": "@jupyter-widgets/base",
            "_view_module_version": "1.2.0",
            "_view_name": "StyleView",
            "description_width": ""
          }
        },
        "d8cc6c9b45f44517bd1bfc24864d87e7": {
          "model_module": "@jupyter-widgets/base",
          "model_name": "LayoutModel",
          "model_module_version": "1.2.0",
          "state": {
            "_model_module": "@jupyter-widgets/base",
            "_model_module_version": "1.2.0",
            "_model_name": "LayoutModel",
            "_view_count": null,
            "_view_module": "@jupyter-widgets/base",
            "_view_module_version": "1.2.0",
            "_view_name": "LayoutView",
            "align_content": null,
            "align_items": null,
            "align_self": null,
            "border": null,
            "bottom": null,
            "display": null,
            "flex": null,
            "flex_flow": null,
            "grid_area": null,
            "grid_auto_columns": null,
            "grid_auto_flow": null,
            "grid_auto_rows": null,
            "grid_column": null,
            "grid_gap": null,
            "grid_row": null,
            "grid_template_areas": null,
            "grid_template_columns": null,
            "grid_template_rows": null,
            "height": null,
            "justify_content": null,
            "justify_items": null,
            "left": null,
            "margin": null,
            "max_height": null,
            "max_width": null,
            "min_height": null,
            "min_width": null,
            "object_fit": null,
            "object_position": null,
            "order": null,
            "overflow": null,
            "overflow_x": null,
            "overflow_y": null,
            "padding": null,
            "right": null,
            "top": null,
            "visibility": null,
            "width": null
          }
        },
        "89d2b8a7cb1a488cb6188bda62f4aec3": {
          "model_module": "@jupyter-widgets/controls",
          "model_name": "ProgressStyleModel",
          "model_module_version": "1.5.0",
          "state": {
            "_model_module": "@jupyter-widgets/controls",
            "_model_module_version": "1.5.0",
            "_model_name": "ProgressStyleModel",
            "_view_count": null,
            "_view_module": "@jupyter-widgets/base",
            "_view_module_version": "1.2.0",
            "_view_name": "StyleView",
            "bar_color": null,
            "description_width": ""
          }
        },
        "d3ee18c2fcaa4298b80e42f8f04327df": {
          "model_module": "@jupyter-widgets/base",
          "model_name": "LayoutModel",
          "model_module_version": "1.2.0",
          "state": {
            "_model_module": "@jupyter-widgets/base",
            "_model_module_version": "1.2.0",
            "_model_name": "LayoutModel",
            "_view_count": null,
            "_view_module": "@jupyter-widgets/base",
            "_view_module_version": "1.2.0",
            "_view_name": "LayoutView",
            "align_content": null,
            "align_items": null,
            "align_self": null,
            "border": null,
            "bottom": null,
            "display": null,
            "flex": null,
            "flex_flow": null,
            "grid_area": null,
            "grid_auto_columns": null,
            "grid_auto_flow": null,
            "grid_auto_rows": null,
            "grid_column": null,
            "grid_gap": null,
            "grid_row": null,
            "grid_template_areas": null,
            "grid_template_columns": null,
            "grid_template_rows": null,
            "height": null,
            "justify_content": null,
            "justify_items": null,
            "left": null,
            "margin": null,
            "max_height": null,
            "max_width": null,
            "min_height": null,
            "min_width": null,
            "object_fit": null,
            "object_position": null,
            "order": null,
            "overflow": null,
            "overflow_x": null,
            "overflow_y": null,
            "padding": null,
            "right": null,
            "top": null,
            "visibility": null,
            "width": null
          }
        },
        "baa0ad014f554eb4bf2bfa5567cac602": {
          "model_module": "@jupyter-widgets/controls",
          "model_name": "DescriptionStyleModel",
          "model_module_version": "1.5.0",
          "state": {
            "_model_module": "@jupyter-widgets/controls",
            "_model_module_version": "1.5.0",
            "_model_name": "DescriptionStyleModel",
            "_view_count": null,
            "_view_module": "@jupyter-widgets/base",
            "_view_module_version": "1.2.0",
            "_view_name": "StyleView",
            "description_width": ""
          }
        },
        "075c2ec51ea648f283192a3bb5490827": {
          "model_module": "@jupyter-widgets/controls",
          "model_name": "HBoxModel",
          "model_module_version": "1.5.0",
          "state": {
            "_dom_classes": [],
            "_model_module": "@jupyter-widgets/controls",
            "_model_module_version": "1.5.0",
            "_model_name": "HBoxModel",
            "_view_count": null,
            "_view_module": "@jupyter-widgets/controls",
            "_view_module_version": "1.5.0",
            "_view_name": "HBoxView",
            "box_style": "",
            "children": [
              "IPY_MODEL_a55359f774164774b98721243fa00d65",
              "IPY_MODEL_f3e521e7e1ed476ba7a01fd726c5a8b2",
              "IPY_MODEL_22241e8be67c4b6e9c343fe63499a5f1"
            ],
            "layout": "IPY_MODEL_f3577c929a044b168687aef11387f441"
          }
        },
        "a55359f774164774b98721243fa00d65": {
          "model_module": "@jupyter-widgets/controls",
          "model_name": "HTMLModel",
          "model_module_version": "1.5.0",
          "state": {
            "_dom_classes": [],
            "_model_module": "@jupyter-widgets/controls",
            "_model_module_version": "1.5.0",
            "_model_name": "HTMLModel",
            "_view_count": null,
            "_view_module": "@jupyter-widgets/controls",
            "_view_module_version": "1.5.0",
            "_view_name": "HTMLView",
            "description": "",
            "description_tooltip": null,
            "layout": "IPY_MODEL_dac6fae570da4827a4c86623c5bdf8d5",
            "placeholder": "​",
            "style": "IPY_MODEL_7a4fab0feb5242069521569abe1ba1a1",
            "value": "Processing: 100%"
          }
        },
        "f3e521e7e1ed476ba7a01fd726c5a8b2": {
          "model_module": "@jupyter-widgets/controls",
          "model_name": "FloatProgressModel",
          "model_module_version": "1.5.0",
          "state": {
            "_dom_classes": [],
            "_model_module": "@jupyter-widgets/controls",
            "_model_module_version": "1.5.0",
            "_model_name": "FloatProgressModel",
            "_view_count": null,
            "_view_module": "@jupyter-widgets/controls",
            "_view_module_version": "1.5.0",
            "_view_name": "ProgressView",
            "bar_style": "",
            "description": "",
            "description_tooltip": null,
            "layout": "IPY_MODEL_003b394d44174d019e3a01af1345c33f",
            "max": 4,
            "min": 0,
            "orientation": "horizontal",
            "style": "IPY_MODEL_a8eeb7685d154e378bfb37d15bb923b5",
            "value": 4
          }
        },
        "22241e8be67c4b6e9c343fe63499a5f1": {
          "model_module": "@jupyter-widgets/controls",
          "model_name": "HTMLModel",
          "model_module_version": "1.5.0",
          "state": {
            "_dom_classes": [],
            "_model_module": "@jupyter-widgets/controls",
            "_model_module_version": "1.5.0",
            "_model_name": "HTMLModel",
            "_view_count": null,
            "_view_module": "@jupyter-widgets/controls",
            "_view_module_version": "1.5.0",
            "_view_name": "HTMLView",
            "description": "",
            "description_tooltip": null,
            "layout": "IPY_MODEL_8e868d8f9fb94f2e85c9933b03b0b71d",
            "placeholder": "​",
            "style": "IPY_MODEL_f0774b03a79f442689495e458455958b",
            "value": " 4/4 [00:02&lt;00:00,  1.98it/s]"
          }
        },
        "f3577c929a044b168687aef11387f441": {
          "model_module": "@jupyter-widgets/base",
          "model_name": "LayoutModel",
          "model_module_version": "1.2.0",
          "state": {
            "_model_module": "@jupyter-widgets/base",
            "_model_module_version": "1.2.0",
            "_model_name": "LayoutModel",
            "_view_count": null,
            "_view_module": "@jupyter-widgets/base",
            "_view_module_version": "1.2.0",
            "_view_name": "LayoutView",
            "align_content": null,
            "align_items": null,
            "align_self": null,
            "border": null,
            "bottom": null,
            "display": null,
            "flex": null,
            "flex_flow": null,
            "grid_area": null,
            "grid_auto_columns": null,
            "grid_auto_flow": null,
            "grid_auto_rows": null,
            "grid_column": null,
            "grid_gap": null,
            "grid_row": null,
            "grid_template_areas": null,
            "grid_template_columns": null,
            "grid_template_rows": null,
            "height": null,
            "justify_content": null,
            "justify_items": null,
            "left": null,
            "margin": null,
            "max_height": null,
            "max_width": null,
            "min_height": null,
            "min_width": null,
            "object_fit": null,
            "object_position": null,
            "order": null,
            "overflow": null,
            "overflow_x": null,
            "overflow_y": null,
            "padding": null,
            "right": null,
            "top": null,
            "visibility": "hidden",
            "width": null
          }
        },
        "dac6fae570da4827a4c86623c5bdf8d5": {
          "model_module": "@jupyter-widgets/base",
          "model_name": "LayoutModel",
          "model_module_version": "1.2.0",
          "state": {
            "_model_module": "@jupyter-widgets/base",
            "_model_module_version": "1.2.0",
            "_model_name": "LayoutModel",
            "_view_count": null,
            "_view_module": "@jupyter-widgets/base",
            "_view_module_version": "1.2.0",
            "_view_name": "LayoutView",
            "align_content": null,
            "align_items": null,
            "align_self": null,
            "border": null,
            "bottom": null,
            "display": null,
            "flex": null,
            "flex_flow": null,
            "grid_area": null,
            "grid_auto_columns": null,
            "grid_auto_flow": null,
            "grid_auto_rows": null,
            "grid_column": null,
            "grid_gap": null,
            "grid_row": null,
            "grid_template_areas": null,
            "grid_template_columns": null,
            "grid_template_rows": null,
            "height": null,
            "justify_content": null,
            "justify_items": null,
            "left": null,
            "margin": null,
            "max_height": null,
            "max_width": null,
            "min_height": null,
            "min_width": null,
            "object_fit": null,
            "object_position": null,
            "order": null,
            "overflow": null,
            "overflow_x": null,
            "overflow_y": null,
            "padding": null,
            "right": null,
            "top": null,
            "visibility": null,
            "width": null
          }
        },
        "7a4fab0feb5242069521569abe1ba1a1": {
          "model_module": "@jupyter-widgets/controls",
          "model_name": "DescriptionStyleModel",
          "model_module_version": "1.5.0",
          "state": {
            "_model_module": "@jupyter-widgets/controls",
            "_model_module_version": "1.5.0",
            "_model_name": "DescriptionStyleModel",
            "_view_count": null,
            "_view_module": "@jupyter-widgets/base",
            "_view_module_version": "1.2.0",
            "_view_name": "StyleView",
            "description_width": ""
          }
        },
        "003b394d44174d019e3a01af1345c33f": {
          "model_module": "@jupyter-widgets/base",
          "model_name": "LayoutModel",
          "model_module_version": "1.2.0",
          "state": {
            "_model_module": "@jupyter-widgets/base",
            "_model_module_version": "1.2.0",
            "_model_name": "LayoutModel",
            "_view_count": null,
            "_view_module": "@jupyter-widgets/base",
            "_view_module_version": "1.2.0",
            "_view_name": "LayoutView",
            "align_content": null,
            "align_items": null,
            "align_self": null,
            "border": null,
            "bottom": null,
            "display": null,
            "flex": null,
            "flex_flow": null,
            "grid_area": null,
            "grid_auto_columns": null,
            "grid_auto_flow": null,
            "grid_auto_rows": null,
            "grid_column": null,
            "grid_gap": null,
            "grid_row": null,
            "grid_template_areas": null,
            "grid_template_columns": null,
            "grid_template_rows": null,
            "height": null,
            "justify_content": null,
            "justify_items": null,
            "left": null,
            "margin": null,
            "max_height": null,
            "max_width": null,
            "min_height": null,
            "min_width": null,
            "object_fit": null,
            "object_position": null,
            "order": null,
            "overflow": null,
            "overflow_x": null,
            "overflow_y": null,
            "padding": null,
            "right": null,
            "top": null,
            "visibility": null,
            "width": null
          }
        },
        "a8eeb7685d154e378bfb37d15bb923b5": {
          "model_module": "@jupyter-widgets/controls",
          "model_name": "ProgressStyleModel",
          "model_module_version": "1.5.0",
          "state": {
            "_model_module": "@jupyter-widgets/controls",
            "_model_module_version": "1.5.0",
            "_model_name": "ProgressStyleModel",
            "_view_count": null,
            "_view_module": "@jupyter-widgets/base",
            "_view_module_version": "1.2.0",
            "_view_name": "StyleView",
            "bar_color": null,
            "description_width": ""
          }
        },
        "8e868d8f9fb94f2e85c9933b03b0b71d": {
          "model_module": "@jupyter-widgets/base",
          "model_name": "LayoutModel",
          "model_module_version": "1.2.0",
          "state": {
            "_model_module": "@jupyter-widgets/base",
            "_model_module_version": "1.2.0",
            "_model_name": "LayoutModel",
            "_view_count": null,
            "_view_module": "@jupyter-widgets/base",
            "_view_module_version": "1.2.0",
            "_view_name": "LayoutView",
            "align_content": null,
            "align_items": null,
            "align_self": null,
            "border": null,
            "bottom": null,
            "display": null,
            "flex": null,
            "flex_flow": null,
            "grid_area": null,
            "grid_auto_columns": null,
            "grid_auto_flow": null,
            "grid_auto_rows": null,
            "grid_column": null,
            "grid_gap": null,
            "grid_row": null,
            "grid_template_areas": null,
            "grid_template_columns": null,
            "grid_template_rows": null,
            "height": null,
            "justify_content": null,
            "justify_items": null,
            "left": null,
            "margin": null,
            "max_height": null,
            "max_width": null,
            "min_height": null,
            "min_width": null,
            "object_fit": null,
            "object_position": null,
            "order": null,
            "overflow": null,
            "overflow_x": null,
            "overflow_y": null,
            "padding": null,
            "right": null,
            "top": null,
            "visibility": null,
            "width": null
          }
        },
        "f0774b03a79f442689495e458455958b": {
          "model_module": "@jupyter-widgets/controls",
          "model_name": "DescriptionStyleModel",
          "model_module_version": "1.5.0",
          "state": {
            "_model_module": "@jupyter-widgets/controls",
            "_model_module_version": "1.5.0",
            "_model_name": "DescriptionStyleModel",
            "_view_count": null,
            "_view_module": "@jupyter-widgets/base",
            "_view_module_version": "1.2.0",
            "_view_name": "StyleView",
            "description_width": ""
          }
        }
      }
    }
  },
  "nbformat": 4,
  "nbformat_minor": 0
}